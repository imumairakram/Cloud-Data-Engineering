{
 "cells": [
  {
   "cell_type": "markdown",
   "id": "6293cc50",
   "metadata": {},
   "source": [
    "# 100 numpy exercises\n",
    "\n",
    "This is a collection of exercises that have been collected in the numpy mailing list, on stack overflow\n",
    "and in the numpy documentation. The goal of this collection is to offer a quick reference for both old\n",
    "and new users but also to provide a set of exercises for those who teach.\n",
    "\n",
    "\n",
    "If you find an error or think you've a better way to solve some of them, feel\n",
    "free to open an issue at <https://github.com/rougier/numpy-100>."
   ]
  },
  {
   "cell_type": "markdown",
   "id": "a167c052",
   "metadata": {},
   "source": [
    "File automatically generated. See the documentation to update questions/answers/hints programmatically."
   ]
  },
  {
   "cell_type": "markdown",
   "id": "57fc0ee5",
   "metadata": {},
   "source": [
    "Run the `initialize.py` module, then for each question you can query the\n",
    "answer or an hint with `hint(n)` or `answer(n)` for `n` question number."
   ]
  },
  {
   "cell_type": "code",
   "execution_count": null,
   "id": "36fffba3-2356-4448-8eee-32f0032994b6",
   "metadata": {},
   "outputs": [],
   "source": [
    "%run initialise.ipynb"
   ]
  },
  {
   "cell_type": "markdown",
   "id": "3c1222ff",
   "metadata": {},
   "source": [
    "#### 1. Import the numpy package under the name `np` (★☆☆)"
   ]
  },
  {
   "cell_type": "code",
   "execution_count": 2,
   "id": "f52e6a0b",
   "metadata": {},
   "outputs": [],
   "source": [
    "import numpy as np"
   ]
  },
  {
   "cell_type": "markdown",
   "id": "9d9f4753",
   "metadata": {},
   "source": [
    "#### 2. Print the numpy version and the configuration (★☆☆)"
   ]
  },
  {
   "cell_type": "code",
   "execution_count": 40,
   "id": "b7fa5fa1",
   "metadata": {},
   "outputs": [
    {
     "name": "stdout",
     "output_type": "stream",
     "text": [
      "1.26.4\n",
      "Build Dependencies:\n",
      "  blas:\n",
      "    detection method: pkgconfig\n",
      "    found: true\n",
      "    include directory: C:/Users/Administrator/anaconda3/Library/include\n",
      "    lib directory: C:/Users/Administrator/anaconda3/Library/lib\n",
      "    name: mkl-sdl\n",
      "    openblas configuration: unknown\n",
      "    pc file directory: C:\\b\\abs_c1ywpu18ar\\croot\\numpy_and_numpy_base_1708638681471\\_h_env\\Library\\lib\\pkgconfig\n",
      "    version: '2023.1'\n",
      "  lapack:\n",
      "    detection method: internal\n",
      "    found: true\n",
      "    include directory: unknown\n",
      "    lib directory: unknown\n",
      "    name: dep1868282989520\n",
      "    openblas configuration: unknown\n",
      "    pc file directory: unknown\n",
      "    version: 1.26.4\n",
      "Compilers:\n",
      "  c:\n",
      "    commands: cl.exe\n",
      "    linker: link\n",
      "    name: msvc\n",
      "    version: 19.29.30154\n",
      "  c++:\n",
      "    commands: cl.exe\n",
      "    linker: link\n",
      "    name: msvc\n",
      "    version: 19.29.30154\n",
      "  cython:\n",
      "    commands: cython\n",
      "    linker: cython\n",
      "    name: cython\n",
      "    version: 3.0.8\n",
      "Machine Information:\n",
      "  build:\n",
      "    cpu: x86_64\n",
      "    endian: little\n",
      "    family: x86_64\n",
      "    system: windows\n",
      "  host:\n",
      "    cpu: x86_64\n",
      "    endian: little\n",
      "    family: x86_64\n",
      "    system: windows\n",
      "Python Information:\n",
      "  path: C:\\b\\abs_c1ywpu18ar\\croot\\numpy_and_numpy_base_1708638681471\\_h_env\\python.exe\n",
      "  version: '3.11'\n",
      "SIMD Extensions:\n",
      "  baseline:\n",
      "  - SSE\n",
      "  - SSE2\n",
      "  - SSE3\n",
      "  found:\n",
      "  - SSSE3\n",
      "  - SSE41\n",
      "  - POPCNT\n",
      "  - SSE42\n",
      "  - AVX\n",
      "  - F16C\n",
      "  - FMA3\n",
      "  - AVX2\n",
      "  not found:\n",
      "  - AVX512F\n",
      "  - AVX512CD\n",
      "  - AVX512_SKX\n",
      "  - AVX512_CLX\n",
      "  - AVX512_CNL\n",
      "  - AVX512_ICL\n",
      "\n"
     ]
    }
   ],
   "source": [
    "print(np.__version__)\n",
    "np.show_config()"
   ]
  },
  {
   "cell_type": "markdown",
   "id": "3e4c23c6",
   "metadata": {},
   "source": [
    "#### 3. Create a null vector of size 10 (★☆☆)"
   ]
  },
  {
   "cell_type": "code",
   "execution_count": 39,
   "id": "083c5c46",
   "metadata": {},
   "outputs": [
    {
     "name": "stdout",
     "output_type": "stream",
     "text": [
      "[0. 0. 0. 0. 0. 0. 0. 0. 0. 0.]\n"
     ]
    }
   ],
   "source": [
    "null_vector = np.zeros(10)\n",
    "print(null_vector)"
   ]
  },
  {
   "cell_type": "markdown",
   "id": "c38bbe82",
   "metadata": {},
   "source": [
    "#### 4. How to find the memory size of any array (★☆☆)"
   ]
  },
  {
   "cell_type": "code",
   "execution_count": 49,
   "id": "02b04021",
   "metadata": {},
   "outputs": [
    {
     "name": "stdout",
     "output_type": "stream",
     "text": [
      "Memory size: 80\n"
     ]
    }
   ],
   "source": [
    "array = np.zeros(10)\n",
    "\n",
    "memory_size_manual = array.size * array.itemsize\n",
    "print(\"Memory size:\", memory_size_manual)"
   ]
  },
  {
   "cell_type": "markdown",
   "id": "67f893d4",
   "metadata": {},
   "source": [
    "#### 5. How to get the documentation of the numpy add function from the command line? (★☆☆)"
   ]
  },
  {
   "cell_type": "code",
   "execution_count": 48,
   "id": "40e6b70d",
   "metadata": {},
   "outputs": [
    {
     "name": "stdout",
     "output_type": "stream",
     "text": [
      "Help on ufunc:\n",
      "\n",
      "add = <ufunc 'add'>\n",
      "    add(x1, x2, /, out=None, *, where=True, casting='same_kind', order='K', dtype=None, subok=True[, signature, extobj])\n",
      "    \n",
      "    Add arguments element-wise.\n",
      "    \n",
      "    Parameters\n",
      "    ----------\n",
      "    x1, x2 : array_like\n",
      "        The arrays to be added.\n",
      "        If ``x1.shape != x2.shape``, they must be broadcastable to a common\n",
      "        shape (which becomes the shape of the output).\n",
      "    out : ndarray, None, or tuple of ndarray and None, optional\n",
      "        A location into which the result is stored. If provided, it must have\n",
      "        a shape that the inputs broadcast to. If not provided or None,\n",
      "        a freshly-allocated array is returned. A tuple (possible only as a\n",
      "        keyword argument) must have length equal to the number of outputs.\n",
      "    where : array_like, optional\n",
      "        This condition is broadcast over the input. At locations where the\n",
      "        condition is True, the `out` array will be set to the ufunc result.\n",
      "        Elsewhere, the `out` array will retain its original value.\n",
      "        Note that if an uninitialized `out` array is created via the default\n",
      "        ``out=None``, locations within it where the condition is False will\n",
      "        remain uninitialized.\n",
      "    **kwargs\n",
      "        For other keyword-only arguments, see the\n",
      "        :ref:`ufunc docs <ufuncs.kwargs>`.\n",
      "    \n",
      "    Returns\n",
      "    -------\n",
      "    add : ndarray or scalar\n",
      "        The sum of `x1` and `x2`, element-wise.\n",
      "        This is a scalar if both `x1` and `x2` are scalars.\n",
      "    \n",
      "    Notes\n",
      "    -----\n",
      "    Equivalent to `x1` + `x2` in terms of array broadcasting.\n",
      "    \n",
      "    Examples\n",
      "    --------\n",
      "    >>> np.add(1.0, 4.0)\n",
      "    5.0\n",
      "    >>> x1 = np.arange(9.0).reshape((3, 3))\n",
      "    >>> x2 = np.arange(3.0)\n",
      "    >>> np.add(x1, x2)\n",
      "    array([[  0.,   2.,   4.],\n",
      "           [  3.,   5.,   7.],\n",
      "           [  6.,   8.,  10.]])\n",
      "    \n",
      "    The ``+`` operator can be used as a shorthand for ``np.add`` on ndarrays.\n",
      "    \n",
      "    >>> x1 = np.arange(9.0).reshape((3, 3))\n",
      "    >>> x2 = np.arange(3.0)\n",
      "    >>> x1 + x2\n",
      "    array([[ 0.,  2.,  4.],\n",
      "           [ 3.,  5.,  7.],\n",
      "           [ 6.,  8., 10.]])\n",
      "\n"
     ]
    }
   ],
   "source": [
    "help(np.add)"
   ]
  },
  {
   "cell_type": "markdown",
   "id": "e0c739c6",
   "metadata": {},
   "source": [
    "#### 6. Create a null vector of size 10 but the fifth value which is 1 (★☆☆)"
   ]
  },
  {
   "cell_type": "code",
   "execution_count": 50,
   "id": "bcceacf7",
   "metadata": {},
   "outputs": [
    {
     "name": "stdout",
     "output_type": "stream",
     "text": [
      "[0. 0. 0. 0. 1. 0. 0. 0. 0. 0.]\n"
     ]
    }
   ],
   "source": [
    "vector = np.zeros(10)\n",
    "vector[4] = 1\n",
    "print(vector)"
   ]
  },
  {
   "cell_type": "markdown",
   "id": "fbebedab",
   "metadata": {},
   "source": [
    "#### 7. Create a vector with values ranging from 10 to 49 (★☆☆)"
   ]
  },
  {
   "cell_type": "code",
   "execution_count": 52,
   "id": "3d117d54",
   "metadata": {},
   "outputs": [
    {
     "name": "stdout",
     "output_type": "stream",
     "text": [
      "[10 11 12 13 14 15 16 17 18 19 20 21 22 23 24 25 26 27 28 29 30 31 32 33\n",
      " 34 35 36 37 38 39 40 41 42 43 44 45 46 47 48 49]\n"
     ]
    }
   ],
   "source": [
    "vector = np.arange(10,50)\n",
    "print(vector)"
   ]
  },
  {
   "cell_type": "markdown",
   "id": "ad0bff02",
   "metadata": {},
   "source": [
    "#### 8. Reverse a vector (first element becomes last) (★☆☆)"
   ]
  },
  {
   "cell_type": "code",
   "execution_count": 51,
   "id": "22d23470",
   "metadata": {},
   "outputs": [
    {
     "name": "stdout",
     "output_type": "stream",
     "text": [
      "[49 48 47 46 45 44 43 42 41 40 39 38 37 36 35 34 33 32 31 30 29 28 27 26\n",
      " 25 24 23 22 21 20 19 18 17 16 15 14 13 12 11 10]\n"
     ]
    }
   ],
   "source": [
    "vector = np.arange(10, 50)\n",
    "reverse_vector = vector[::-1]\n",
    "\n",
    "print(reverse_vector)"
   ]
  },
  {
   "cell_type": "markdown",
   "id": "9f59d7e1",
   "metadata": {},
   "source": [
    "#### 9. Create a 3x3 matrix with values ranging from 0 to 8 (★☆☆)"
   ]
  },
  {
   "cell_type": "code",
   "execution_count": 43,
   "id": "7449e82d",
   "metadata": {},
   "outputs": [
    {
     "name": "stdout",
     "output_type": "stream",
     "text": [
      "[[0 1 2]\n",
      " [3 4 5]\n",
      " [6 7 8]]\n"
     ]
    }
   ],
   "source": [
    "meta_data = np.array([[0, 1, 2],\n",
    "                      [3, 4, 5],\n",
    "                      [6, 7, 8]])\n",
    "print(meta_data)"
   ]
  },
  {
   "cell_type": "markdown",
   "id": "f374c4cf",
   "metadata": {},
   "source": [
    "#### 10. Find indices of non-zero elements from [1,2,0,0,4,0] (★☆☆)"
   ]
  },
  {
   "cell_type": "code",
   "execution_count": 42,
   "id": "1a84bed8",
   "metadata": {},
   "outputs": [
    {
     "name": "stdout",
     "output_type": "stream",
     "text": [
      "[0 1 4]\n"
     ]
    }
   ],
   "source": [
    "array = np.array([1, 2, 0, 0, 4, 0])\n",
    "non_zero_indices = np.nonzero(array)\n",
    "print(non_zero_indices[0])"
   ]
  },
  {
   "cell_type": "markdown",
   "id": "9c4707f5",
   "metadata": {},
   "source": [
    "#### 11. Create a 3x3 identity matrix (★☆☆)"
   ]
  },
  {
   "cell_type": "code",
   "execution_count": 54,
   "id": "29dc1fd3",
   "metadata": {},
   "outputs": [
    {
     "name": "stdout",
     "output_type": "stream",
     "text": [
      "[[1. 0. 0.]\n",
      " [0. 1. 0.]\n",
      " [0. 0. 1.]]\n"
     ]
    }
   ],
   "source": [
    "identity_matrix = np.eye(3)\n",
    "print(identity_matrix)"
   ]
  },
  {
   "cell_type": "markdown",
   "id": "3bac294a",
   "metadata": {},
   "source": [
    "#### 12. Create a 3x3x3 array with random values (★☆☆)"
   ]
  },
  {
   "cell_type": "code",
   "execution_count": 44,
   "id": "eadfae67",
   "metadata": {},
   "outputs": [
    {
     "name": "stdout",
     "output_type": "stream",
     "text": [
      "[[[0.57397582 0.80715273 0.75980715]\n",
      "  [0.12146324 0.16126136 0.19693708]\n",
      "  [0.53983271 0.0296828  0.61091959]]\n",
      "\n",
      " [[0.29926438 0.18396502 0.85315048]\n",
      "  [0.76164044 0.62385314 0.05095066]\n",
      "  [0.2481116  0.91666317 0.88735894]]\n",
      "\n",
      " [[0.17543391 0.05448794 0.88657524]\n",
      "  [0.37323495 0.45861524 0.01473972]\n",
      "  [0.16149783 0.06190926 0.36101308]]]\n"
     ]
    }
   ],
   "source": [
    "random_array = np.random.random((3, 3, 3))\n",
    "print(random_array)"
   ]
  },
  {
   "cell_type": "markdown",
   "id": "466c2989",
   "metadata": {},
   "source": [
    "#### 13. Create a 10x10 array with random values and find the minimum and maximum values (★☆☆)"
   ]
  },
  {
   "cell_type": "code",
   "execution_count": 45,
   "id": "9a74dbfc",
   "metadata": {},
   "outputs": [
    {
     "name": "stdout",
     "output_type": "stream",
     "text": [
      "0.008520414872679072 0.9894910231066969\n"
     ]
    }
   ],
   "source": [
    "Z = np.random.random((10, 10))\n",
    "Zmin, Zmax = Z.min(), Z.max()\n",
    "\n",
    "print(Zmin, Zmax)"
   ]
  },
  {
   "cell_type": "markdown",
   "id": "53a8edb2",
   "metadata": {},
   "source": [
    "#### 14. Create a random vector of size 30 and find the mean value (★☆☆)"
   ]
  },
  {
   "cell_type": "code",
   "execution_count": 41,
   "id": "6691530b",
   "metadata": {},
   "outputs": [
    {
     "name": "stdout",
     "output_type": "stream",
     "text": [
      "Random Vector: [0.72585786 0.28270962 0.23912495 0.7992695  0.31131123 0.10587117\n",
      " 0.89103247 0.25390174 0.9756632  0.66559572 0.83790357 0.65933143\n",
      " 0.6674165  0.88687618 0.71729837 0.15834758 0.70340281 0.64865636\n",
      " 0.57651374 0.63506275 0.19672274 0.40921514 0.57168811 0.03962442\n",
      " 0.84641997 0.1883184  0.58061446 0.23821023 0.63844495 0.90223702]\n",
      "Mean Value: 0.5450880735632144\n"
     ]
    }
   ],
   "source": [
    "random_vector = np.random.random(30)\n",
    "mean_value = random_vector.mean()\n",
    "\n",
    "print(\"Random Vector:\", random_vector)\n",
    "print(\"Mean Value:\", mean_value)\n"
   ]
  },
  {
   "cell_type": "markdown",
   "id": "cbaad31c",
   "metadata": {},
   "source": [
    "#### 15. Create a 2d array with 1 on the border and 0 inside (★☆☆)"
   ]
  },
  {
   "cell_type": "code",
   "execution_count": 46,
   "id": "ad8308e3",
   "metadata": {},
   "outputs": [
    {
     "name": "stdout",
     "output_type": "stream",
     "text": [
      "[[1. 1. 1. 1. 1. 1. 1. 1. 1. 1.]\n",
      " [1. 0. 0. 0. 0. 0. 0. 0. 0. 1.]\n",
      " [1. 0. 0. 0. 0. 0. 0. 0. 0. 1.]\n",
      " [1. 0. 0. 0. 0. 0. 0. 0. 0. 1.]\n",
      " [1. 0. 0. 0. 0. 0. 0. 0. 0. 1.]\n",
      " [1. 0. 0. 0. 0. 0. 0. 0. 0. 1.]\n",
      " [1. 0. 0. 0. 0. 0. 0. 0. 0. 1.]\n",
      " [1. 0. 0. 0. 0. 0. 0. 0. 0. 1.]\n",
      " [1. 0. 0. 0. 0. 0. 0. 0. 0. 1.]\n",
      " [1. 1. 1. 1. 1. 1. 1. 1. 1. 1.]]\n"
     ]
    }
   ],
   "source": [
    "Z = np.ones((10, 10))\n",
    "Z[1:-1, 1:-1] = 0\n",
    "\n",
    "print(Z)"
   ]
  },
  {
   "cell_type": "markdown",
   "id": "c5ecc267",
   "metadata": {},
   "source": [
    "#### 16. How to add a border (filled with 0's) around an existing array? (★☆☆)"
   ]
  },
  {
   "cell_type": "code",
   "execution_count": 55,
   "id": "9d5c78c4",
   "metadata": {},
   "outputs": [
    {
     "name": "stdout",
     "output_type": "stream",
     "text": [
      "[[0. 0. 0. 0. 0. 0. 0.]\n",
      " [0. 1. 1. 1. 1. 1. 0.]\n",
      " [0. 1. 1. 1. 1. 1. 0.]\n",
      " [0. 1. 1. 1. 1. 1. 0.]\n",
      " [0. 1. 1. 1. 1. 1. 0.]\n",
      " [0. 1. 1. 1. 1. 1. 0.]\n",
      " [0. 0. 0. 0. 0. 0. 0.]]\n"
     ]
    }
   ],
   "source": [
    "Z = np.ones((5, 5))\n",
    "Z = np.pad(Z, pad_width=1, mode='constant', constant_values=0)\n",
    "print(Z)"
   ]
  },
  {
   "cell_type": "markdown",
   "id": "ef909b72",
   "metadata": {},
   "source": [
    "#### 17. What is the result of the following expression? (★☆☆)\n",
    "```python\n",
    "0 * np.nan\n",
    "np.nan == np.nan\n",
    "np.inf > np.nan\n",
    "np.nan - np.nan\n",
    "np.nan in set([np.nan])\n",
    "0.3 == 3 * 0.1\n",
    "```"
   ]
  },
  {
   "cell_type": "code",
   "execution_count": 13,
   "id": "3b4985f2",
   "metadata": {},
   "outputs": [
    {
     "name": "stdout",
     "output_type": "stream",
     "text": [
      "nan\n",
      "False\n",
      "False\n",
      "nan\n",
      "True\n",
      "False\n"
     ]
    }
   ],
   "source": [
    "print(0 * np.nan)            \n",
    "print(np.nan == np.nan)      \n",
    "print(np.inf > np.nan)       \n",
    "print(np.nan - np.nan)       \n",
    "print(np.nan in set([np.nan]))\n",
    "print(0.3 == 3 * 0.1)        "
   ]
  },
  {
   "cell_type": "markdown",
   "id": "502738ac",
   "metadata": {},
   "source": [
    "#### 18. Create a 5x5 matrix with values 1,2,3,4 just below the diagonal (★☆☆)"
   ]
  },
  {
   "cell_type": "code",
   "execution_count": 14,
   "id": "faed6e2b",
   "metadata": {},
   "outputs": [
    {
     "name": "stdout",
     "output_type": "stream",
     "text": [
      "[[0 0 0 0 0]\n",
      " [1 0 0 0 0]\n",
      " [0 2 0 0 0]\n",
      " [0 0 3 0 0]\n",
      " [0 0 0 4 0]]\n"
     ]
    }
   ],
   "source": [
    "Z = np.diag(1 + np.arange(4), k=-1)\n",
    "print(Z)"
   ]
  },
  {
   "cell_type": "markdown",
   "id": "a65da660",
   "metadata": {},
   "source": [
    "#### 19. Create a 8x8 matrix and fill it with a checkerboard pattern (★☆☆)"
   ]
  },
  {
   "cell_type": "code",
   "execution_count": 15,
   "id": "ed150400",
   "metadata": {},
   "outputs": [
    {
     "name": "stdout",
     "output_type": "stream",
     "text": [
      "[[0 1 0 1 0 1 0 1]\n",
      " [1 0 1 0 1 0 1 0]\n",
      " [0 1 0 1 0 1 0 1]\n",
      " [1 0 1 0 1 0 1 0]\n",
      " [0 1 0 1 0 1 0 1]\n",
      " [1 0 1 0 1 0 1 0]\n",
      " [0 1 0 1 0 1 0 1]\n",
      " [1 0 1 0 1 0 1 0]]\n"
     ]
    }
   ],
   "source": [
    "Z = np.zeros((8, 8), dtype=int)\n",
    "Z[1::2, ::2] = 1\n",
    "Z[::2, 1::2] = 1\n",
    "print(Z)"
   ]
  },
  {
   "cell_type": "markdown",
   "id": "9f7f9c49",
   "metadata": {},
   "source": [
    "#### 20. Consider a (6,7,8) shape array, what is the index (x,y,z) of the 100th element? (★☆☆)"
   ]
  },
  {
   "cell_type": "code",
   "execution_count": 16,
   "id": "3782b5a9",
   "metadata": {},
   "outputs": [
    {
     "name": "stdout",
     "output_type": "stream",
     "text": [
      "(1, 5, 3)\n"
     ]
    }
   ],
   "source": [
    "print(np.unravel_index(99, (6, 7, 8)))"
   ]
  },
  {
   "cell_type": "markdown",
   "id": "66bfda35",
   "metadata": {},
   "source": [
    "#### 21. Create a checkerboard 8x8 matrix using the tile function (★☆☆)"
   ]
  },
  {
   "cell_type": "code",
   "execution_count": 18,
   "id": "4c07477c",
   "metadata": {},
   "outputs": [
    {
     "name": "stdout",
     "output_type": "stream",
     "text": [
      "[[0 1 0 1 0 1 0 1]\n",
      " [1 0 1 0 1 0 1 0]\n",
      " [0 1 0 1 0 1 0 1]\n",
      " [1 0 1 0 1 0 1 0]\n",
      " [0 1 0 1 0 1 0 1]\n",
      " [1 0 1 0 1 0 1 0]\n",
      " [0 1 0 1 0 1 0 1]\n",
      " [1 0 1 0 1 0 1 0]]\n"
     ]
    }
   ],
   "source": [
    "Z = np.tile(np.array([[0, 1], [1, 0]]), (4, 4))\n",
    "print(Z)"
   ]
  },
  {
   "cell_type": "markdown",
   "id": "d5bcfc08",
   "metadata": {},
   "source": [
    "#### 22. Normalize a 5x5 random matrix (★☆☆)"
   ]
  },
  {
   "cell_type": "code",
   "execution_count": 19,
   "id": "cea6c993",
   "metadata": {},
   "outputs": [
    {
     "name": "stdout",
     "output_type": "stream",
     "text": [
      "[[ 0.46942921 -0.40969191 -1.21433524  0.68053567  1.18809771]\n",
      " [ 1.06894588 -1.4182397   1.08128388 -0.04246129 -1.45388386]\n",
      " [-1.26402596  1.0180621   1.2144825   1.18490955 -1.520129  ]\n",
      " [-1.56456177 -0.54669796 -0.62331883  0.5556103  -0.24174191]\n",
      " [-0.40977862  1.11899395  0.82337024  0.97498486 -0.66983981]]\n"
     ]
    }
   ],
   "source": [
    "Z = np.random.random((5, 5))\n",
    "Z = (Z - np.mean(Z)) / np.std(Z)\n",
    "print(Z)"
   ]
  },
  {
   "cell_type": "markdown",
   "id": "f9a0911e",
   "metadata": {},
   "source": [
    "#### 23. Create a custom dtype that describes a color as four unsigned bytes (RGBA) (★☆☆)"
   ]
  },
  {
   "cell_type": "code",
   "execution_count": 20,
   "id": "d165044b",
   "metadata": {},
   "outputs": [
    {
     "name": "stdout",
     "output_type": "stream",
     "text": [
      "[('r', 'u1'), ('g', 'u1'), ('b', 'u1'), ('a', 'u1')]\n"
     ]
    }
   ],
   "source": [
    "color = np.dtype([\n",
    "    (\"r\", np.ubyte),\n",
    "    (\"g\", np.ubyte),\n",
    "    (\"b\", np.ubyte),\n",
    "    (\"a\", np.ubyte)\n",
    "])\n",
    "print(color)"
   ]
  },
  {
   "cell_type": "markdown",
   "id": "654805b1",
   "metadata": {},
   "source": [
    "#### 24. Multiply a 5x3 matrix by a 3x2 matrix (real matrix product) (★☆☆)"
   ]
  },
  {
   "cell_type": "code",
   "execution_count": 21,
   "id": "6a42619f",
   "metadata": {},
   "outputs": [
    {
     "name": "stdout",
     "output_type": "stream",
     "text": [
      "[[3. 3.]\n",
      " [3. 3.]\n",
      " [3. 3.]\n",
      " [3. 3.]\n",
      " [3. 3.]]\n"
     ]
    }
   ],
   "source": [
    "Z = np.dot(np.ones((5, 3)), np.ones((3, 2)))\n",
    "print(Z)"
   ]
  },
  {
   "cell_type": "markdown",
   "id": "994c25df",
   "metadata": {},
   "source": [
    "#### 25. Given a 1D array, negate all elements which are between 3 and 8, in place. (★☆☆)"
   ]
  },
  {
   "cell_type": "code",
   "execution_count": 22,
   "id": "e4b39c03",
   "metadata": {},
   "outputs": [
    {
     "name": "stdout",
     "output_type": "stream",
     "text": [
      "[ 0  1  2  3 -4 -5 -6 -7  8  9 10]\n"
     ]
    }
   ],
   "source": [
    "Z = np.arange(11)\n",
    "Z[(3 < Z) & (Z < 8)] *= -1\n",
    "print(Z)"
   ]
  },
  {
   "cell_type": "markdown",
   "id": "b7d15d1a",
   "metadata": {},
   "source": [
    "#### 26. What is the output of the following script? (★☆☆)\n",
    "```python\n",
    "# Author: Jake VanderPlas\n",
    "\n",
    "print(sum(range(5),-1))\n",
    "from numpy import *\n",
    "print(sum(range(5),-1))\n",
    "```"
   ]
  },
  {
   "cell_type": "code",
   "execution_count": 30,
   "id": "4c95bc3f",
   "metadata": {},
   "outputs": [
    {
     "name": "stdout",
     "output_type": "stream",
     "text": [
      "10\n",
      "10\n"
     ]
    }
   ],
   "source": [
    "print(sum(range(5), -1))\n",
    "from numpy import *\n",
    "print(sum(range(5), -1))"
   ]
  },
  {
   "cell_type": "markdown",
   "id": "a34f0d08",
   "metadata": {},
   "source": [
    "#### 27. Consider an integer vector Z, which of these expressions are legal? (★☆☆)\n",
    "```python\n",
    "Z**Z\n",
    "2 << Z >> 2\n",
    "Z <- Z\n",
    "1j*Z\n",
    "Z/1/1\n",
    "Z<Z>Z\n",
    "```"
   ]
  },
  {
   "cell_type": "code",
   "execution_count": 33,
   "id": "564658fc",
   "metadata": {},
   "outputs": [
    {
     "name": "stdout",
     "output_type": "stream",
     "text": [
      "[        1         1         4        27       256      3125     46656\n",
      "    823543  16777216 387420489]\n",
      "[  0   1   2   4   8  16  32  64 128 256]\n",
      "[False False False False False False False False False False]\n",
      "[0.+0.j 0.+1.j 0.+2.j 0.+3.j 0.+4.j 0.+5.j 0.+6.j 0.+7.j 0.+8.j 0.+9.j]\n",
      "[0. 1. 2. 3. 4. 5. 6. 7. 8. 9.]\n"
     ]
    }
   ],
   "source": [
    "Z = np.arange(10)\n",
    "print(Z**Z)       \n",
    "print(2 << Z >> 2)\n",
    "print(Z <- Z)     \n",
    "print(1j*Z)       \n",
    "print(Z/1/1)      # Z<Z>Z is not legal"
   ]
  },
  {
   "cell_type": "markdown",
   "id": "c34e94bf",
   "metadata": {},
   "source": [
    "#### 28. What are the result of the following expressions? (★☆☆)\n",
    "```python\n",
    "np.array(0) / np.array(0)\n",
    "np.array(0) // np.array(0)\n",
    "np.array([np.nan]).astype(int).astype(float)\n",
    "```"
   ]
  },
  {
   "cell_type": "code",
   "execution_count": 8,
   "id": "56663562",
   "metadata": {},
   "outputs": [
    {
     "name": "stdout",
     "output_type": "stream",
     "text": [
      "nan\n",
      "0\n",
      "[-2.14748365e+09]\n"
     ]
    },
    {
     "name": "stderr",
     "output_type": "stream",
     "text": [
      "C:\\Users\\Administrator\\AppData\\Local\\Temp\\ipykernel_3104\\3410865368.py:2: RuntimeWarning: invalid value encountered in divide\n",
      "  print(np.array(0) / np.array(0))\n",
      "C:\\Users\\Administrator\\AppData\\Local\\Temp\\ipykernel_3104\\3410865368.py:3: RuntimeWarning: divide by zero encountered in floor_divide\n",
      "  print(np.array(0) // np.array(0))\n",
      "C:\\Users\\Administrator\\AppData\\Local\\Temp\\ipykernel_3104\\3410865368.py:4: RuntimeWarning: invalid value encountered in cast\n",
      "  print(np.array([np.nan]).astype(int).astype(float))\n"
     ]
    }
   ],
   "source": [
    "import numpy as np\n",
    "print(np.array(0) / np.array(0))  \n",
    "print(np.array(0) // np.array(0))   \n",
    "print(np.array([np.nan]).astype(int).astype(float))"
   ]
  },
  {
   "cell_type": "markdown",
   "id": "546f5e7b",
   "metadata": {},
   "source": [
    "#### 29. How to round away from zero a float array ? (★☆☆)"
   ]
  },
  {
   "cell_type": "code",
   "execution_count": 3,
   "id": "f725a6d2",
   "metadata": {},
   "outputs": [
    {
     "name": "stdout",
     "output_type": "stream",
     "text": [
      "[ -1. -10.   1.   2.   4.  -5.  -6.  10.   2.   4.]\n"
     ]
    }
   ],
   "source": [
    "import numpy as np\n",
    "\n",
    "Z = np.random.uniform(-10, +10, 10)\n",
    "print(np.copysign(np.ceil(np.abs(Z)), Z))\n"
   ]
  },
  {
   "cell_type": "markdown",
   "id": "eadca856",
   "metadata": {},
   "source": [
    "#### 30. How to find common values between two arrays? (★☆☆)"
   ]
  },
  {
   "cell_type": "code",
   "execution_count": 4,
   "id": "e0270b5b",
   "metadata": {},
   "outputs": [
    {
     "name": "stdout",
     "output_type": "stream",
     "text": [
      "[1 2 3 5 7 8 9]\n"
     ]
    }
   ],
   "source": [
    "Z1 = np.random.randint(0,10,10)\n",
    "Z2 = np.random.randint(0,10,10)\n",
    "print(np.intersect1d(Z1,Z2))"
   ]
  },
  {
   "cell_type": "markdown",
   "id": "ca16ca22",
   "metadata": {},
   "source": [
    "#### 31. How to ignore all numpy warnings (not recommended)? (★☆☆)"
   ]
  },
  {
   "cell_type": "code",
   "execution_count": 9,
   "id": "7d7208ef",
   "metadata": {},
   "outputs": [
    {
     "data": {
      "text/plain": [
       "{'divide': 'ignore', 'over': 'ignore', 'under': 'ignore', 'invalid': 'ignore'}"
      ]
     },
     "execution_count": 9,
     "metadata": {},
     "output_type": "execute_result"
    }
   ],
   "source": [
    "# Temporary ignore warnings\n",
    "with np.errstate(all=\"ignore\"):\n",
    "    Z = np.array([1]) / 0  # No warning shown\n",
    "\n",
    "# Permanently ignore\n",
    "defaults = np.seterr(all=\"ignore\")\n",
    "Z = np.array([1]) / 0\n",
    "np.seterr(**defaults)  # Restore settings\n"
   ]
  },
  {
   "cell_type": "markdown",
   "id": "c7871d0d",
   "metadata": {},
   "source": [
    "#### 32. Is the following expressions true? (★☆☆)\n",
    "```python\n",
    "np.sqrt(-1) == np.emath.sqrt(-1)\n",
    "```"
   ]
  },
  {
   "cell_type": "code",
   "execution_count": 10,
   "id": "acc3701a",
   "metadata": {},
   "outputs": [
    {
     "name": "stdout",
     "output_type": "stream",
     "text": [
      "False\n"
     ]
    },
    {
     "name": "stderr",
     "output_type": "stream",
     "text": [
      "C:\\Users\\Administrator\\AppData\\Local\\Temp\\ipykernel_3104\\1372900712.py:1: RuntimeWarning: invalid value encountered in sqrt\n",
      "  print(np.sqrt(-1) == np.emath.sqrt(-1))\n"
     ]
    }
   ],
   "source": [
    "print(np.sqrt(-1) == np.emath.sqrt(-1)) "
   ]
  },
  {
   "cell_type": "markdown",
   "id": "e0433e30",
   "metadata": {},
   "source": [
    "#### 33. How to get the dates of yesterday, today and tomorrow? (★☆☆)"
   ]
  },
  {
   "cell_type": "code",
   "execution_count": 14,
   "id": "9c4d2152",
   "metadata": {},
   "outputs": [
    {
     "name": "stdout",
     "output_type": "stream",
     "text": [
      "2024-11-15 2024-11-16 2024-11-17\n"
     ]
    }
   ],
   "source": [
    "yesterday = np.datetime64('today') - np.timedelta64(1)\n",
    "today = np.datetime64('today')\n",
    "tomorrow = np.datetime64('today') + np.timedelta64(1)\n",
    "print(yesterday, today, tomorrow)"
   ]
  },
  {
   "cell_type": "markdown",
   "id": "9f52a2ef",
   "metadata": {},
   "source": [
    "#### 34. How to get all the dates corresponding to the month of July 2016? (★★☆)"
   ]
  },
  {
   "cell_type": "code",
   "execution_count": 15,
   "id": "d6c34dec",
   "metadata": {},
   "outputs": [
    {
     "name": "stdout",
     "output_type": "stream",
     "text": [
      "['2016-07-01' '2016-07-02' '2016-07-03' '2016-07-04' '2016-07-05'\n",
      " '2016-07-06' '2016-07-07' '2016-07-08' '2016-07-09' '2016-07-10'\n",
      " '2016-07-11' '2016-07-12' '2016-07-13' '2016-07-14' '2016-07-15'\n",
      " '2016-07-16' '2016-07-17' '2016-07-18' '2016-07-19' '2016-07-20'\n",
      " '2016-07-21' '2016-07-22' '2016-07-23' '2016-07-24' '2016-07-25'\n",
      " '2016-07-26' '2016-07-27' '2016-07-28' '2016-07-29' '2016-07-30'\n",
      " '2016-07-31']\n"
     ]
    }
   ],
   "source": [
    "Z = np.arange('2016-07', '2016-08', dtype='datetime64[D]')\n",
    "print(Z)"
   ]
  },
  {
   "cell_type": "markdown",
   "id": "4a64e059",
   "metadata": {},
   "source": [
    "#### 35. How to compute ((A+B)*(-A/2)) in place (without copy)? (★★☆)"
   ]
  },
  {
   "cell_type": "code",
   "execution_count": 16,
   "id": "49267f60",
   "metadata": {},
   "outputs": [
    {
     "name": "stdout",
     "output_type": "stream",
     "text": [
      "[-1.5 -1.5 -1.5]\n"
     ]
    }
   ],
   "source": [
    "A = np.ones(3) * 1\n",
    "B = np.ones(3) * 2\n",
    "np.add(A, B, out=B)\n",
    "np.divide(A, 2, out=A)\n",
    "np.negative(A, out=A)\n",
    "np.multiply(A, B, out=A)\n",
    "print(A)"
   ]
  },
  {
   "cell_type": "markdown",
   "id": "8a98c2a8",
   "metadata": {},
   "source": [
    "#### 36. Extract the integer part of a random array of positive numbers using 4 different methods (★★☆)"
   ]
  },
  {
   "cell_type": "code",
   "execution_count": 17,
   "id": "368130b3",
   "metadata": {},
   "outputs": [
    {
     "name": "stdout",
     "output_type": "stream",
     "text": [
      "[0. 3. 1. 7. 8. 4. 4. 1. 2. 9.]\n",
      "[0. 3. 1. 7. 8. 4. 4. 1. 2. 9.]\n",
      "[0. 3. 1. 7. 8. 4. 4. 1. 2. 9.]\n",
      "[0 3 1 7 8 4 4 1 2 9]\n",
      "[0. 3. 1. 7. 8. 4. 4. 1. 2. 9.]\n"
     ]
    }
   ],
   "source": [
    "Z = np.random.uniform(0, 10, 10)\n",
    "print(Z - Z % 1)  \n",
    "print(Z // 1)     \n",
    "print(np.floor(Z))  \n",
    "print(Z.astype(int))\n",
    "print(np.trunc(Z))  "
   ]
  },
  {
   "cell_type": "markdown",
   "id": "5a2e3d85",
   "metadata": {},
   "source": [
    "#### 37. Create a 5x5 matrix with row values ranging from 0 to 4 (★★☆)"
   ]
  },
  {
   "cell_type": "code",
   "execution_count": 19,
   "id": "1d974e8f",
   "metadata": {},
   "outputs": [
    {
     "name": "stdout",
     "output_type": "stream",
     "text": [
      "[[0. 1. 2. 3. 4.]\n",
      " [0. 1. 2. 3. 4.]\n",
      " [0. 1. 2. 3. 4.]\n",
      " [0. 1. 2. 3. 4.]\n",
      " [0. 1. 2. 3. 4.]]\n"
     ]
    }
   ],
   "source": [
    "Z = np.zeros((5, 5))\n",
    "Z += np.arange(5)\n",
    "print(Z)"
   ]
  },
  {
   "cell_type": "markdown",
   "id": "9720e2d5",
   "metadata": {},
   "source": [
    "#### 38. Consider a generator function that generates 10 integers and use it to build an array (★☆☆)"
   ]
  },
  {
   "cell_type": "code",
   "execution_count": 20,
   "id": "e5dd8fc9",
   "metadata": {},
   "outputs": [
    {
     "name": "stdout",
     "output_type": "stream",
     "text": [
      "[0. 1. 2. 3. 4. 5. 6. 7. 8. 9.]\n"
     ]
    }
   ],
   "source": [
    "def generate():\n",
    "    for x in range(10):\n",
    "        yield x\n",
    "Z = np.fromiter(generate(),dtype=float,count=-1)\n",
    "print(Z)"
   ]
  },
  {
   "cell_type": "markdown",
   "id": "c6f2c912",
   "metadata": {},
   "source": [
    "#### 39. Create a vector of size 10 with values ranging from 0 to 1, both excluded (★★☆)"
   ]
  },
  {
   "cell_type": "code",
   "execution_count": 21,
   "id": "6aaa27d3",
   "metadata": {},
   "outputs": [
    {
     "name": "stdout",
     "output_type": "stream",
     "text": [
      "[0.09090909 0.18181818 0.27272727 0.36363636 0.45454545 0.54545455\n",
      " 0.63636364 0.72727273 0.81818182 0.90909091]\n"
     ]
    }
   ],
   "source": [
    "Z = np.linspace(0,1,11,endpoint=False)[1:]\n",
    "print(Z)"
   ]
  },
  {
   "cell_type": "markdown",
   "id": "a36d6ee4",
   "metadata": {},
   "source": [
    "#### 40. Create a random vector of size 10 and sort it (★★☆)"
   ]
  },
  {
   "cell_type": "code",
   "execution_count": 22,
   "id": "e589d216",
   "metadata": {},
   "outputs": [
    {
     "name": "stdout",
     "output_type": "stream",
     "text": [
      "[0.14020339 0.24166533 0.31240342 0.34432248 0.41760581 0.41899492\n",
      " 0.62528959 0.81222328 0.90667352 0.94661099]\n"
     ]
    }
   ],
   "source": [
    "Z = np.random.random(10)\n",
    "Z.sort()\n",
    "print(Z)"
   ]
  },
  {
   "cell_type": "markdown",
   "id": "0fb4ad68",
   "metadata": {},
   "source": [
    "#### 41. How to sum a small array faster than np.sum? (★★☆)"
   ]
  },
  {
   "cell_type": "code",
   "execution_count": 23,
   "id": "a1ba05a0",
   "metadata": {},
   "outputs": [
    {
     "data": {
      "text/plain": [
       "45"
      ]
     },
     "execution_count": 23,
     "metadata": {},
     "output_type": "execute_result"
    }
   ],
   "source": [
    "# Author: Evgeni Burovski\n",
    "\n",
    "Z = np.arange(10)\n",
    "np.add.reduce(Z)"
   ]
  },
  {
   "cell_type": "markdown",
   "id": "024ac365",
   "metadata": {},
   "source": [
    "#### 42. Consider two random array A and B, check if they are equal (★★☆)"
   ]
  },
  {
   "cell_type": "code",
   "execution_count": 26,
   "id": "7db3846d",
   "metadata": {},
   "outputs": [
    {
     "name": "stdout",
     "output_type": "stream",
     "text": [
      "False\n",
      "False\n"
     ]
    }
   ],
   "source": [
    "A = np.random.randint(0, 2, 5)\n",
    "B = np.random.randint(0, 2, 5)\n",
    "print(np.array_equal(A, B)) \n",
    "print(np.allclose(A, B))    "
   ]
  },
  {
   "cell_type": "markdown",
   "id": "c68d2401",
   "metadata": {},
   "source": [
    "#### 43. Make an array immutable (read-only) (★★☆)"
   ]
  },
  {
   "cell_type": "code",
   "execution_count": 97,
   "id": "7828539d",
   "metadata": {},
   "outputs": [],
   "source": [
    "Z = np.zeros(10)\n",
    "Z.flags.writeable = False\n",
    "# Z[0] = 1"
   ]
  },
  {
   "cell_type": "markdown",
   "id": "55df6280",
   "metadata": {},
   "source": [
    "#### 44. Consider a random 10x2 matrix representing cartesian coordinates, convert them to polar coordinates (★★☆)"
   ]
  },
  {
   "cell_type": "code",
   "execution_count": 31,
   "id": "f1c86ea0",
   "metadata": {},
   "outputs": [
    {
     "name": "stdout",
     "output_type": "stream",
     "text": [
      "[0.72595941 0.76243195 0.63568511 0.54302263 0.79103627 0.26281309\n",
      " 0.73741845 0.88654023 1.13850419 1.06659894] [1.36573283 1.12055589 0.44555525 1.42692991 0.75895914 0.50174103\n",
      " 0.44081302 0.63861716 0.7562443  0.89283339]\n"
     ]
    }
   ],
   "source": [
    "Z = np.random.random((10, 2))\n",
    "X, Y = Z[:, 0], Z[:, 1]\n",
    "R = np.sqrt(X**2 + Y**2)\n",
    "T = np.arctan2(Y, X)\n",
    "print(R, T)\n"
   ]
  },
  {
   "cell_type": "markdown",
   "id": "2f60f1ec",
   "metadata": {},
   "source": [
    "#### 45. Create random vector of size 10 and replace the maximum value by 0 (★★☆)"
   ]
  },
  {
   "cell_type": "code",
   "execution_count": 33,
   "id": "d9f48f1c",
   "metadata": {},
   "outputs": [
    {
     "name": "stdout",
     "output_type": "stream",
     "text": [
      "[0.15432649 0.64461687 0.         0.30825292 0.1170089  0.2331852\n",
      " 0.69388893 0.61809215 0.342045   0.3576914 ]\n"
     ]
    }
   ],
   "source": [
    "Z = np.random.random(10)\n",
    "Z[Z.argmax()] = 0\n",
    "print(Z)\n"
   ]
  },
  {
   "cell_type": "markdown",
   "id": "084e8ad4",
   "metadata": {},
   "source": [
    "#### 46. Create a structured array with `x` and `y` coordinates covering the [0,1]x[0,1] area (★★☆)"
   ]
  },
  {
   "cell_type": "code",
   "execution_count": 34,
   "id": "58b47c13",
   "metadata": {},
   "outputs": [
    {
     "name": "stdout",
     "output_type": "stream",
     "text": [
      "[[(0.  , 0.  ) (0.25, 0.  ) (0.5 , 0.  ) (0.75, 0.  ) (1.  , 0.  )]\n",
      " [(0.  , 0.25) (0.25, 0.25) (0.5 , 0.25) (0.75, 0.25) (1.  , 0.25)]\n",
      " [(0.  , 0.5 ) (0.25, 0.5 ) (0.5 , 0.5 ) (0.75, 0.5 ) (1.  , 0.5 )]\n",
      " [(0.  , 0.75) (0.25, 0.75) (0.5 , 0.75) (0.75, 0.75) (1.  , 0.75)]\n",
      " [(0.  , 1.  ) (0.25, 1.  ) (0.5 , 1.  ) (0.75, 1.  ) (1.  , 1.  )]]\n"
     ]
    }
   ],
   "source": [
    "Z = np.zeros((5, 5), [('x', float), ('y', float)])\n",
    "Z['x'], Z['y'] = np.meshgrid(np.linspace(0, 1, 5), np.linspace(0, 1, 5))\n",
    "print(Z)\n"
   ]
  },
  {
   "cell_type": "markdown",
   "id": "d7b9bc42",
   "metadata": {},
   "source": [
    "#### 47. Given two arrays, X and Y, construct the Cauchy matrix C (Cij =1/(xi - yj)) (★★☆)"
   ]
  },
  {
   "cell_type": "code",
   "execution_count": 35,
   "id": "a24824fb",
   "metadata": {},
   "outputs": [
    {
     "name": "stdout",
     "output_type": "stream",
     "text": [
      "[[-2.         -0.66666667 -0.4        -0.28571429 -0.22222222 -0.18181818\n",
      "  -0.15384615 -0.13333333]\n",
      " [ 2.         -2.         -0.66666667 -0.4        -0.28571429 -0.22222222\n",
      "  -0.18181818 -0.15384615]\n",
      " [ 0.66666667  2.         -2.         -0.66666667 -0.4        -0.28571429\n",
      "  -0.22222222 -0.18181818]\n",
      " [ 0.4         0.66666667  2.         -2.         -0.66666667 -0.4\n",
      "  -0.28571429 -0.22222222]\n",
      " [ 0.28571429  0.4         0.66666667  2.         -2.         -0.66666667\n",
      "  -0.4        -0.28571429]\n",
      " [ 0.22222222  0.28571429  0.4         0.66666667  2.         -2.\n",
      "  -0.66666667 -0.4       ]\n",
      " [ 0.18181818  0.22222222  0.28571429  0.4         0.66666667  2.\n",
      "  -2.         -0.66666667]\n",
      " [ 0.15384615  0.18181818  0.22222222  0.28571429  0.4         0.66666667\n",
      "   2.         -2.        ]]\n"
     ]
    }
   ],
   "source": [
    "X = np.arange(8)\n",
    "Y = X + 0.5\n",
    "C = 1.0 / np.subtract.outer(X, Y)\n",
    "print(C)\n"
   ]
  },
  {
   "cell_type": "markdown",
   "id": "65ebc11b",
   "metadata": {},
   "source": [
    "#### 48. Print the minimum and maximum representable value for each numpy scalar type (★★☆)"
   ]
  },
  {
   "cell_type": "code",
   "execution_count": 36,
   "id": "e45d38fb",
   "metadata": {},
   "outputs": [
    {
     "name": "stdout",
     "output_type": "stream",
     "text": [
      "-128 127\n",
      "-2147483648 2147483647\n",
      "-9223372036854775808 9223372036854775807\n",
      "-3.4028235e+38 3.4028235e+38 1.1920929e-07\n",
      "-1.7976931348623157e+308 1.7976931348623157e+308 2.220446049250313e-16\n"
     ]
    }
   ],
   "source": [
    "for dtype in [np.int8, np.int32, np.int64]:\n",
    "    print(np.iinfo(dtype).min, np.iinfo(dtype).max)\n",
    "for dtype in [np.float32, np.float64]:\n",
    "    print(np.finfo(dtype).min, np.finfo(dtype).max, np.finfo(dtype).eps)\n"
   ]
  },
  {
   "cell_type": "markdown",
   "id": "9b317a98",
   "metadata": {},
   "source": [
    "#### 49. How to print all the values of an array? (★★☆)"
   ]
  },
  {
   "cell_type": "code",
   "execution_count": 42,
   "id": "309cdeb9",
   "metadata": {},
   "outputs": [
    {
     "name": "stdout",
     "output_type": "stream",
     "text": [
      "[[0. 0. 0. 0. 0. 0. 0. 0. 0. 0. 0. 0. 0. 0. 0. 0. 0. 0. 0. 0. 0. 0. 0. 0.\n",
      "  0. 0. 0. 0. 0. 0. 0. 0. 0. 0. 0. 0. 0. 0. 0. 0.]\n",
      " [0. 0. 0. 0. 0. 0. 0. 0. 0. 0. 0. 0. 0. 0. 0. 0. 0. 0. 0. 0. 0. 0. 0. 0.\n",
      "  0. 0. 0. 0. 0. 0. 0. 0. 0. 0. 0. 0. 0. 0. 0. 0.]\n",
      " [0. 0. 0. 0. 0. 0. 0. 0. 0. 0. 0. 0. 0. 0. 0. 0. 0. 0. 0. 0. 0. 0. 0. 0.\n",
      "  0. 0. 0. 0. 0. 0. 0. 0. 0. 0. 0. 0. 0. 0. 0. 0.]\n",
      " [0. 0. 0. 0. 0. 0. 0. 0. 0. 0. 0. 0. 0. 0. 0. 0. 0. 0. 0. 0. 0. 0. 0. 0.\n",
      "  0. 0. 0. 0. 0. 0. 0. 0. 0. 0. 0. 0. 0. 0. 0. 0.]\n",
      " [0. 0. 0. 0. 0. 0. 0. 0. 0. 0. 0. 0. 0. 0. 0. 0. 0. 0. 0. 0. 0. 0. 0. 0.\n",
      "  0. 0. 0. 0. 0. 0. 0. 0. 0. 0. 0. 0. 0. 0. 0. 0.]\n",
      " [0. 0. 0. 0. 0. 0. 0. 0. 0. 0. 0. 0. 0. 0. 0. 0. 0. 0. 0. 0. 0. 0. 0. 0.\n",
      "  0. 0. 0. 0. 0. 0. 0. 0. 0. 0. 0. 0. 0. 0. 0. 0.]\n",
      " [0. 0. 0. 0. 0. 0. 0. 0. 0. 0. 0. 0. 0. 0. 0. 0. 0. 0. 0. 0. 0. 0. 0. 0.\n",
      "  0. 0. 0. 0. 0. 0. 0. 0. 0. 0. 0. 0. 0. 0. 0. 0.]\n",
      " [0. 0. 0. 0. 0. 0. 0. 0. 0. 0. 0. 0. 0. 0. 0. 0. 0. 0. 0. 0. 0. 0. 0. 0.\n",
      "  0. 0. 0. 0. 0. 0. 0. 0. 0. 0. 0. 0. 0. 0. 0. 0.]\n",
      " [0. 0. 0. 0. 0. 0. 0. 0. 0. 0. 0. 0. 0. 0. 0. 0. 0. 0. 0. 0. 0. 0. 0. 0.\n",
      "  0. 0. 0. 0. 0. 0. 0. 0. 0. 0. 0. 0. 0. 0. 0. 0.]\n",
      " [0. 0. 0. 0. 0. 0. 0. 0. 0. 0. 0. 0. 0. 0. 0. 0. 0. 0. 0. 0. 0. 0. 0. 0.\n",
      "  0. 0. 0. 0. 0. 0. 0. 0. 0. 0. 0. 0. 0. 0. 0. 0.]\n",
      " [0. 0. 0. 0. 0. 0. 0. 0. 0. 0. 0. 0. 0. 0. 0. 0. 0. 0. 0. 0. 0. 0. 0. 0.\n",
      "  0. 0. 0. 0. 0. 0. 0. 0. 0. 0. 0. 0. 0. 0. 0. 0.]\n",
      " [0. 0. 0. 0. 0. 0. 0. 0. 0. 0. 0. 0. 0. 0. 0. 0. 0. 0. 0. 0. 0. 0. 0. 0.\n",
      "  0. 0. 0. 0. 0. 0. 0. 0. 0. 0. 0. 0. 0. 0. 0. 0.]\n",
      " [0. 0. 0. 0. 0. 0. 0. 0. 0. 0. 0. 0. 0. 0. 0. 0. 0. 0. 0. 0. 0. 0. 0. 0.\n",
      "  0. 0. 0. 0. 0. 0. 0. 0. 0. 0. 0. 0. 0. 0. 0. 0.]\n",
      " [0. 0. 0. 0. 0. 0. 0. 0. 0. 0. 0. 0. 0. 0. 0. 0. 0. 0. 0. 0. 0. 0. 0. 0.\n",
      "  0. 0. 0. 0. 0. 0. 0. 0. 0. 0. 0. 0. 0. 0. 0. 0.]\n",
      " [0. 0. 0. 0. 0. 0. 0. 0. 0. 0. 0. 0. 0. 0. 0. 0. 0. 0. 0. 0. 0. 0. 0. 0.\n",
      "  0. 0. 0. 0. 0. 0. 0. 0. 0. 0. 0. 0. 0. 0. 0. 0.]\n",
      " [0. 0. 0. 0. 0. 0. 0. 0. 0. 0. 0. 0. 0. 0. 0. 0. 0. 0. 0. 0. 0. 0. 0. 0.\n",
      "  0. 0. 0. 0. 0. 0. 0. 0. 0. 0. 0. 0. 0. 0. 0. 0.]\n",
      " [0. 0. 0. 0. 0. 0. 0. 0. 0. 0. 0. 0. 0. 0. 0. 0. 0. 0. 0. 0. 0. 0. 0. 0.\n",
      "  0. 0. 0. 0. 0. 0. 0. 0. 0. 0. 0. 0. 0. 0. 0. 0.]\n",
      " [0. 0. 0. 0. 0. 0. 0. 0. 0. 0. 0. 0. 0. 0. 0. 0. 0. 0. 0. 0. 0. 0. 0. 0.\n",
      "  0. 0. 0. 0. 0. 0. 0. 0. 0. 0. 0. 0. 0. 0. 0. 0.]\n",
      " [0. 0. 0. 0. 0. 0. 0. 0. 0. 0. 0. 0. 0. 0. 0. 0. 0. 0. 0. 0. 0. 0. 0. 0.\n",
      "  0. 0. 0. 0. 0. 0. 0. 0. 0. 0. 0. 0. 0. 0. 0. 0.]\n",
      " [0. 0. 0. 0. 0. 0. 0. 0. 0. 0. 0. 0. 0. 0. 0. 0. 0. 0. 0. 0. 0. 0. 0. 0.\n",
      "  0. 0. 0. 0. 0. 0. 0. 0. 0. 0. 0. 0. 0. 0. 0. 0.]\n",
      " [0. 0. 0. 0. 0. 0. 0. 0. 0. 0. 0. 0. 0. 0. 0. 0. 0. 0. 0. 0. 0. 0. 0. 0.\n",
      "  0. 0. 0. 0. 0. 0. 0. 0. 0. 0. 0. 0. 0. 0. 0. 0.]\n",
      " [0. 0. 0. 0. 0. 0. 0. 0. 0. 0. 0. 0. 0. 0. 0. 0. 0. 0. 0. 0. 0. 0. 0. 0.\n",
      "  0. 0. 0. 0. 0. 0. 0. 0. 0. 0. 0. 0. 0. 0. 0. 0.]\n",
      " [0. 0. 0. 0. 0. 0. 0. 0. 0. 0. 0. 0. 0. 0. 0. 0. 0. 0. 0. 0. 0. 0. 0. 0.\n",
      "  0. 0. 0. 0. 0. 0. 0. 0. 0. 0. 0. 0. 0. 0. 0. 0.]\n",
      " [0. 0. 0. 0. 0. 0. 0. 0. 0. 0. 0. 0. 0. 0. 0. 0. 0. 0. 0. 0. 0. 0. 0. 0.\n",
      "  0. 0. 0. 0. 0. 0. 0. 0. 0. 0. 0. 0. 0. 0. 0. 0.]\n",
      " [0. 0. 0. 0. 0. 0. 0. 0. 0. 0. 0. 0. 0. 0. 0. 0. 0. 0. 0. 0. 0. 0. 0. 0.\n",
      "  0. 0. 0. 0. 0. 0. 0. 0. 0. 0. 0. 0. 0. 0. 0. 0.]\n",
      " [0. 0. 0. 0. 0. 0. 0. 0. 0. 0. 0. 0. 0. 0. 0. 0. 0. 0. 0. 0. 0. 0. 0. 0.\n",
      "  0. 0. 0. 0. 0. 0. 0. 0. 0. 0. 0. 0. 0. 0. 0. 0.]\n",
      " [0. 0. 0. 0. 0. 0. 0. 0. 0. 0. 0. 0. 0. 0. 0. 0. 0. 0. 0. 0. 0. 0. 0. 0.\n",
      "  0. 0. 0. 0. 0. 0. 0. 0. 0. 0. 0. 0. 0. 0. 0. 0.]\n",
      " [0. 0. 0. 0. 0. 0. 0. 0. 0. 0. 0. 0. 0. 0. 0. 0. 0. 0. 0. 0. 0. 0. 0. 0.\n",
      "  0. 0. 0. 0. 0. 0. 0. 0. 0. 0. 0. 0. 0. 0. 0. 0.]\n",
      " [0. 0. 0. 0. 0. 0. 0. 0. 0. 0. 0. 0. 0. 0. 0. 0. 0. 0. 0. 0. 0. 0. 0. 0.\n",
      "  0. 0. 0. 0. 0. 0. 0. 0. 0. 0. 0. 0. 0. 0. 0. 0.]\n",
      " [0. 0. 0. 0. 0. 0. 0. 0. 0. 0. 0. 0. 0. 0. 0. 0. 0. 0. 0. 0. 0. 0. 0. 0.\n",
      "  0. 0. 0. 0. 0. 0. 0. 0. 0. 0. 0. 0. 0. 0. 0. 0.]\n",
      " [0. 0. 0. 0. 0. 0. 0. 0. 0. 0. 0. 0. 0. 0. 0. 0. 0. 0. 0. 0. 0. 0. 0. 0.\n",
      "  0. 0. 0. 0. 0. 0. 0. 0. 0. 0. 0. 0. 0. 0. 0. 0.]\n",
      " [0. 0. 0. 0. 0. 0. 0. 0. 0. 0. 0. 0. 0. 0. 0. 0. 0. 0. 0. 0. 0. 0. 0. 0.\n",
      "  0. 0. 0. 0. 0. 0. 0. 0. 0. 0. 0. 0. 0. 0. 0. 0.]\n",
      " [0. 0. 0. 0. 0. 0. 0. 0. 0. 0. 0. 0. 0. 0. 0. 0. 0. 0. 0. 0. 0. 0. 0. 0.\n",
      "  0. 0. 0. 0. 0. 0. 0. 0. 0. 0. 0. 0. 0. 0. 0. 0.]\n",
      " [0. 0. 0. 0. 0. 0. 0. 0. 0. 0. 0. 0. 0. 0. 0. 0. 0. 0. 0. 0. 0. 0. 0. 0.\n",
      "  0. 0. 0. 0. 0. 0. 0. 0. 0. 0. 0. 0. 0. 0. 0. 0.]\n",
      " [0. 0. 0. 0. 0. 0. 0. 0. 0. 0. 0. 0. 0. 0. 0. 0. 0. 0. 0. 0. 0. 0. 0. 0.\n",
      "  0. 0. 0. 0. 0. 0. 0. 0. 0. 0. 0. 0. 0. 0. 0. 0.]\n",
      " [0. 0. 0. 0. 0. 0. 0. 0. 0. 0. 0. 0. 0. 0. 0. 0. 0. 0. 0. 0. 0. 0. 0. 0.\n",
      "  0. 0. 0. 0. 0. 0. 0. 0. 0. 0. 0. 0. 0. 0. 0. 0.]\n",
      " [0. 0. 0. 0. 0. 0. 0. 0. 0. 0. 0. 0. 0. 0. 0. 0. 0. 0. 0. 0. 0. 0. 0. 0.\n",
      "  0. 0. 0. 0. 0. 0. 0. 0. 0. 0. 0. 0. 0. 0. 0. 0.]\n",
      " [0. 0. 0. 0. 0. 0. 0. 0. 0. 0. 0. 0. 0. 0. 0. 0. 0. 0. 0. 0. 0. 0. 0. 0.\n",
      "  0. 0. 0. 0. 0. 0. 0. 0. 0. 0. 0. 0. 0. 0. 0. 0.]\n",
      " [0. 0. 0. 0. 0. 0. 0. 0. 0. 0. 0. 0. 0. 0. 0. 0. 0. 0. 0. 0. 0. 0. 0. 0.\n",
      "  0. 0. 0. 0. 0. 0. 0. 0. 0. 0. 0. 0. 0. 0. 0. 0.]\n",
      " [0. 0. 0. 0. 0. 0. 0. 0. 0. 0. 0. 0. 0. 0. 0. 0. 0. 0. 0. 0. 0. 0. 0. 0.\n",
      "  0. 0. 0. 0. 0. 0. 0. 0. 0. 0. 0. 0. 0. 0. 0. 0.]]\n"
     ]
    }
   ],
   "source": [
    "np.set_printoptions(threshold=float(\"inf\"))\n",
    "Z = np.zeros((40, 40))\n",
    "print(Z)\n"
   ]
  },
  {
   "cell_type": "markdown",
   "id": "b580f9d0",
   "metadata": {},
   "source": [
    "#### 50. How to find the closest value (to a given scalar) in a vector? (★★☆)"
   ]
  },
  {
   "cell_type": "code",
   "execution_count": 40,
   "id": "ebfb6714",
   "metadata": {},
   "outputs": [
    {
     "name": "stdout",
     "output_type": "stream",
     "text": [
      "52\n"
     ]
    }
   ],
   "source": [
    "Z = np.arange(100)\n",
    "v = np.random.uniform(0, 100)\n",
    "index = (np.abs(Z - v)).argmin()\n",
    "print(Z[index])\n"
   ]
  },
  {
   "cell_type": "markdown",
   "id": "602e6252",
   "metadata": {},
   "source": [
    "#### 51. Create a structured array representing a position (x,y) and a color (r,g,b) (★★☆)"
   ]
  },
  {
   "cell_type": "code",
   "execution_count": 95,
   "id": "cf002b3a",
   "metadata": {},
   "outputs": [
    {
     "name": "stdout",
     "output_type": "stream",
     "text": [
      "[((0., 0.), (0., 0., 0.)) ((0., 0.), (0., 0., 0.))\n",
      " ((0., 0.), (0., 0., 0.)) ((0., 0.), (0., 0., 0.))\n",
      " ((0., 0.), (0., 0., 0.)) ((0., 0.), (0., 0., 0.))\n",
      " ((0., 0.), (0., 0., 0.)) ((0., 0.), (0., 0., 0.))\n",
      " ((0., 0.), (0., 0., 0.)) ((0., 0.), (0., 0., 0.))]\n"
     ]
    }
   ],
   "source": [
    "Z = np.zeros(10, dtype=[('position', [('x', float), ('y', float)]),\n",
    "                        ('color', [('r', float), ('g', float), ('b', float)])])\n",
    "print(Z)\n"
   ]
  },
  {
   "cell_type": "markdown",
   "id": "78bcd92f",
   "metadata": {},
   "source": [
    "#### 52. Consider a random vector with shape (100,2) representing coordinates, find point by point distances (★★☆)"
   ]
  },
  {
   "cell_type": "code",
   "execution_count": 94,
   "id": "fea7f9a6",
   "metadata": {},
   "outputs": [
    {
     "name": "stdout",
     "output_type": "stream",
     "text": [
      "[[0.         0.88252157 0.74313933 0.66361103 0.88525709 0.74038292\n",
      "  0.41695506 0.71596446 0.11667204 0.49436676 0.3617975  0.14346271\n",
      "  0.91609158 0.75933328 0.92219672 0.18441047 0.42165386 0.89200136\n",
      "  0.54863913 0.97498868 0.45130285 0.70727663 0.60637828 0.88663893\n",
      "  0.47749467 0.54157755 0.93049021 0.91547104 0.4433732  0.39094986\n",
      "  0.28210875 0.24336636 0.82493779 0.84729899 0.97598714 0.12874158\n",
      "  0.49516768 0.08399375 0.50007846 0.46119004 0.09471629 0.555235\n",
      "  0.12956759 0.95825391 0.61514936 0.6859889  0.17044159 0.32998644\n",
      "  0.30271827 0.63475044 0.28328748 0.08130565 0.67799967 0.87691682\n",
      "  0.04190939 0.65533023 0.61457829 0.47828091 0.53112485 0.5746906\n",
      "  0.70991854 0.3121035  0.74925549 0.21819786 0.67437812 0.97784912\n",
      "  0.71475393 1.02926727 0.83495696 0.22808592 1.16180353 0.82683574\n",
      "  0.48883858 0.44466314 0.8019967  1.02361884 0.49237756 0.93957183\n",
      "  0.75614815 0.98074624 0.24895103 1.01608217 0.38890297 0.73285242\n",
      "  0.13094402 0.60722209 0.11607765 0.53604125 0.92776328 0.76759707\n",
      "  0.38544317 0.53298271 0.9281227  0.5232974  0.31614825 0.10397364\n",
      "  0.63120462 0.7772051  0.56256684 0.68776117]\n",
      " [0.88252157 0.         0.60411016 0.21911614 0.40643324 0.79177878\n",
      "  0.84185942 0.19201819 0.92529682 0.52971619 0.59543473 0.86562781\n",
      "  0.47295352 0.61966499 0.36209079 0.76087932 0.50557889 0.12980029\n",
      "  0.38924829 0.09270488 0.72518793 0.70213539 0.33370154 0.45268477\n",
      "  0.44097513 0.59561686 0.10472755 0.04188922 0.79039489 0.50139224\n",
      "  0.70488123 0.65038517 0.15079143 0.46759106 0.24453221 0.79737025\n",
      "  0.76291806 0.96612432 0.83413033 0.79689895 0.79110651 0.45653691\n",
      "  0.75351331 0.18933634 0.58914541 0.5202033  0.71242662 0.65401641\n",
      "  0.64820084 0.58867349 0.70835518 0.87256244 0.51101355 0.84168855\n",
      "  0.91812729 0.23393772 0.44179509 0.69055792 0.83536342 0.65199128\n",
      "  0.32658274 0.71221075 0.81301684 0.77072629 0.3973186  0.09787097\n",
      "  0.18053734 0.16347456 0.570444   0.65910679 0.30724837 0.42214088\n",
      "  0.79373173 0.83052318 0.85063069 0.26765391 0.41552348 0.82097201\n",
      "  0.73992703 0.1329819  0.63442259 0.22789345 0.69283158 0.42579328\n",
      "  0.84072184 0.65692262 0.96966534 0.63629455 0.6430699  0.43254718\n",
      "  0.74894638 0.41349617 0.31737982 0.83495163 0.8618421  0.8007705\n",
      "  0.2845208  0.20386778 0.41411796 0.6093872 ]\n",
      " [0.74313933 0.60411016 0.         0.52389645 0.93138103 1.13782266\n",
      "  0.98500172 0.44761126 0.84670998 0.77262264 0.39887146 0.826509\n",
      "  0.99642708 0.02072758 0.9142592  0.75504034 0.66148762 0.50130438\n",
      "  0.65909703 0.65459498 0.91893753 1.057002   0.65780859 0.96733499\n",
      "  0.63573406 0.20199289 0.70763365 0.64421643 0.96423789 0.59074968\n",
      "  0.77624525 0.64577444 0.69044095 0.95899821 0.83970386 0.74962537\n",
      "  0.97607673 0.80142458 1.03015497 0.98011514 0.66119468 0.75011452\n",
      "  0.64540707 0.78808919 0.91643645 0.90644529 0.63626446 0.41516414\n",
      "  0.72689114 0.92866422 0.46008461 0.68070013 0.89385448 1.24146788\n",
      "  0.7844439  0.46682924 0.78730288 0.2791696  1.04946134 0.1779735\n",
      "  0.75685122 0.43340393 1.15697911 0.52991303 0.22281268 0.64403648\n",
      "  0.58624446 0.64024415 1.02967612 0.63108073 0.88754904 0.91328489\n",
      "  0.99481734 0.99407078 1.20973478 0.8694737  0.61243219 1.25746001\n",
      "  1.11039722 0.59205808 0.59991578 0.83167544 0.84824765 0.17838687\n",
      "  0.79720028 0.15054231 0.8591943  0.90265383 1.12728965 0.17546736\n",
      "  0.89439753 0.67337269 0.88184969 1.04454863 0.9359801  0.63995039\n",
      "  0.61938368 0.40074195 0.70925369 0.97727905]\n",
      " [0.66361103 0.21911614 0.52389645 0.         0.40852801 0.6722055\n",
      "  0.65139778 0.10532028 0.70715954 0.34945577 0.3959416  0.64881906\n",
      "  0.47280627 0.54328121 0.39802495 0.54442477 0.29790269 0.25882393\n",
      "  0.20201051 0.31177464 0.54280611 0.58354319 0.16490944 0.4434867\n",
      "  0.23550517 0.44741112 0.2761608  0.25218326 0.60559709 0.28396854\n",
      "  0.49488369 0.43184218 0.19622356 0.43594573 0.36357703 0.57916278\n",
      "  0.58839668 0.74731222 0.65752903 0.61498658 0.57267464 0.28970567\n",
      "  0.53481965 0.32648286 0.45043918 0.41030905 0.49340056 0.45467979\n",
      "  0.4367449  0.45643547 0.50519326 0.65589369 0.3984113  0.75240198\n",
      "  0.69903549 0.05714059 0.30092689 0.52555216 0.66437802 0.51315098\n",
      "  0.23660369 0.51395307 0.69316271 0.56221619 0.30175425 0.31559283\n",
      "  0.07103401 0.37281505 0.51364075 0.4400749  0.50816732 0.3897707\n",
      "  0.61690711 0.64470899 0.73954307 0.40571301 0.20735927 0.75375828\n",
      "  0.63114751 0.329045   0.41532338 0.38305537 0.49838297 0.3607435\n",
      "  0.62328646 0.52741724 0.7508402  0.47347083 0.60757414 0.38448559\n",
      "  0.55501433 0.22588288 0.37284687 0.66252801 0.65803431 0.5836093\n",
      "  0.112441   0.19640382 0.24258183 0.49351557]\n",
      " [0.88525709 0.40643324 0.93138103 0.40852801 0.         0.45661447\n",
      "  0.65345614 0.48879412 0.87552715 0.39527445 0.74710151 0.80491558\n",
      "  0.0676865  0.95042141 0.06733481 0.71151445 0.46950399 0.53373595\n",
      "  0.35807382 0.44283683 0.53362148 0.37871833 0.31737247 0.04743208\n",
      "  0.4268627  0.84677506 0.32915268 0.38985935 0.59298069 0.52380447\n",
      "  0.62067609 0.64878383 0.2628041  0.08050078 0.22324158 0.76450506\n",
      "  0.54214761 0.96424005 0.60662882 0.58998773 0.81605836 0.33004265\n",
      "  0.77773881 0.26281161 0.33293879 0.23724081 0.73182745 0.80018573\n",
      "  0.58503645 0.31961014 0.83689173 0.91224185 0.23797378 0.46469904\n",
      "  0.9074757  0.46515521 0.27099144 0.91160751 0.59336755 0.91463948\n",
      "  0.19647518 0.85654471 0.47581628 0.87213831 0.70861105 0.45882773\n",
      "  0.34544191 0.52880665 0.18792293 0.66980472 0.43869259 0.06413542\n",
      "  0.57339715 0.6294339  0.49762251 0.25388678 0.42512296 0.42719016\n",
      "  0.39561667 0.52409785 0.66228947 0.28573991 0.54638185 0.76273213\n",
      "  0.79064287 0.93170806 0.93071455 0.41719608 0.23940897 0.78203531\n",
      "  0.58838467 0.36522494 0.11278606 0.59659024 0.72019569 0.84249523\n",
      "  0.33109822 0.55994888 0.32869271 0.30284574]\n",
      " [0.74038292 0.79177878 1.13782266 0.6722055  0.45661447 0.\n",
      "  0.34714677 0.77737935 0.67208296 0.36641289 0.80810831 0.60860111\n",
      "  0.42516165 1.15854867 0.52391882 0.56276579 0.4835869  0.89779851\n",
      "  0.48654347 0.85677235 0.2902517  0.09004518 0.50795927 0.41785686\n",
      "  0.50210383 0.9831437  0.74857051 0.79207499 0.30255621 0.55979082\n",
      "  0.47193914 0.58523246 0.64427732 0.37623513 0.67417737 0.61516787\n",
      "  0.24613765 0.79504957 0.26361258 0.28676211 0.71671794 0.39258294\n",
      "  0.69024805 0.70334495 0.2244644  0.27192473 0.65576201 0.83868792\n",
      "  0.48341804 0.21611028 0.84592196 0.80260063 0.28181557 0.13667895\n",
      "  0.74145851 0.72056197 0.3712799  1.0017179  0.23412426 1.04957318\n",
      "  0.46628418 0.87719547 0.02129185 0.84192773 0.93827071 0.87064889\n",
      "  0.64734281 0.94370839 0.27539316 0.61025261 0.89459928 0.4044678\n",
      "  0.2585241  0.31537285 0.07240284 0.70930362 0.52576989 0.20817863\n",
      "  0.06211052 0.92392927 0.62555866 0.73709504 0.36052584 1.00762489\n",
      "  0.61170765 1.07704365 0.72644009 0.24281299 0.29815609 1.03778465\n",
      "  0.35494473 0.46851653 0.56658581 0.24151082 0.45123425 0.7541419\n",
      "  0.55979523 0.86777809 0.43770226 0.18293835]\n",
      " [0.41695506 0.84185942 0.98500172 0.65139778 0.65345614 0.34714677\n",
      "  0.         0.74669219 0.33189683 0.31262078 0.5986905  0.27558395\n",
      "  0.65557204 1.00492079 0.71134417 0.26520455 0.36118553 0.90976621\n",
      "  0.4545612  0.92758709 0.12276668 0.34452005 0.50816939 0.63394124\n",
      "  0.41786066 0.79774498 0.84183311 0.85921006 0.0605431  0.41063105\n",
      "  0.21025284 0.34463347 0.7236799  0.58775411 0.82403097 0.30550813\n",
      "  0.11717342 0.4589895  0.08609703 0.06719468 0.4194257  0.38869815\n",
      "  0.40459302 0.83083403 0.32118793 0.41646291 0.38494351 0.60823128\n",
      "  0.25840651 0.33628987 0.59501242 0.48964185 0.41553344 0.48136616\n",
      "  0.4094352  0.67854437 0.42073357 0.78237245 0.11758996 0.85490216\n",
      "  0.54864448 0.6291127  0.35080423 0.56739381 0.82899805 0.93709798\n",
      "  0.66381695 1.00532793 0.52944983 0.3641046  1.04386385 0.58940818\n",
      "  0.09227901 0.03178851 0.39854591 0.86916233 0.44703248 0.55509817\n",
      "  0.3803744  0.96959489 0.3917266  0.8806722  0.15356839 0.90005085\n",
      "  0.28633436 0.88651561 0.38381203 0.2366628  0.59892266 0.93492469\n",
      "  0.09762347 0.43002421 0.73795006 0.10965089 0.10615381 0.45774133\n",
      "  0.55872013 0.8342538  0.42824239 0.36941862]\n",
      " [0.71596446 0.19201819 0.44761126 0.10532028 0.48879412 0.77737935\n",
      "  0.74669219 0.         0.77239776 0.45107116 0.40697254 0.71901685\n",
      "  0.55539888 0.46572321 0.4672717  0.61664232 0.38743945 0.1772362\n",
      "  0.30453877 0.27571184 0.64190919 0.68856495 0.27021523 0.52791673\n",
      "  0.32884903 0.4081926  0.28112275 0.23310537 0.7034396  0.35886663\n",
      "  0.57818827 0.49829283 0.24315584 0.52602229 0.39919543 0.6452625\n",
      "  0.68935261 0.79812305 0.75757937 0.71373256 0.62216984 0.39422629\n",
      "  0.5864905  0.35185181 0.55575774 0.51401977 0.54902942 0.4650077\n",
      "  0.51917812 0.56170384 0.5205903  0.69716747 0.50229572 0.85564158\n",
      "  0.75396151 0.06862336 0.4061119  0.50000085 0.76575481 0.46802336\n",
      "  0.33369252 0.52248966 0.79836312 0.58576245 0.22663649 0.27401911\n",
      "  0.14587925 0.31564069 0.61049284 0.50213802 0.49919923 0.47890041\n",
      "  0.71711907 0.74192543 0.84445232 0.43438226 0.29966003 0.85417909\n",
      "  0.73572576 0.26553698 0.47386148 0.40239777 0.59313338 0.27455682\n",
      "  0.69186902 0.47645179 0.81180268 0.57721887 0.70110115 0.29329191\n",
      "  0.6494539  0.32773865 0.43424415 0.76359071 0.74544013 0.62719126\n",
      "  0.21759565 0.09134353 0.34706608 0.5981606 ]\n",
      " [0.11667204 0.92529682 0.84670998 0.70715954 0.87552715 0.67208296\n",
      "  0.33189683 0.77239776 0.         0.4804123  0.45484642 0.07099348\n",
      "  0.89830732 0.86372231 0.91942699 0.16950961 0.4343539  0.94962997\n",
      "  0.56386852 1.01791682 0.39231367 0.65122164 0.62407921 0.87065933\n",
      "  0.49662726 0.64473606 0.9618042  0.95494694 0.36957801 0.42396844\n",
      "  0.25485106 0.27552584 0.85035416 0.82836484 0.99106208 0.12799931\n",
      "  0.42672519 0.12850409 0.41780582 0.38586449 0.18551531 0.55071638\n",
      "  0.20539249 0.97973061 0.57817487 0.65926662 0.22974387 0.43154786\n",
      "  0.29583434 0.59733399 0.39044947 0.19746787 0.65304647 0.80836087\n",
      "  0.08840532 0.70775351 0.60619817 0.58873217 0.44933867 0.68266021\n",
      "  0.71511198 0.42134959 0.67832847 0.33065867 0.75924313 1.02252556\n",
      "  0.75006828 1.07905248 0.80128684 0.27027724 1.18914614 0.81404366\n",
      "  0.41417591 0.36225009 0.72842047 1.0388619  0.5169146  0.87711292\n",
      "  0.69585684 1.032909   0.29941203 1.03645833 0.34367377 0.82169646\n",
      "  0.08718299 0.71545719 0.05670262 0.49288939 0.88771759 0.85709087\n",
      "  0.32421219 0.5445834  0.9314565  0.44139222 0.22603308 0.2099123\n",
      "  0.65722569 0.84182766 0.56755907 0.64621164]\n",
      " [0.49436676 0.52971619 0.77262264 0.34945577 0.39527445 0.36641289\n",
      "  0.31262078 0.45107116 0.4804123  0.         0.45099049 0.40998603\n",
      "  0.4219811  0.79334642 0.43980259 0.31672992 0.12030077 0.60399796\n",
      "  0.1475299  0.6149699  0.19599223 0.29093587 0.1964851  0.39296576\n",
      "  0.1382069  0.61764145 0.53082606 0.54658952 0.26081919 0.19724829\n",
      "  0.22564251 0.27057378 0.41265413 0.35295953 0.52684049 0.37054966\n",
      "  0.23898612 0.57111359 0.30863075 0.26815472 0.43397293 0.07829397\n",
      "  0.3979007  0.52648461 0.15479118 0.19674681 0.35382206 0.48893111\n",
      "  0.19174336 0.17172685 0.50710429 0.53021812 0.18714259 0.48035131\n",
      "  0.51398554 0.38576005 0.12644119 0.64280432 0.31494519 0.68472051\n",
      "  0.24606101 0.53495063 0.38500751 0.52106201 0.57977195 0.62455707\n",
      "  0.3532662  0.69317382 0.34951443 0.29465155 0.74041694 0.3345187\n",
      "  0.26794111 0.30087511 0.4387305  0.57379302 0.16470716 0.51431161\n",
      "  0.34607351 0.65862904 0.29722167 0.5793792  0.16922626 0.65054832\n",
      "  0.39537164 0.7115467  0.53545517 0.13209932 0.44872993 0.68254554\n",
      "  0.22285866 0.12359281 0.45514772 0.31307746 0.34689334 0.46496397\n",
      "  0.24862913 0.54177076 0.1156786  0.22771369]\n",
      " [0.3617975  0.59543473 0.39887146 0.3959416  0.74710151 0.80810831\n",
      "  0.5986905  0.40697254 0.45484642 0.45099049 0.         0.42882667\n",
      "  0.7993425  0.4173843  0.75910793 0.35689957 0.33082381 0.57006012\n",
      "  0.39602716 0.68238687 0.55138617 0.73985753 0.42975816 0.7675168\n",
      "  0.33880468 0.20135757 0.66974063 0.63459643 0.58667113 0.25432387\n",
      "  0.38852712 0.25413468 0.5893894  0.74198819 0.75628859 0.35119594\n",
      "  0.6093232  0.43300801 0.65405969 0.60395367 0.2715698  0.46247927\n",
      "  0.25000215 0.72207782 0.60577338 0.63005259 0.23746139 0.05889628\n",
      "  0.34681513 0.62238907 0.11377148 0.31664879 0.61812299 0.92957269\n",
      "  0.40365763 0.36334601 0.51742006 0.19368043 0.67722459 0.25622082\n",
      "  0.55062651 0.11804324 0.82463573 0.18292686 0.31473753 0.68099165\n",
      "  0.46383052 0.71890642 0.77748254 0.23621998 0.89892461 0.70511937\n",
      "  0.62270331 0.61186483 0.88007598 0.80006913 0.32988452 0.96515011\n",
      "  0.79518526 0.6669975  0.20707515 0.77894076 0.47613566 0.37114512\n",
      "  0.39930916 0.28787686 0.47519446 0.56531688 0.88006872 0.40580665\n",
      "  0.51471819 0.39703304 0.74631859 0.67133007 0.54035475 0.25873615\n",
      "  0.42276739 0.44567118 0.43798436 0.67774856]\n",
      " [0.14346271 0.86562781 0.826509   0.64881906 0.80491558 0.60860111\n",
      "  0.27558395 0.71901685 0.07099348 0.40998603 0.42882667 0.\n",
      "  0.82734319 0.84442049 0.849372   0.10486792 0.36878085 0.89590221\n",
      "  0.49780464 0.95800953 0.32490122 0.58395219 0.55825922 0.79974563\n",
      "  0.43208292 0.62567869 0.89832298 0.89403373 0.30724947 0.36485204\n",
      "  0.18434363 0.22097999 0.78556682 0.75739165 0.92358922 0.07905413\n",
      "  0.36250231 0.18645085 0.36013569 0.32434406 0.17590329 0.48109378\n",
      "  0.1821103  0.91365006 0.50768283 0.58830657 0.1929345  0.41424842\n",
      "  0.22783338 0.52690551 0.38087962 0.2212688  0.58205899 0.74521422\n",
      "  0.13417673 0.6530198  0.53599789 0.58040307 0.39150308 0.66947471\n",
      "  0.64642958 0.41387602 0.61587581 0.33112734 0.72245254 0.96323456\n",
      "  0.68858177 1.02154655 0.73073866 0.22066506 1.12413364 0.7432858\n",
      "  0.35249352 0.30441298 0.66717153 0.97134815 0.45370971 0.81198562\n",
      "  0.62980121 0.97650337 0.25208968 0.97002218 0.27342484 0.78748207\n",
      "  0.02970979 0.70238379 0.12738934 0.42287989 0.81786936 0.82316701\n",
      "  0.25695407 0.47781038 0.86211778 0.38359687 0.17297554 0.20932233\n",
      "  0.59340554 0.79201717 0.49933992 0.57629076]\n",
      " [0.91609158 0.47295352 0.99642708 0.47280627 0.0676865  0.42516165\n",
      "  0.65557204 0.55539888 0.89830732 0.4219811  0.7993425  0.82734319\n",
      "  0.         1.01561939 0.11886439 0.73816381 0.50808068 0.60078046\n",
      "  0.40545274 0.50582083 0.53955216 0.35511189 0.37065839 0.03183261\n",
      "  0.47126767 0.90684634 0.39250861 0.45500718 0.59514255 0.56775119\n",
      "  0.64437479 0.68466881 0.33039346 0.07006181 0.27682163 0.79241012\n",
      "  0.54082767 0.99306047 0.60125129 0.59008054 0.85145629 0.36450802\n",
      "  0.81385328 0.32156094 0.33541614 0.24297455 0.76835114 0.85094403\n",
      "  0.61369009 0.31940985 0.88511356 0.94795655 0.24715464 0.41638041\n",
      "  0.93588811 0.52971722 0.30377169 0.96845932 0.58485032 0.97510802\n",
      "  0.25148525 0.90624115 0.44297936 0.91659935 0.77380562 0.52201111\n",
      "  0.41126882 0.59087716 0.14977552 0.70679922 0.48166866 0.09459186\n",
      "  0.57093468 0.62949123 0.45835917 0.30069625 0.47277151 0.37116351\n",
      "  0.36310979 0.58844139 0.70188388 0.33740269 0.56141916 0.8289034\n",
      "  0.81515659 0.99304014 0.95426644 0.42304863 0.17875917 0.84869077\n",
      "  0.59873878 0.40950464 0.16809035 0.58887686 0.73006105 0.8797153\n",
      "  0.38992707 0.6274353  0.37070927 0.2913002 ]\n",
      " [0.75933328 0.61966499 0.02072758 0.54328121 0.95042141 1.15854867\n",
      "  1.00492079 0.46572321 0.86372231 0.79334642 0.4173843  0.84442049\n",
      "  1.01561939 0.         0.93268201 0.77387446 0.68214463 0.51479855\n",
      "  0.67969702 0.6683483  0.93935791 1.07770558 0.67811634 0.98662857\n",
      "  0.65646103 0.2191159  0.72349053 0.65949638 0.98445498 0.61130181\n",
      "  0.79599907 0.66521781 0.7082826  0.97862638 0.85640276 0.76777932\n",
      "  0.99653228 0.8165576  1.05043467 1.0003757  0.67823018 0.77077894\n",
      "  0.66306174 0.80445768 0.93714003 0.92693561 0.65463181 0.43223351\n",
      "  0.74689624 0.9493486  0.47609441 0.69592673 0.91434731 1.2621177\n",
      "  0.80051229 0.48617771 0.80782771 0.29190058 1.06983695 0.19045584\n",
      "  0.77665846 0.44878735 1.1777065  0.54517177 0.24182587 0.65748858\n",
      "  0.60514433 0.6518408  1.0497873  0.65028711 0.90065226 0.93282486\n",
      "  1.01517794 1.0141552  1.23045845 0.8856211  0.63314655 1.2779433\n",
      "  1.13108574 0.60426361 0.6192378  0.84742117 0.86854458 0.1945778\n",
      "  0.81517563 0.16132641 0.8754101  0.92335877 1.14724529 0.18887356\n",
      "  0.91452294 0.69403143 0.89987102 1.06490144 0.95525079 0.65639512\n",
      "  0.6394129  0.4167533  0.72985634 0.99791398]\n",
      " [0.92219672 0.36209079 0.9142592  0.39802495 0.06733481 0.52391882\n",
      "  0.71134417 0.4672717  0.91942699 0.43980259 0.75910793 0.849372\n",
      "  0.11886439 0.93268201 0.         0.75300351 0.50190234 0.49147481\n",
      "  0.38211137 0.38854333 0.59017764 0.44548626 0.33384172 0.11056292\n",
      "  0.45325824 0.84370836 0.27594615 0.34068676 0.65110247 0.54932947\n",
      "  0.66514634 0.68211488 0.2288999  0.14782988 0.15872096 0.80463085\n",
      "  0.60209515 1.00273173 0.66798091 0.64909129 0.848858   0.36922596\n",
      "  0.81000088 0.20277067 0.39287456 0.29741746 0.7639303  0.81416154\n",
      "  0.62569292 0.38078215 0.85434155 0.9442883  0.29664891 0.52997578\n",
      "  0.9465318  0.45280306 0.31345004 0.91483871 0.65592646 0.91038832\n",
      "  0.21603265 0.87179798 0.5431465  0.89439683 0.69186807 0.40487127\n",
      "  0.33012699 0.47284828 0.25450564 0.70183054 0.37144683 0.12537712\n",
      "  0.63369108 0.68839157 0.56470074 0.18691402 0.4473512  0.48898469\n",
      "  0.46295085 0.47240856 0.69156336 0.22037951 0.59756815 0.74161502\n",
      "  0.83349769 0.92536065 0.97380516 0.47468399 0.29755062 0.75834055\n",
      "  0.64216692 0.39304769 0.04923416 0.65885304 0.77362306 0.8732687\n",
      "  0.3367851  0.53090752 0.36012904 0.36771981]\n",
      " [0.18441047 0.76087932 0.75504034 0.54442477 0.71151445 0.56276579\n",
      "  0.26520455 0.61664232 0.16950961 0.31672992 0.35689957 0.10486792\n",
      "  0.73816381 0.77387446 0.75300351 0.         0.26498277 0.79312866\n",
      "  0.39441732 0.85321899 0.27252765 0.52467784 0.45469695 0.70951314\n",
      "  0.3277402  0.5580152  0.79373054 0.78917146 0.27616893 0.26056566\n",
      "  0.09772958 0.12179588 0.68143485 0.66869898 0.8216124  0.05578186\n",
      "  0.32135154 0.25570224 0.33954279 0.29467764 0.15708242 0.38377929\n",
      "  0.13938893 0.81032336 0.43095405 0.50402527 0.12430712 0.35458969\n",
      "  0.12742023 0.45054177 0.33379817 0.23991001 0.49657353 0.6985586\n",
      "  0.19835721 0.55004898 0.44083692 0.52768648 0.36876837 0.60860052\n",
      "  0.54642566 0.3680151  0.57316136 0.30221398 0.63346267 0.85852949\n",
      "  0.58371392 0.91722775 0.65159013 0.12776188 1.02015045 0.65122183\n",
      "  0.32053178 0.28724386 0.62722719 0.86941803 0.34896457 0.7582304\n",
      "  0.57469804 0.87254617 0.16027012 0.86698475 0.20580803 0.7006806\n",
      "  0.08233777 0.64115925 0.22158339 0.35174025 0.74357822 0.73645075\n",
      "  0.21036713 0.37507744 0.76346378 0.36137085 0.18680059 0.19548166\n",
      "  0.4888564  0.6916715  0.39858346 0.50336248]\n",
      " [0.42165386 0.50557889 0.66148762 0.29790269 0.46950399 0.4835869\n",
      "  0.36118553 0.38743945 0.4343539  0.12030077 0.33082381 0.36878085\n",
      "  0.50808068 0.68214463 0.50190234 0.26498277 0.         0.55605682\n",
      "  0.129602   0.5965841  0.26693324 0.41069764 0.18972696 0.47711387\n",
      "  0.06473021 0.4995943  0.5304163  0.53058617 0.32296297 0.07699317\n",
      "  0.19932536 0.1802128  0.4168255  0.44262923 0.55790966 0.31077961\n",
      "  0.32109762 0.50361214 0.38315326 0.33562827 0.34715506 0.14493272\n",
      "  0.30851944 0.54537671 0.27499889 0.30581554 0.26250905 0.37010948\n",
      "  0.14363564 0.2915753  0.39158993 0.44300983 0.29466755 0.60032145\n",
      "  0.44858412 0.31889271 0.20550146 0.52251008 0.39725867 0.56602905\n",
      "  0.28831296 0.41803177 0.50144714 0.41238523 0.47976064 0.60337361\n",
      "  0.32546195 0.66628821 0.45759209 0.20041074 0.75535488 0.41504267\n",
      "  0.34434758 0.35949685 0.55598547 0.60572114 0.0908074  0.63433085\n",
      "  0.46594471 0.62525993 0.1938079  0.60216484 0.20817185 0.55126289\n",
      "  0.34727038 0.59348005 0.48487216 0.24281456 0.55911606 0.58485134\n",
      "  0.2635668  0.11168964 0.50648453 0.39352336 0.3601431  0.37299151\n",
      "  0.22585155 0.47361599 0.14182062 0.34709559]\n",
      " [0.89200136 0.12980029 0.50130438 0.25882393 0.53373595 0.89779851\n",
      "  0.90976621 0.1772362  0.94962997 0.60399796 0.57006012 0.89590221\n",
      "  0.60078046 0.51479855 0.49147481 0.79312866 0.55605682 0.\n",
      "  0.45703625 0.15373516 0.79920328 0.80775333 0.41009787 0.57933899\n",
      "  0.49426059 0.52789796 0.22934773 0.15950564 0.86281362 0.53406886\n",
      "  0.75102479 0.67534893 0.27284777 0.59135038 0.37131655 0.82244233\n",
      "  0.84247847 0.9736617  0.91258946 0.87149837 0.79786109 0.53766758\n",
      "  0.762708   0.31532593 0.68574432 0.62631863 0.72588768 0.62611584\n",
      "  0.69230822 0.68789727 0.68348601 0.87027595 0.6160611  0.95736123\n",
      "  0.93039315 0.24310357 0.53471758 0.63019466 0.91748446 0.57598728\n",
      "  0.43249558 0.68111252 0.91908742 0.75211708 0.31586531 0.14273272\n",
      "  0.25495871 0.15295179 0.69115186 0.6793738  0.38643159 0.54496886\n",
      "  0.87189529 0.90224566 0.9599455  0.38938737 0.46589698 0.94168701\n",
      "  0.84918014 0.10015451 0.65103813 0.34637789 0.75701657 0.32677642\n",
      "  0.868906   0.57539966 0.98889772 0.72195767 0.7681393  0.32599504\n",
      "  0.81366475 0.48145783 0.44713133 0.91616196 0.91607465 0.80136324\n",
      "  0.35631436 0.12695572 0.49180017 0.71491092]\n",
      " [0.54863913 0.38924829 0.65909703 0.20201051 0.35807382 0.48654347\n",
      "  0.4545612  0.30453877 0.56386852 0.1475299  0.39602716 0.49780464\n",
      "  0.40545274 0.67969702 0.38211137 0.39441732 0.129602   0.45703625\n",
      "  0.         0.47771284 0.34216724 0.40149029 0.06057175 0.37366645\n",
      "  0.07181281 0.52775948 0.40420148 0.41020818 0.40597322 0.16722222\n",
      "  0.3233257  0.30544609 0.28880467 0.34616019 0.42858524 0.44027181\n",
      "  0.38651601 0.63135426 0.45600003 0.41446279 0.46986896 0.0940306\n",
      "  0.43066334 0.41592396 0.26211164 0.24931395 0.38472315 0.44604319\n",
      "  0.2709098  0.27211122 0.47976517 0.56416869 0.23672047 0.58282281\n",
      "  0.57696147 0.24075855 0.1299047  0.57410746 0.4623848  0.59676318\n",
      "  0.16607888 0.50085385 0.50680112 0.5142136  0.4525418  0.48596392\n",
      "  0.2096336  0.55232741 0.38668821 0.32306591 0.62662578 0.31086801\n",
      "  0.41532911 0.44560221 0.55688423 0.47637851 0.06733819 0.59959465\n",
      "  0.45338502 0.51524031 0.3103273  0.47259574 0.30385968 0.52131297\n",
      "  0.47674202 0.61974677 0.61446373 0.27298245 0.48890076 0.55124641\n",
      "  0.36021588 0.02454449 0.38191076 0.46059148 0.4734444  0.49239754\n",
      "  0.10475166 0.39563419 0.05016453 0.31847988]\n",
      " [0.97498868 0.09270488 0.65459498 0.31177464 0.44283683 0.85677235\n",
      "  0.92758709 0.27571184 1.01791682 0.6149699  0.68238687 0.95800953\n",
      "  0.50582083 0.6683483  0.38854333 0.85321899 0.5965841  0.15373516\n",
      "  0.47771284 0.         0.80931095 0.76816372 0.42051241 0.49024287\n",
      "  0.53187882 0.66811704 0.11372276 0.06851693 0.87480074 0.5939758\n",
      "  0.79589433 0.74307184 0.2142106  0.51250034 0.2444346  0.89000913\n",
      "  0.84466772 1.05853042 0.9160212  0.88048169 0.88335453 0.53997367\n",
      "  0.84588366 0.19001568 0.66309949 0.58777028 0.80497591 0.7406004\n",
      "  0.73961189 0.6608399  0.79582172 0.96409671 0.57962966 0.89585216\n",
      "  1.01072378 0.32400783 0.51981843 0.7667127  0.91563436 0.72061244\n",
      "  0.39828169 0.79819644 0.8778236  0.85965327 0.46142197 0.01656418\n",
      "  0.27112334 0.08744338 0.6196133  0.75180244 0.23478656 0.47001244\n",
      "  0.87592172 0.91501863 0.91208447 0.25091222 0.5069599  0.86765674\n",
      "  0.80221588 0.08742602 0.72703508 0.2053253  0.78020882 0.47885399\n",
      "  0.93322867 0.72249734 1.06236777 0.71603456 0.68223897 0.47948494\n",
      "  0.83595448 0.50167001 0.34007546 0.91564055 0.95108317 0.89252015\n",
      "  0.37341894 0.26560709 0.4993591  0.67637579]\n",
      " [0.45130285 0.72518793 0.91893753 0.54280611 0.53362148 0.2902517\n",
      "  0.12276668 0.64190919 0.39231367 0.19599223 0.55138617 0.32490122\n",
      "  0.53955216 0.93935791 0.59017764 0.27252765 0.26693324 0.79920328\n",
      "  0.34216724 0.80931095 0.         0.25907096 0.39243199 0.51645131\n",
      "  0.31546899 0.74256334 0.72109701 0.74081475 0.06562797 0.32963269\n",
      "  0.18389337 0.30803554 0.6031119  0.47068363 0.70126436 0.32509861\n",
      "  0.05798324 0.510128   0.11660957 0.07229655 0.42722652 0.26934474\n",
      "  0.40235373 0.70838478 0.20420671 0.29779988 0.37075932 0.57220854\n",
      "  0.20689435 0.22101434 0.570731   0.51235004 0.29582388 0.42625893\n",
      "  0.45501229 0.57488774 0.2983675  0.74292115 0.13105886 0.80453885\n",
      "  0.42639469 0.60357162 0.30080329 0.55840895 0.74604566 0.81934077\n",
      "  0.54925785 0.88855845 0.42151277 0.33187964 0.92123992 0.46948677\n",
      "  0.07742362 0.10584572 0.35526186 0.74642322 0.34469862 0.48859716\n",
      "  0.30553947 0.85455312 0.35249913 0.7579756  0.07624475 0.8175691\n",
      "  0.32455189 0.8346684  0.44846171 0.11676053 0.50016217 0.85143416\n",
      "  0.06810173 0.31775824 0.61577795 0.12684467 0.19231299 0.46497662\n",
      "  0.44454956 0.73143885 0.31116222 0.2615717 ]\n",
      " [0.70727663 0.70213539 1.057002   0.58354319 0.37871833 0.09004518\n",
      "  0.34452005 0.68856495 0.65122164 0.29093587 0.73985753 0.58395219\n",
      "  0.35511189 1.07770558 0.44548626 0.52467784 0.41069764 0.80775333\n",
      "  0.40149029 0.76816372 0.25907096 0.         0.41985158 0.34354838\n",
      "  0.42259344 0.90820283 0.66083383 0.70304986 0.29031527 0.48764983\n",
      "  0.42920301 0.53023213 0.5551536  0.29949685 0.59163261 0.57928465\n",
      "  0.23011875 0.76878934 0.27075754 0.27824392 0.67324768 0.30809204\n",
      "  0.64362583 0.61832163 0.14056557 0.1820339  0.60580115 0.77422254\n",
      "  0.43079296 0.12939965 0.78607835 0.76339506 0.19179591 0.1897394\n",
      "  0.71322577 0.6327123  0.28277955 0.93267448 0.24698873 0.97552272\n",
      "  0.37635263 0.81613556 0.11133456 0.78850138 0.85400328 0.78186615\n",
      "  0.55750156 0.85491477 0.20836137 0.55552115 0.81381326 0.32286611\n",
      "  0.25226223 0.31366939 0.15622056 0.62859475 0.44467956 0.23495039\n",
      "  0.0553279  0.83444742 0.56731052 0.65431096 0.31887018 0.92273789\n",
      "  0.58278012 1.00206622 0.70719038 0.18050903 0.25774133 0.95231098\n",
      "  0.32712224 0.38471145 0.48594801 0.252826   0.44115053 0.70947033\n",
      "  0.47110317 0.77871166 0.35197938 0.09293283]\n",
      " [0.60637828 0.33370154 0.65780859 0.16490944 0.31737247 0.50795927\n",
      "  0.50816939 0.27021523 0.62407921 0.1964851  0.42975816 0.55825922\n",
      "  0.37065839 0.67811634 0.33384172 0.45469695 0.18972696 0.41009787\n",
      "  0.06057175 0.42051241 0.39243199 0.41985158 0.         0.3389268\n",
      "  0.12906301 0.54268358 0.34410741 0.35253476 0.45729199 0.21969295\n",
      "  0.38372368 0.36301454 0.22829714 0.31732814 0.36973867 0.49996569\n",
      "  0.43308663 0.68947779 0.50370861 0.46450036 0.52560253 0.12764235\n",
      "  0.48629712 0.35565328 0.28555856 0.2518054  0.44061451 0.48294902\n",
      "  0.33147926 0.29193151 0.52107595 0.61885895 0.23943597 0.59320793\n",
      "  0.63556778 0.21289578 0.13718312 0.59859817 0.50758551 0.61164624\n",
      "  0.12093088 0.53968295 0.52882058 0.56074038 0.44325916 0.42941543\n",
      "  0.15702811 0.49716231 0.37348324 0.37951896 0.56606694 0.27728409\n",
      "  0.46306047 0.49731273 0.57605064 0.41745402 0.11602208 0.60135954\n",
      "  0.46872222 0.46214395 0.36469121 0.41253789 0.35969959 0.50906671\n",
      "  0.53699533 0.6322663  0.67434451 0.31218638 0.47350011 0.53663188\n",
      "  0.41553909 0.08260821 0.3290575  0.50643722 0.53178867 0.54654097\n",
      "  0.05418108 0.36128143 0.08188458 0.33123138]\n",
      " [0.88663893 0.45268477 0.96733499 0.4434867  0.04743208 0.41785686\n",
      "  0.63394124 0.52791673 0.87065933 0.39296576 0.7675168  0.79974563\n",
      "  0.03183261 0.98662857 0.11056292 0.70951314 0.47711387 0.57933899\n",
      "  0.37366645 0.49024287 0.51645131 0.34354838 0.3389268  0.\n",
      "  0.43967052 0.87581364 0.3765471  0.43688055 0.57341456 0.53622883\n",
      "  0.61633439 0.65420385 0.30740464 0.04643768 0.26882315 0.76351466\n",
      "  0.52025919 0.96405188 0.58231331 0.56908007 0.82113942 0.33395922\n",
      "  0.78340545 0.30982984 0.31289786 0.21878157 0.73782126 0.81911468\n",
      "  0.58451431 0.2977548  0.85335838 0.91761543 0.22192029 0.41941463\n",
      "  0.90694713 0.50051074 0.27334662 0.93689488 0.56712888 0.94415632\n",
      "  0.22002689 0.87443291 0.43646896 0.88510712 0.74487927 0.50621736\n",
      "  0.38311571 0.57623866 0.14488446 0.6761711  0.48076772 0.06285298\n",
      "  0.55084093 0.60855968 0.45557403 0.29708844 0.44099143 0.38009718\n",
      "  0.35621699 0.57130465 0.6708848  0.33084906 0.53555086 0.80078651\n",
      "  0.78704428 0.96231229 0.92645336 0.39971324 0.19203476 0.82112785\n",
      "  0.57431365 0.37788519 0.15836255 0.57083908 0.70593484 0.84911334\n",
      "  0.3588515  0.60161051 0.33924271 0.27391266]\n",
      " [0.47749467 0.44097513 0.63573406 0.23550517 0.4268627  0.50210383\n",
      "  0.41786066 0.32884903 0.49662726 0.1382069  0.33880468 0.43208292\n",
      "  0.47126767 0.65646103 0.45325824 0.3277402  0.06473021 0.49426059\n",
      "  0.07181281 0.53187882 0.31546899 0.42259344 0.12906301 0.43967052\n",
      "  0.         0.48801452 0.46639055 0.46585752 0.37538464 0.09694367\n",
      "  0.26401562 0.23414868 0.35374246 0.40925409 0.49879339 0.37152894\n",
      "  0.36616631 0.5604765  0.4319733  0.38648285 0.39807991 0.1245426\n",
      "  0.35886308 0.4838298  0.28243108 0.29230568 0.31293928 0.38528774\n",
      "  0.208236   0.29624227 0.41505572 0.49236675 0.28015311 0.60984386\n",
      "  0.506505   0.26084836 0.17874587 0.52394618 0.44298587 0.55625123\n",
      "  0.23734685 0.43803247 0.5212537  0.44566653 0.44172223 0.53873911\n",
      "  0.26076346 0.60199096 0.43868317 0.2513555  0.6925216  0.37685466\n",
      "  0.39204419 0.41342796 0.57409353 0.54651568 0.02932085 0.63546964\n",
      "  0.47684062 0.56146893 0.23861939 0.54105718 0.26432344 0.51264077\n",
      "  0.40978869 0.58151759 0.54608627 0.27015752 0.54126513 0.54492668\n",
      "  0.32074018 0.06182543 0.45371203 0.44003395 0.42315675 0.42065582\n",
      "  0.16153577 0.4170303  0.10121931 0.34848066]\n",
      " [0.54157755 0.59561686 0.20199289 0.44741112 0.84677506 0.9831437\n",
      "  0.79774498 0.4081926  0.64473606 0.61764145 0.20135757 0.62567869\n",
      "  0.90684634 0.2191159  0.84370836 0.5580152  0.4995943  0.52789796\n",
      "  0.52775948 0.66811704 0.74256334 0.90820283 0.54268358 0.87581364\n",
      "  0.48801452 0.         0.68924957 0.63748156 0.78237149 0.42393791\n",
      "  0.58755181 0.45412277 0.63900132 0.85879056 0.80302312 0.54951034\n",
      "  0.80045966 0.60185351 0.84938527 0.79913654 0.45922274 0.61065533\n",
      "  0.44407602 0.75850941 0.76926357 0.77598379 0.43706052 0.21318988\n",
      "  0.54238758 0.78384513 0.25911294 0.4810881  0.76347813 1.09686951\n",
      "  0.58302631 0.39636317 0.65729772 0.10668107 0.87103284 0.06907644\n",
      "  0.65639719 0.23427009 1.00103684 0.33064574 0.2145368  0.66191956\n",
      "  0.51782166 0.68026215 0.91325829 0.43720066 0.90067463 0.81645188\n",
      "  0.81625205 0.809471   1.05554628 0.8407891  0.4700199  1.12318721\n",
      "  0.96307467 0.62774483 0.40730874 0.81032704 0.66893324 0.23645915\n",
      "  0.59653954 0.09391425 0.6575707  0.7419587  1.01471565 0.2632709\n",
      "  0.7110184  0.53655121 0.82022424 0.86552826 0.74168626 0.43816255\n",
      "  0.5169623  0.40372666 0.57614593 0.83649516]\n",
      " [0.93049021 0.10472755 0.70763365 0.2761608  0.32915268 0.74857051\n",
      "  0.84183311 0.28112275 0.9618042  0.53082606 0.66974063 0.89832298\n",
      "  0.39250861 0.72349053 0.27594615 0.79373054 0.5304163  0.22934773\n",
      "  0.40420148 0.11372276 0.72109701 0.66083383 0.34410741 0.3765471\n",
      "  0.46639055 0.68924957 0.         0.06991603 0.78670385 0.54098582\n",
      "  0.72742728 0.69119721 0.11820356 0.39906045 0.14202924 0.83515501\n",
      "  0.75225255 1.01448384 0.8234486  0.79085988 0.84225618 0.45340935\n",
      "  0.80358874 0.08597945 0.56243857 0.48241602 0.76026431 0.72863493\n",
      "  0.67383398 0.55854744 0.78047136 0.9286879  0.47510086 0.78344157\n",
      "  0.96367178 0.30754214 0.42531342 0.78035846 0.82072558 0.74813878\n",
      "  0.29915705 0.78768865 0.76946571 0.83837005 0.49744734 0.12967699\n",
      "  0.2162794  0.20037805 0.50657659 0.70318744 0.23263194 0.35711426\n",
      "  0.78401545 0.82687009 0.80204313 0.16293078 0.44491598 0.75409783\n",
      "  0.69279618 0.19648872 0.6817202  0.12415703 0.69925587 0.52924684\n",
      "  0.87542245 0.75488453 1.00950614 0.62159308 0.56856147 0.53691534\n",
      "  0.75366086 0.42670634 0.22807365 0.82130955 0.87439162 0.85594124\n",
      "  0.30492349 0.30690222 0.41714785 0.57005538]\n",
      " [0.91547104 0.04188922 0.64421643 0.25218326 0.38985935 0.79207499\n",
      "  0.85921006 0.23310537 0.95494694 0.54658952 0.63459643 0.89403373\n",
      "  0.45500718 0.65949638 0.34068676 0.78917146 0.53058617 0.15950564\n",
      "  0.41020818 0.06851693 0.74081475 0.70304986 0.35253476 0.43688055\n",
      "  0.46585752 0.63748156 0.06991603 0.         0.8063142  0.53111186\n",
      "  0.72975184 0.68089946 0.14793855 0.45556145 0.21194524 0.82723873\n",
      "  0.77618909 0.99926415 0.84754002 0.81196743 0.82483404 0.47147323\n",
      "  0.78689363 0.15587571 0.5957008  0.52197425 0.74511465 0.69330174\n",
      "  0.67394665 0.59385692 0.74716926 0.90771234 0.51351334 0.83539749\n",
      "  0.95042845 0.27189378 0.45160595 0.73220286 0.84727626 0.69386431\n",
      "  0.33104926 0.7517159  0.81320519 0.8086095  0.43887245 0.07981888\n",
      "  0.20562572 0.1523376  0.5609802  0.69061095 0.26616303 0.41153236\n",
      "  0.80742503 0.84653462 0.84869764 0.23086633 0.44157628 0.8105701\n",
      "  0.7384298  0.13531398 0.66681239 0.18936655 0.71216447 0.46605648\n",
      "  0.86971294 0.69869085 1.00036117 0.64769661 0.62859573 0.47177945\n",
      "  0.76780847 0.43402505 0.2940123  0.84724316 0.88365232 0.83559576\n",
      "  0.3062927  0.24471159 0.43101856 0.61086561]\n",
      " [0.4433732  0.79039489 0.96423789 0.60559709 0.59298069 0.30255621\n",
      "  0.0605431  0.7034396  0.36957801 0.26081919 0.58667113 0.30724947\n",
      "  0.59514255 0.98445498 0.65110247 0.27616893 0.32296297 0.86281362\n",
      "  0.40597322 0.87480074 0.06562797 0.29031527 0.45729199 0.57341456\n",
      "  0.37538464 0.78237149 0.78670385 0.8063142  0.         0.37992432\n",
      "  0.20249208 0.33568809 0.66873266 0.52724145 0.76538356 0.32338828\n",
      "  0.06020886 0.49351444 0.06746686 0.01854432 0.43323018 0.33487324\n",
      "  0.41337392 0.77337739 0.26064488 0.35594067 0.38764974 0.60196527\n",
      "  0.24015617 0.27580332 0.59453014 0.51117988 0.35509554 0.43878595\n",
      "  0.44102566 0.63592079 0.36355878 0.77504092 0.09357015 0.84216896\n",
      "  0.49161829 0.62817917 0.30889655 0.57426075 0.79873459 0.88475614\n",
      "  0.61391085 0.95380974 0.47020848 0.35763069 0.98596228 0.52895086\n",
      "  0.04547055 0.04023272 0.35992764 0.81022823 0.4047052  0.50861366\n",
      "  0.32982162 0.9194267  0.38215184 0.82254956 0.11713848 0.87015852\n",
      "  0.31286538 0.87308212 0.42390701 0.17646077 0.54199681 0.90451012\n",
      "  0.07218143 0.38147586 0.6781737  0.0866579  0.15115555 0.4716465\n",
      "  0.50902653 0.79232098 0.37628397 0.30990795]\n",
      " [0.39094986 0.50139224 0.59074968 0.28396854 0.52380447 0.55979082\n",
      "  0.41063105 0.35886663 0.42396844 0.19724829 0.25432387 0.36485204\n",
      "  0.56775119 0.61130181 0.54932947 0.26056566 0.07699317 0.53406886\n",
      "  0.16722222 0.5939758  0.32963269 0.48764983 0.21969295 0.53622883\n",
      "  0.09694367 0.42393791 0.54098582 0.53111186 0.37992432 0.\n",
      "  0.22161012 0.15029007 0.43399649 0.50491193 0.58690539 0.2961471\n",
      "  0.38606575 0.47478704 0.4435825  0.39438363 0.30684052 0.21252424\n",
      "  0.26753667 0.56744505 0.35182915 0.37822303 0.22236057 0.29555057\n",
      "  0.1626974  0.368196   0.32092441 0.39928734 0.36663923 0.67729777\n",
      "  0.42294023 0.29118389 0.27092481 0.44556473 0.46066973 0.48985987\n",
      "  0.33329737 0.34560995 0.57738713 0.34889641 0.41906239 0.59877062\n",
      "  0.32685565 0.65671274 0.52835174 0.1628755  0.77136688 0.47346342\n",
      "  0.40650059 0.41363733 0.63215922 0.63428567 0.10368389 0.7109407\n",
      "  0.54291063 0.61202129 0.14526189 0.62536376 0.26279892 0.49039508\n",
      "  0.33943772 0.51772332 0.46947137 0.31804343 0.63053517 0.52494433\n",
      "  0.31434841 0.15868904 0.54803608 0.45622776 0.39143926 0.32686678\n",
      "  0.24031289 0.43866355 0.197089   0.42343468]\n",
      " [0.28210875 0.70488123 0.77624525 0.49488369 0.62067609 0.47193914\n",
      "  0.21025284 0.57818827 0.25485106 0.22564251 0.38852712 0.18434363\n",
      "  0.64437479 0.79599907 0.66514634 0.09772958 0.19932536 0.75102479\n",
      "  0.3233257  0.79589433 0.18389337 0.42920301 0.38372368 0.61633439\n",
      "  0.26401562 0.58755181 0.72742728 0.72975184 0.20249208 0.22161012\n",
      "  0.         0.13475577 0.61199831 0.57459316 0.74338863 0.15350295\n",
      "  0.23762858 0.35236774 0.26960979 0.22066875 0.24507993 0.29754546\n",
      "  0.21862085 0.73647354 0.33326858 0.40782591 0.18743812 0.40027678\n",
      "  0.05908494 0.35284884 0.39212727 0.33421107 0.40079491 0.60656443\n",
      "  0.29507706 0.50981023 0.35171879 0.57395948 0.29570544 0.64474742\n",
      "  0.46431197 0.425716   0.48365002 0.37514365 0.62978829 0.80268998\n",
      "  0.52477778 0.86524269 0.55431786 0.15555186 0.94883849 0.55927939\n",
      "  0.2431742  0.22399191 0.5385644  0.79099238 0.28956769 0.66357492\n",
      "  0.48025979 0.82347768 0.18179279 0.7919191  0.11157856 0.69986205\n",
      "  0.17078933 0.67629808 0.3102321  0.25437919 0.64588087 0.73526194\n",
      "  0.13080314 0.30148127 0.67866529 0.28903308 0.17035144 0.28225198\n",
      "  0.42419648 0.65990521 0.31878907 0.40565275]\n",
      " [0.24336636 0.65038517 0.64577444 0.43184218 0.64878383 0.58523246\n",
      "  0.34463347 0.49829283 0.27552584 0.27057378 0.25413468 0.22097999\n",
      "  0.68466881 0.66521781 0.68211488 0.12179588 0.1802128  0.67534893\n",
      "  0.30544609 0.74307184 0.30803554 0.53023213 0.36301454 0.65420385\n",
      "  0.23414868 0.45412277 0.69119721 0.68089946 0.33568809 0.15029007\n",
      "  0.13475577 0.         0.58318808 0.61760413 0.73266395 0.14759931\n",
      "  0.36484142 0.32656763 0.40311209 0.35351404 0.16727459 0.32024788\n",
      "  0.12920271 0.71571867 0.41283528 0.46731696 0.08380401 0.26628996\n",
      "  0.10224042 0.43192622 0.26286076 0.26355867 0.45765009 0.71569015\n",
      "  0.27344895 0.43279993 0.38090317 0.43951114 0.42802068 0.51030236\n",
      "  0.46810479 0.2955468  0.59921181 0.25827107 0.51335123 0.74737241\n",
      "  0.47707987 0.80352666 0.62000349 0.02529523 0.92118592 0.59283296\n",
      "  0.37434167 0.35869133 0.6548968  0.78031974 0.24945663 0.76437029\n",
      "  0.5842112  0.75749103 0.04709318 0.77339322 0.23183002 0.58143347\n",
      "  0.19357657 0.54201028 0.31946211 0.34972684 0.71847066 0.6171675\n",
      "  0.26351756 0.29050671 0.68604342 0.42166668 0.29070216 0.19532492\n",
      "  0.38914899 0.57120108 0.32201765 0.48814538]\n",
      " [0.82493779 0.15079143 0.69044095 0.19622356 0.2628041  0.64427732\n",
      "  0.7236799  0.24315584 0.85035416 0.41265413 0.5893894  0.78556682\n",
      "  0.33039346 0.7082826  0.2288999  0.68143485 0.4168255  0.27284777\n",
      "  0.28880467 0.2142106  0.6031119  0.5551536  0.22829714 0.30740464\n",
      "  0.35374246 0.63900132 0.11820356 0.14793855 0.66873266 0.43399649\n",
      "  0.61199831 0.58318808 0.         0.31857655 0.16744869 0.72475685\n",
      "  0.63509071 0.90878265 0.70637548 0.67310875 0.73920086 0.33520673\n",
      "  0.70010914 0.13522503 0.44915411 0.3740451  0.65570567 0.64771077\n",
      "  0.55953582 0.44665034 0.69601525 0.82851835 0.36565397 0.69099381\n",
      "  0.856583   0.24281331 0.30841243 0.72089587 0.70442559 0.70278485\n",
      "  0.18436664 0.70699342 0.66543085 0.74865782 0.46975464 0.22720406\n",
      "  0.12596425 0.30011438 0.41997336 0.59687199 0.3388019  0.27243891\n",
      "  0.66674052 0.70892033 0.70155639 0.21070157 0.33432507 0.67060594\n",
      "  0.591087   0.28039863 0.57753798 0.19334775 0.58121149 0.51543765\n",
      "  0.76352888 0.71430126 0.89936788 0.50495874 0.49530175 0.53066031\n",
      "  0.63550307 0.31059515 0.19198803 0.70479554 0.75675055 0.75555969\n",
      "  0.19405322 0.30205427 0.29930233 0.46292811]\n",
      " [0.84729899 0.46759106 0.95899821 0.43594573 0.08050078 0.37623513\n",
      "  0.58775411 0.52602229 0.82836484 0.35295953 0.74198819 0.75739165\n",
      "  0.07006181 0.97862638 0.14782988 0.66869898 0.44262923 0.59135038\n",
      "  0.34616019 0.51250034 0.47068363 0.29949685 0.31732814 0.04643768\n",
      "  0.40925409 0.85879056 0.39906045 0.45556145 0.52724145 0.50491193\n",
      "  0.57459316 0.61760413 0.31857655 0.         0.30223863 0.72311385\n",
      "  0.4738868  0.92382224 0.53588017 0.52276914 0.78398875 0.29812751\n",
      "  0.74667597 0.3386455  0.26686311 0.17338474 0.70138336 0.79212929\n",
      "  0.54469858 0.25149681 0.82421418 0.88050282 0.17721242 0.38715221\n",
      "  0.86660274 0.49305287 0.23730642 0.91567616 0.52078683 0.92753667\n",
      "  0.20349937 0.84643074 0.39535946 0.85316452 0.73755166 0.52807201\n",
      "  0.38016719 0.59943814 0.10913275 0.64011017 0.5191634  0.04737845\n",
      "  0.50442945 0.56224245 0.4173945  0.33423213 0.41305406 0.35524942\n",
      "  0.31514108 0.59080798 0.63630349 0.36504897 0.49142036 0.79602757\n",
      "  0.74538249 0.94693925 0.88436892 0.35400865 0.17752974 0.81801806\n",
      "  0.52918466 0.34791891 0.19234858 0.52446246 0.660659   0.81286509\n",
      "  0.34340385 0.6039091  0.30808414 0.22774799]\n",
      " [0.97598714 0.24453221 0.83970386 0.36357703 0.22324158 0.67417737\n",
      "  0.82403097 0.39919543 0.99106208 0.52684049 0.75628859 0.92358922\n",
      "  0.27682163 0.85640276 0.15872096 0.8216124  0.55790966 0.37131655\n",
      "  0.42858524 0.2444346  0.70126436 0.59163261 0.36973867 0.26882315\n",
      "  0.49879339 0.80302312 0.14202924 0.21194524 0.76538356 0.58690539\n",
      "  0.74338863 0.73266395 0.16744869 0.30223863 0.         0.86868229\n",
      "  0.72243807 1.0591904  0.79162273 0.76622616 0.8937459  0.44933238\n",
      "  0.8544405  0.05615301 0.5180372  0.42691922 0.80912918 0.81442489\n",
      "  0.69575999 0.50950105 0.86186947 0.9854541  0.42287586 0.68790488\n",
      "  1.00528077 0.4083286  0.40533741 0.88725372 0.78358032 0.86542498\n",
      "  0.28083101 0.8736591  0.6940967  0.91257762 0.6237457  0.26098401\n",
      "  0.29339761 0.32346791 0.41092155 0.74861466 0.22398277 0.26971506\n",
      "  0.75456245 0.80451858 0.71912561 0.04781706 0.48396442 0.64763418\n",
      "  0.61447724 0.33153651 0.73206175 0.0629775  0.69447278 0.66184789\n",
      "  0.90388726 0.87523409 1.04254105 0.59108313 0.45549149 0.67224525\n",
      "  0.74474232 0.44669155 0.11053074 0.78550621 0.87286603 0.91265152\n",
      "  0.34854992 0.44048113 0.42468912 0.50727848]\n",
      " [0.12874158 0.79737025 0.74962537 0.57916278 0.76450506 0.61516787\n",
      "  0.30550813 0.6452625  0.12799931 0.37054966 0.35119594 0.07905413\n",
      "  0.79241012 0.76777932 0.80463085 0.05578186 0.31077961 0.82244233\n",
      "  0.44027181 0.89000913 0.32509861 0.57928465 0.49996569 0.76351466\n",
      "  0.37152894 0.54951034 0.83515501 0.82723873 0.32338828 0.2961471\n",
      "  0.15350295 0.14759931 0.72475685 0.72311385 0.86868229 0.\n",
      "  0.37173656 0.20073817 0.38425004 0.34169878 0.11510498 0.43561728\n",
      "  0.10977416 0.85533841 0.48673539 0.55933407 0.11427633 0.33973919\n",
      "  0.17946877 0.50632349 0.31068415 0.1881627  0.55173301 0.75134776\n",
      "  0.14348889 0.5801941  0.49355628 0.5090231  0.41439503 0.59541565\n",
      "  0.59596043 0.34443813 0.62493305 0.26879361 0.6434444  0.89455489\n",
      "  0.62260604 0.95109598 0.70725542 0.14388573 1.06350089 0.70474177\n",
      "  0.36847328 0.33023767 0.67850022 0.91649556 0.39063018 0.81230689\n",
      "  0.6287782  0.90508248 0.17446279 0.91245707 0.26055204 0.70843028\n",
      "  0.04943553 0.6282716  0.17461355 0.40730169 0.79935997 0.74411759\n",
      "  0.26091116 0.42213226 0.81369229 0.40678166 0.21539662 0.15291347\n",
      "  0.53109528 0.71625872 0.44787938 0.55910425]\n",
      " [0.49516768 0.76291806 0.97607673 0.58839668 0.54214761 0.24613765\n",
      "  0.11717342 0.68935261 0.42672519 0.23898612 0.6093232  0.36250231\n",
      "  0.54082767 0.99653228 0.60209515 0.32135154 0.32109762 0.84247847\n",
      "  0.38651601 0.84466772 0.05798324 0.23011875 0.43308663 0.52025919\n",
      "  0.36616631 0.80045966 0.75225255 0.77618909 0.06020886 0.38606575\n",
      "  0.23762858 0.36484142 0.63509071 0.4738868  0.72243807 0.37173656\n",
      "  0.         0.54893914 0.07135863 0.05004433 0.4777592  0.30675414\n",
      "  0.45477537 0.73366652 0.20933395 0.30503903 0.42506428 0.62967575\n",
      "  0.26429341 0.22282256 0.6271765  0.55986164 0.30546184 0.38279789\n",
      "  0.49535816 0.62318516 0.32694842 0.80070142 0.07682314 0.86251391\n",
      "  0.45417707 0.66021095 0.25414926 0.61277141 0.80083286 0.85540594\n",
      "  0.59002132 0.92573721 0.41244805 0.38836984 0.9447077  0.47846056\n",
      "  0.03214018 0.08892025 0.30695928 0.7663125  0.39511693 0.45043288\n",
      "  0.27036648 0.89375284 0.40973977 0.78098312 0.13362074 0.87234386\n",
      "  0.3658181  0.89262111 0.48169266 0.13176154 0.48229245 0.90594082\n",
      "  0.11101806 0.36251482 0.63146659 0.07424204 0.21115642 0.51588048\n",
      "  0.48635577 0.77962432 0.35120596 0.25271647]\n",
      " [0.08399375 0.96612432 0.80142458 0.74731222 0.96424005 0.79504957\n",
      "  0.4589895  0.79812305 0.12850409 0.57111359 0.43300801 0.18645085\n",
      "  0.99306047 0.8165576  1.00273173 0.25570224 0.50361214 0.9736617\n",
      "  0.63135426 1.05853042 0.510128   0.76878934 0.68947779 0.96405188\n",
      "  0.5604765  0.60185351 1.01448384 0.99926415 0.49351444 0.47478704\n",
      "  0.35236774 0.32656763 0.90878265 0.92382224 1.0591904  0.20073817\n",
      "  0.54893914 0.         0.54453989 0.51042202 0.17596905 0.63459407\n",
      "  0.21267224 1.04194899 0.68491963 0.75970997 0.2543816  0.39506238\n",
      "  0.37959678 0.70442599 0.34319879 0.12078442 0.75227277 0.93166505\n",
      "  0.05734703 0.73819416 0.69326418 0.52892478 0.57604303 0.62841503\n",
      "  0.79155394 0.36807527 0.80227485 0.27152789 0.7475396  1.06124042\n",
      "  0.7987368  1.11205236 0.90663942 0.3119125  1.24577169 0.90497188\n",
      "  0.5386424  0.48882384 0.85335102 1.10686511 0.57588604 0.99807583\n",
      "  0.81553144 1.06323638 0.33291485 1.09973119 0.45375314 0.80349411\n",
      "  0.1862574  0.66024164 0.08877884 0.60291668 0.99715182 0.83768207\n",
      "  0.44252121 0.6151851  1.00976098 0.56810423 0.35366423 0.17573721\n",
      "  0.71497326 0.85752744 0.64382221 0.75595319]\n",
      " [0.50007846 0.83413033 1.03015497 0.65752903 0.60662882 0.26361258\n",
      "  0.08609703 0.75757937 0.41780582 0.30863075 0.65405969 0.36013569\n",
      "  0.60125129 1.05043467 0.66798091 0.33954279 0.38315326 0.91258946\n",
      "  0.45600003 0.9160212  0.11660957 0.27075754 0.50370861 0.58231331\n",
      "  0.4319733  0.84938527 0.8234486  0.84754002 0.06746686 0.4435825\n",
      "  0.26960979 0.40311209 0.70637548 0.53588017 0.79162273 0.38425004\n",
      "  0.07135863 0.54453989 0.         0.05025009 0.49612886 0.37779302\n",
      "  0.47794028 0.80393015 0.27550871 0.37058122 0.45370939 0.66937106\n",
      "  0.30741304 0.28725102 0.66139025 0.57076445 0.37201227 0.39643459\n",
      "  0.49425793 0.69087018 0.39813654 0.84249989 0.03153285 0.90944471\n",
      "  0.52513434 0.69512057 0.26602619 0.63961876 0.86146296 0.92673992\n",
      "  0.66071652 0.99701441 0.46682697 0.4249363  1.01438038 0.54345975\n",
      "  0.04069419 0.05575039 0.31275995 0.83503649 0.46116796 0.47178558\n",
      "  0.30121378 0.96480835 0.44960977 0.85064209 0.18193958 0.93296593\n",
      "  0.36914178 0.94028744 0.46990535 0.2023009  0.52819896 0.96703315\n",
      "  0.13963853 0.43180916 0.69887692 0.0235864  0.19224671 0.53458643\n",
      "  0.55674413 0.8474224  0.42187007 0.31028306]\n",
      " [0.46119004 0.79689895 0.98011514 0.61498658 0.58998773 0.28676211\n",
      "  0.06719468 0.71373256 0.38586449 0.26815472 0.60395367 0.32434406\n",
      "  0.59008054 1.0003757  0.64909129 0.29467764 0.33562827 0.87149837\n",
      "  0.41446279 0.88048169 0.07229655 0.27824392 0.46450036 0.56908007\n",
      "  0.38648285 0.79913654 0.79085988 0.81196743 0.01854432 0.39438363\n",
      "  0.22066875 0.35351404 0.67310875 0.52276914 0.76622616 0.34169878\n",
      "  0.05004433 0.51042202 0.05025009 0.         0.45172908 0.34060894\n",
      "  0.43191756 0.77555152 0.25707947 0.35274709 0.40609797 0.61980378\n",
      "  0.25723407 0.27135669 0.61277007 0.52939357 0.35255394 0.42265093\n",
      "  0.45828924 0.64650999 0.36650352 0.79272207 0.07514765 0.8592508\n",
      "  0.49446392 0.64638403 0.29247308 0.5927717  0.81279101 0.89069922\n",
      "  0.62140097 0.96019313 0.462481   0.37562458 0.98758288 0.52611291\n",
      "  0.02831332 0.03949066 0.34293363 0.81066801 0.41577774 0.49353797\n",
      "  0.3160174  0.9265528  0.39986198 0.82399254 0.13208109 0.88426191\n",
      "  0.33054476 0.8900672  0.43980929 0.17550488 0.53185326 0.9184751\n",
      "  0.09005483 0.39004935 0.67729733 0.06836502 0.16512516 0.49015015\n",
      "  0.51676521 0.80302386 0.38307014 0.30265916]\n",
      " [0.09471629 0.79110651 0.66119468 0.57267464 0.81605836 0.71671794\n",
      "  0.4194257  0.62216984 0.18551531 0.43397293 0.2715698  0.17590329\n",
      "  0.85145629 0.67823018 0.848858   0.15708242 0.34715506 0.79786109\n",
      "  0.46986896 0.88335453 0.42722652 0.67324768 0.52560253 0.82113942\n",
      "  0.39807991 0.45922274 0.84225618 0.82483404 0.43323018 0.30684052\n",
      "  0.24507993 0.16727459 0.73920086 0.78398875 0.8937459  0.11510498\n",
      "  0.4777592  0.17596905 0.49612886 0.45172908 0.         0.48726751\n",
      "  0.0393185  0.87346254 0.56776934 0.62986349 0.08514973 0.24603342\n",
      "  0.24785692 0.58727445 0.20680465 0.096515   0.62079613 0.85161918\n",
      "  0.13516458 0.56234127 0.54779286 0.40630426 0.52563433 0.49819688\n",
      "  0.63415228 0.23902869 0.72794385 0.15571687 0.58168153 0.88580755\n",
      "  0.62605514 0.93613859 0.78164873 0.14708641 1.07430241 0.75994733\n",
      "  0.47760534 0.44305956 0.78248546 0.94111547 0.41006342 0.9080183\n",
      "  0.7249616  0.8872694  0.16183291 0.93151302 0.35665147 0.64152268\n",
      "  0.15004923 0.53106815 0.2039514  0.49552123 0.87812172 0.67655423\n",
      "  0.36697627 0.45634627 0.8515829  0.51818011 0.33040573 0.03845788\n",
      "  0.54650797 0.68257168 0.48895087 0.64238126]\n",
      " [0.555235   0.45653691 0.75011452 0.28970567 0.33004265 0.39258294\n",
      "  0.38869815 0.39422629 0.55071638 0.07829397 0.46247927 0.48109378\n",
      "  0.36450802 0.77077894 0.36922596 0.38377929 0.14493272 0.53766758\n",
      "  0.0940306  0.53997367 0.26934474 0.30809204 0.12764235 0.33395922\n",
      "  0.1245426  0.61065533 0.45340935 0.47147323 0.33487324 0.21252424\n",
      "  0.29754546 0.32024788 0.33520673 0.29812751 0.44933238 0.43561728\n",
      "  0.30675414 0.63459407 0.37779302 0.34060894 0.48726751 0.\n",
      "  0.44945051 0.4482176  0.16823197 0.16781553 0.40386953 0.50716451\n",
      "  0.25648066 0.17892455 0.53329298 0.58371105 0.15573822 0.4914173\n",
      "  0.57804234 0.33259596 0.0608319  0.64848832 0.38049514 0.67923174\n",
      "  0.16853624 0.55810283 0.41279714 0.5570672  0.54603037 0.55009548\n",
      "  0.28376091 0.61969016 0.31597458 0.34229387 0.66214571 0.27270507\n",
      "  0.33729834 0.37510207 0.46311226 0.49648053 0.14071125 0.51265347\n",
      "  0.36062399 0.58701898 0.33825884 0.50129453 0.24750079 0.61510394\n",
      "  0.46446347 0.70375065 0.60474906 0.18459664 0.41833273 0.64520938\n",
      "  0.30072897 0.07678477 0.38113404 0.37958015 0.42513676 0.515208\n",
      "  0.18171841 0.48556959 0.04716035 0.22759942]\n",
      " [0.12956759 0.75351331 0.64540707 0.53481965 0.77773881 0.69024805\n",
      "  0.40459302 0.5864905  0.20539249 0.3979007  0.25000215 0.1821103\n",
      "  0.81385328 0.66306174 0.81000088 0.13938893 0.30851944 0.762708\n",
      "  0.43066334 0.84588366 0.40235373 0.64362583 0.48629712 0.78340545\n",
      "  0.35886308 0.44407602 0.80358874 0.78689363 0.41337392 0.26753667\n",
      "  0.21862085 0.12920271 0.70010914 0.74667597 0.8544405  0.10977416\n",
      "  0.45477537 0.21267224 0.47794028 0.43191756 0.0393185  0.44945051\n",
      "  0.         0.83429097 0.53459575 0.59427883 0.0460716  0.23215186\n",
      "  0.21488865 0.55401065 0.20091684 0.13451149 0.5849771  0.82423549\n",
      "  0.16782856 0.52577527 0.51009564 0.399553   0.50660715 0.48741276\n",
      "  0.59512117 0.23466944 0.70221434 0.16288696 0.55479868 0.84856851\n",
      "  0.58745959 0.89970749 0.74648126 0.10817932 1.03550903 0.72201986\n",
      "  0.45687097 0.42633364 0.75717976 0.90181844 0.37074501 0.87857296\n",
      "  0.69605671 0.85118691 0.12262085 0.89232739 0.32973464 0.61650142\n",
      "  0.15353997 0.52031723 0.23170091 0.4646661  0.84371856 0.65183502\n",
      "  0.34491034 0.41732081 0.81243848 0.49935491 0.32195522 0.06729779\n",
      "  0.50728875 0.64885524 0.45024389 0.60953243]\n",
      " [0.95825391 0.18933634 0.78808919 0.32648286 0.26281161 0.70334495\n",
      "  0.83083403 0.35185181 0.97973061 0.52648461 0.72207782 0.91365006\n",
      "  0.32156094 0.80445768 0.20277067 0.81032336 0.54537671 0.31532593\n",
      "  0.41592396 0.19001568 0.70838478 0.61832163 0.35565328 0.30982984\n",
      "  0.4838298  0.75850941 0.08597945 0.15587571 0.77337739 0.56744505\n",
      "  0.73647354 0.71571867 0.13522503 0.3386455  0.05615301 0.85533841\n",
      "  0.73366652 1.04194899 0.80393015 0.77555152 0.87346254 0.4482176\n",
      "  0.83429097 0.         0.53403097 0.44672744 0.78960502 0.7806645\n",
      "  0.68627432 0.52734783 0.82991618 0.96334171 0.44126442 0.72579754\n",
      "  0.98913736 0.36706137 0.41010156 0.84551964 0.79799915 0.81963917\n",
      "  0.28235904 0.83997004 0.7237323  0.88352161 0.57416836 0.20657661\n",
      "  0.25852366 0.27145436 0.44774639 0.73019804 0.21393418 0.30140101\n",
      "  0.76577751 0.81307218 0.75192816 0.08253779 0.46628371 0.68992472\n",
      "  0.64503719 0.27663112 0.71167122 0.05816429 0.69554324 0.60989898\n",
      "  0.89263505 0.82826741 1.02984375 0.60190663 0.50001196 0.61922677\n",
      "  0.74769428 0.43598792 0.15355337 0.79939157 0.87335261 0.89038688\n",
      "  0.32714225 0.38787035 0.41860967 0.53081407]\n",
      " [0.61514936 0.58914541 0.91643645 0.45043918 0.33293879 0.2244644\n",
      "  0.32118793 0.55575774 0.57817487 0.15479118 0.60577338 0.50768283\n",
      "  0.33541614 0.93714003 0.39287456 0.43095405 0.27499889 0.68574432\n",
      "  0.26211164 0.66309949 0.20420671 0.14056557 0.28555856 0.31289786\n",
      "  0.28243108 0.76926357 0.56243857 0.5957008  0.26064488 0.35182915\n",
      "  0.33326858 0.41283528 0.44915411 0.26686311 0.5180372  0.48673539\n",
      "  0.20933395 0.68491963 0.27550871 0.25707947 0.56776934 0.16823197\n",
      "  0.53459575 0.53403097 0.         0.09572445 0.49320767 0.64330792\n",
      "  0.31997053 0.0196114  0.65963654 0.66192247 0.09650427 0.3276424\n",
      "  0.62779872 0.49722061 0.15142881 0.79735711 0.26565381 0.83696141\n",
      "  0.26483141 0.68826118 0.24484457 0.66905245 0.71421542 0.67549392\n",
      "  0.43165887 0.74786527 0.22313216 0.43788803 0.74166113 0.26915444\n",
      "  0.24082758 0.29654611 0.29489518 0.56055918 0.30414517 0.35958192\n",
      "  0.19442443 0.72210428 0.44510463 0.5781695  0.23463498 0.78333424\n",
      "  0.50022471 0.86302681 0.63485706 0.08830307 0.31262734 0.81335638\n",
      "  0.26528616 0.2445355  0.42341715 0.26783232 0.3955653  0.60175801\n",
      "  0.33853118 0.64672502 0.21327272 0.0753177 ]\n",
      " [0.6859889  0.5202033  0.90644529 0.41030905 0.23724081 0.27192473\n",
      "  0.41646291 0.51401977 0.65926662 0.19674681 0.63005259 0.58830657\n",
      "  0.24297455 0.92693561 0.29741746 0.50402527 0.30581554 0.62631863\n",
      "  0.24931395 0.58777028 0.29779988 0.1820339  0.2518054  0.21878157\n",
      "  0.29230568 0.77598379 0.48241602 0.52197425 0.35594067 0.37822303\n",
      "  0.40782591 0.46731696 0.3740451  0.17338474 0.42691922 0.55933407\n",
      "  0.30503903 0.75970997 0.37058122 0.35274709 0.62986349 0.16781553\n",
      "  0.59427883 0.44672744 0.09572445 0.         0.55047213 0.67371031\n",
      "  0.38427822 0.08360969 0.69737066 0.72579867 0.01261082 0.34221359\n",
      "  0.7023631  0.4625464  0.11952805 0.81621811 0.35924842 0.84483017\n",
      "  0.19436194 0.72336599 0.29320712 0.71598674 0.6946097  0.60114786\n",
      "  0.37825977 0.67412621 0.15291223 0.49137597 0.65089988 0.17343047\n",
      "  0.33645639 0.39219615 0.33396173 0.4681648  0.30661999 0.3510198\n",
      "  0.22352151 0.65266193 0.49298309 0.48809214 0.31917283 0.76084979\n",
      "  0.57804001 0.86848659 0.71565049 0.18103972 0.25344088 0.78837321\n",
      "  0.35581135 0.23947138 0.3292636  0.36188928 0.48727976 0.66144686\n",
      "  0.29894491 0.60276452 0.20000921 0.08918614]\n",
      " [0.17044159 0.71242662 0.63626446 0.49340056 0.73182745 0.65576201\n",
      "  0.38494351 0.54902942 0.22974387 0.35382206 0.23746139 0.1929345\n",
      "  0.76835114 0.65463181 0.7639303  0.12430712 0.26250905 0.72588768\n",
      "  0.38472315 0.80497591 0.37075932 0.60580115 0.44061451 0.73782126\n",
      "  0.31293928 0.43706052 0.76026431 0.74511465 0.38764974 0.22236057\n",
      "  0.18743812 0.08380401 0.65570567 0.70138336 0.80912918 0.11427633\n",
      "  0.42506428 0.2543816  0.45370939 0.40609797 0.08514973 0.40386953\n",
      "  0.0460716  0.78960502 0.49320767 0.55047213 0.         0.23065002\n",
      "  0.17515833 0.51250174 0.21041161 0.18050194 0.54096391 0.78854573\n",
      "  0.20588794 0.48684825 0.46458004 0.40340215 0.48121979 0.48550617\n",
      "  0.54906603 0.24460854 0.66851942 0.18772478 0.53108291 0.80808682\n",
      "  0.54439206 0.86062527 0.70297107 0.06212135 0.99184077 0.6763218\n",
      "  0.42978554 0.40422244 0.72384802 0.85656906 0.32525046 0.84064201\n",
      "  0.65891512 0.81273284 0.07855394 0.84758545 0.29628166 0.59516754\n",
      "  0.16322868 0.51820167 0.26359025 0.42590636 0.80086793 0.63079101\n",
      "  0.31719517 0.37126266 0.76643857 0.47424513 0.3111063  0.11152178\n",
      "  0.46248538 0.61453418 0.40420115 0.56837409]\n",
      " [0.32998644 0.65401641 0.41516414 0.45467979 0.80018573 0.83868792\n",
      "  0.60823128 0.4650077  0.43154786 0.48893111 0.05889628 0.41424842\n",
      "  0.85094403 0.43223351 0.81416154 0.35458969 0.37010948 0.62611584\n",
      "  0.44604319 0.7406004  0.57220854 0.77422254 0.48294902 0.81911468\n",
      "  0.38528774 0.21318988 0.72863493 0.69330174 0.60196527 0.29555057\n",
      "  0.40027678 0.26628996 0.64771077 0.79212929 0.81442489 0.33973919\n",
      "  0.62967575 0.39506238 0.66937106 0.61980378 0.24603342 0.50716451\n",
      "  0.23215186 0.7806645  0.64330792 0.67371031 0.23065002 0.\n",
      "  0.36538296 0.66062344 0.05832321 0.27557282 0.66205221 0.96346059\n",
      "  0.37173731 0.42219037 0.56386266 0.1742001  0.69425127 0.25567843\n",
      "  0.60386224 0.05930628 0.85436819 0.13202542 0.35936821 0.73898179\n",
      "  0.52230359 0.77579397 0.82308981 0.2447445  0.95777005 0.75647738\n",
      "  0.64040103 0.62408554 0.9100647  0.85841137 0.37908558 1.00278554\n",
      "  0.82943885 0.72368481 0.22020108 0.83761362 0.49608272 0.41041139\n",
      "  0.3854957  0.28853274 0.44560253 0.59676699 0.92549619 0.44390331\n",
      "  0.52980228 0.44514867 0.80254825 0.68793662 0.54110625 0.22608853\n",
      "  0.47858618 0.50088698 0.48584188 0.71662381]\n",
      " [0.30271827 0.64820084 0.72689114 0.4367449  0.58503645 0.48341804\n",
      "  0.25840651 0.51917812 0.29583434 0.19174336 0.34681513 0.22783338\n",
      "  0.61369009 0.74689624 0.62569292 0.12742023 0.14363564 0.69230822\n",
      "  0.2709098  0.73961189 0.20689435 0.43079296 0.33147926 0.58451431\n",
      "  0.208236   0.54238758 0.67383398 0.67394665 0.24015617 0.1626974\n",
      "  0.05908494 0.10224042 0.55953582 0.54469858 0.69575999 0.17946877\n",
      "  0.26429341 0.37959678 0.30741304 0.25723407 0.24785692 0.25648066\n",
      "  0.21488865 0.68627432 0.31997053 0.38427822 0.17515833 0.36538296\n",
      "  0.         0.33945225 0.36491142 0.34264134 0.37587791 0.61471701\n",
      "  0.3226071  0.45083906 0.31409383 0.53680684 0.33045076 0.60203338\n",
      "  0.41931204 0.39734298 0.49716358 0.35881129 0.57400573 0.7460642\n",
      "  0.46855549 0.80787727 0.53492927 0.12698308 0.89752611 0.52540285\n",
      "  0.27603362 0.26753341 0.55281457 0.74352367 0.23268812 0.66555205\n",
      "  0.48417795 0.76560069 0.14564171 0.74242352 0.13070913 0.64449683\n",
      "  0.20889898 0.63292669 0.34886866 0.25075272 0.63050196 0.67972896\n",
      "  0.16863132 0.25028664 0.63609385 0.32451791 0.22880632 0.28190054\n",
      "  0.3694707  0.60083125 0.27174431 0.39474787]\n",
      " [0.63475044 0.58867349 0.92866422 0.45643547 0.31961014 0.21611028\n",
      "  0.33628987 0.56170384 0.59733399 0.17172685 0.62238907 0.52690551\n",
      "  0.31940985 0.9493486  0.38078215 0.45054177 0.2915753  0.68789727\n",
      "  0.27211122 0.6608399  0.22101434 0.12939965 0.29193151 0.2977548\n",
      "  0.29624227 0.78384513 0.55854744 0.59385692 0.27580332 0.368196\n",
      "  0.35284884 0.43192622 0.44665034 0.25149681 0.50950105 0.50632349\n",
      "  0.22282256 0.70442599 0.28725102 0.27135669 0.58727445 0.17892455\n",
      "  0.55401065 0.52734783 0.0196114  0.08360969 0.51250174 0.66062344\n",
      "  0.33945225 0.         0.67766874 0.68148545 0.08662521 0.31370109\n",
      "  0.64732024 0.50445265 0.15576399 0.81351516 0.27564285 0.85175462\n",
      "  0.26285169 0.70607279 0.23690638 0.68782283 0.72464539 0.67354966\n",
      "  0.43472432 0.74616879 0.20410893 0.45694086 0.73339714 0.25623841\n",
      "  0.25385373 0.31084423 0.28521825 0.55128534 0.31698614 0.34276207\n",
      "  0.18176423 0.72164665 0.46378323 0.57021413 0.25370615 0.79333834\n",
      "  0.51963488 0.87751106 0.65402519 0.10623061 0.2930365  0.82294233\n",
      "  0.28318346 0.25566557 0.4128361  0.27828755 0.41289895 0.62119215\n",
      "  0.34413376 0.65236958 0.22258445 0.05653575]\n",
      " [0.28328748 0.70835518 0.46008461 0.50519326 0.83689173 0.84592196\n",
      "  0.59501242 0.5205903  0.39044947 0.50710429 0.11377148 0.38087962\n",
      "  0.88511356 0.47609441 0.85434155 0.33379817 0.39158993 0.68348601\n",
      "  0.47976517 0.79582172 0.570731   0.78607835 0.52107595 0.85335838\n",
      "  0.41505572 0.25911294 0.78047136 0.74716926 0.59453014 0.32092441\n",
      "  0.39212727 0.26286076 0.69601525 0.82421418 0.86186947 0.31068415\n",
      "  0.6271765  0.34319879 0.66139025 0.61277007 0.20680465 0.53329298\n",
      "  0.20091684 0.82991618 0.65963654 0.69737066 0.21041161 0.05832321\n",
      "  0.36491142 0.67766874 0.         0.22264491 0.68612449 0.97399912\n",
      "  0.32441881 0.47544439 0.59181487 0.1996278  0.68783185 0.29227861\n",
      "  0.64144401 0.03422112 0.86058446 0.07477675 0.41697326 0.7945941\n",
      "  0.57141051 0.83263255 0.84866707 0.2388583  1.01070016 0.79052358\n",
      "  0.6350744  0.6133724  0.91634119 0.90655166 0.41242792 1.01765187\n",
      "  0.84090778 0.78067257 0.2204349  0.88726499 0.49459647 0.46645021\n",
      "  0.35329559 0.32503689 0.39936047 0.60648021 0.95051684 0.49944886\n",
      "  0.52291912 0.47630357 0.84511398 0.68113353 0.52010935 0.18105135\n",
      "  0.52125682 0.55860785 0.51627457 0.73411027]\n",
      " [0.08130565 0.87256244 0.68070013 0.65589369 0.91224185 0.80260063\n",
      "  0.48964185 0.69716747 0.19746787 0.53021812 0.31664879 0.2212688\n",
      "  0.94795655 0.69592673 0.9442883  0.23991001 0.44300983 0.87027595\n",
      "  0.56416869 0.96409671 0.51235004 0.76339506 0.61885895 0.91761543\n",
      "  0.49236675 0.4810881  0.9286879  0.90771234 0.51117988 0.39928734\n",
      "  0.33421107 0.26355867 0.82851835 0.88050282 0.9854541  0.1881627\n",
      "  0.55986164 0.12078442 0.57076445 0.52939357 0.096515   0.58371105\n",
      "  0.13451149 0.96334171 0.66192247 0.72579867 0.18050194 0.27557282\n",
      "  0.34264134 0.68148545 0.22264491 0.         0.71686193 0.93846628\n",
      "  0.11377774 0.64072511 0.64427015 0.4093068  0.60131864 0.50820713\n",
      "  0.72914359 0.24731495 0.81273989 0.15078751 0.63126022 0.96559571\n",
      "  0.71249916 1.01268168 0.87727207 0.24261483 1.16122693 0.85636278\n",
      "  0.55639753 0.51599623 0.86650465 1.03259354 0.50293452 0.99755989\n",
      "  0.814102   0.96265041 0.25417561 1.02148707 0.44493506 0.68536307\n",
      "  0.2043115  0.54020844 0.18773977 0.58751746 0.97313033 0.71919633\n",
      "  0.44896054 0.55140596 0.94607822 0.59361186 0.39192831 0.07295878\n",
      "  0.63724903 0.75086698 0.58469109 0.73614193]\n",
      " [0.67799967 0.51101355 0.89385448 0.3984113  0.23797378 0.28181557\n",
      "  0.41553344 0.50229572 0.65304647 0.18714259 0.61812299 0.58205899\n",
      "  0.24715464 0.91434731 0.29664891 0.49657353 0.29466755 0.6160611\n",
      "  0.23672047 0.57962966 0.29582388 0.19179591 0.23943597 0.22192029\n",
      "  0.28015311 0.76347813 0.47510086 0.51351334 0.35509554 0.36663923\n",
      "  0.40079491 0.45765009 0.36565397 0.17721242 0.42287586 0.55173301\n",
      "  0.30546184 0.75227277 0.37201227 0.35255394 0.62079613 0.15573822\n",
      "  0.5849771  0.44126442 0.09650427 0.01261082 0.54096391 0.66205221\n",
      "  0.37587791 0.08662521 0.68612449 0.71686193 0.         0.35429225\n",
      "  0.6949297  0.45043874 0.10691976 0.80401305 0.3616882  0.83233606\n",
      "  0.18469998 0.71194444 0.30310735 0.70538833 0.68213003 0.59284725\n",
      "  0.3672044  0.66576589 0.1632988  0.48157365 0.64677661 0.17388638\n",
      "  0.33712122 0.39191886 0.3447146  0.46476099 0.29421942 0.36361564\n",
      "  0.23451656 0.64363492 0.48267381 0.48363678 0.3142857  0.74844645\n",
      "  0.57127491 0.8559509  0.70932706 0.17924951 0.26444869 0.77604295\n",
      "  0.35243778 0.22699668 0.32696431 0.36407067 0.48413415 0.65208197\n",
      "  0.28687745 0.59122832 0.18745594 0.09887781]\n",
      " [0.87691682 0.84168855 1.24146788 0.75240198 0.46469904 0.13667895\n",
      "  0.48136616 0.85564158 0.80836087 0.48035131 0.92957269 0.74521422\n",
      "  0.41638041 1.2621177  0.52997578 0.6985586  0.60032145 0.95736123\n",
      "  0.58282281 0.89585216 0.42625893 0.1897394  0.59320793 0.41941463\n",
      "  0.60984386 1.09686951 0.78344157 0.83539749 0.43878595 0.67729777\n",
      "  0.60656443 0.71569015 0.69099381 0.38715221 0.68790488 0.75134776\n",
      "  0.38279789 0.93166505 0.39643459 0.42265093 0.85161918 0.4914173\n",
      "  0.82423549 0.72579754 0.3276424  0.34221359 0.78854573 0.96346059\n",
      "  0.61471701 0.31370109 0.97399912 0.93846628 0.35429225 0.\n",
      "  0.87813509 0.8047309  0.45734222 1.12241258 0.36588632 1.16446017\n",
      "  0.52765722 1.00449562 0.13056791 0.97350092 1.03411475 0.91091225\n",
      "  0.71698803 0.98324246 0.27807242 0.74089136 0.89804738 0.42652195\n",
      "  0.39434875 0.44972166 0.08894132 0.71604192 0.63060903 0.08590565\n",
      "  0.13442074 0.97028557 0.75435407 0.75019537 0.49498668 1.10145806\n",
      "  0.74837552 1.1906541  0.86245907 0.36753003 0.25062941 1.12968084\n",
      "  0.49147999 0.56811077 0.57738286 0.37357203 0.58637258 0.88877588\n",
      "  0.64115292 0.94354083 0.53269325 0.26434361]\n",
      " [0.04190939 0.91812729 0.7844439  0.69903549 0.9074757  0.74145851\n",
      "  0.4094352  0.75396151 0.08840532 0.51398554 0.40365763 0.13417673\n",
      "  0.93588811 0.80051229 0.9465318  0.19835721 0.44858412 0.93039315\n",
      "  0.57696147 1.01072378 0.45501229 0.71322577 0.63556778 0.90694713\n",
      "  0.506505   0.58302631 0.96367178 0.95042845 0.44102566 0.42294023\n",
      "  0.29507706 0.27344895 0.856583   0.86660274 1.00528077 0.14348889\n",
      "  0.49535816 0.05734703 0.49425793 0.45828924 0.13516458 0.57804234\n",
      "  0.16782856 0.98913736 0.62779872 0.7023631  0.20588794 0.37173731\n",
      "  0.3226071  0.64732024 0.32441881 0.11377774 0.6949297  0.87813509\n",
      "  0.         0.6925023  0.63648429 0.51819452 0.52564909 0.61525813\n",
      "  0.73606136 0.35268373 0.74922886 0.25790718 0.71597611 1.01393802\n",
      "  0.74849891 1.06638214 0.84937908 0.26050204 1.19430525 0.84800937\n",
      "  0.48636817 0.43851999 0.80091391 1.05301582 0.52285398 0.94342789\n",
      "  0.7605496  1.01825895 0.28371361 1.04676516 0.39721421 0.77467258\n",
      "  0.13048242 0.64769704 0.07541441 0.54615465 0.94013381 0.80944469\n",
      "  0.38775239 0.5602615  0.95419866 0.51773774 0.3054936  0.14582788\n",
      "  0.66256842 0.81660579 0.58815122 0.69905106]\n",
      " [0.65533023 0.23393772 0.46682924 0.05714059 0.46515521 0.72056197\n",
      "  0.67854437 0.06862336 0.70775351 0.38576005 0.36334601 0.6530198\n",
      "  0.52971722 0.48617771 0.45280306 0.55004898 0.31889271 0.24310357\n",
      "  0.24075855 0.32400783 0.57488774 0.6327123  0.21289578 0.50051074\n",
      "  0.26084836 0.39636317 0.30754214 0.27189378 0.63592079 0.29118389\n",
      "  0.50981023 0.43279993 0.24281331 0.49305287 0.4083286  0.5801941\n",
      "  0.62318516 0.73819416 0.69087018 0.64650999 0.56234127 0.33259596\n",
      "  0.52577527 0.36706137 0.49722061 0.4625464  0.48684825 0.42219037\n",
      "  0.45083906 0.50445265 0.47544439 0.64072511 0.45043874 0.8047309\n",
      "  0.6925023  0.         0.35007407 0.47900053 0.69977483 0.46086597\n",
      "  0.29312684 0.48096698 0.74133674 0.53686199 0.24461434 0.32494308\n",
      "  0.12290248 0.37394159 0.56977049 0.43783148 0.53558032 0.44690847\n",
      "  0.65052195 0.67420209 0.78892393 0.44823652 0.23158509 0.80829451\n",
      "  0.68152206 0.32593957 0.41048471 0.42180255 0.52497617 0.30407684\n",
      "  0.62623217 0.47382859 0.74846544 0.51368818 0.66430959 0.3285522\n",
      "  0.58121239 0.26318247 0.4256959  0.69741771 0.67685108 0.5696294\n",
      "  0.16363447 0.15655742 0.28563721 0.54394669]\n",
      " [0.61457829 0.44179509 0.78730288 0.30092689 0.27099144 0.3712799\n",
      "  0.42073357 0.4061119  0.60619817 0.12644119 0.51742006 0.53599789\n",
      "  0.30377169 0.80782771 0.31345004 0.44083692 0.20550146 0.53471758\n",
      "  0.1299047  0.51981843 0.2983675  0.28277955 0.13718312 0.27334662\n",
      "  0.17874587 0.65729772 0.42531342 0.45160595 0.36355878 0.27092481\n",
      "  0.35171879 0.38090317 0.30841243 0.23730642 0.40533741 0.49355628\n",
      "  0.32694842 0.69326418 0.39813654 0.36650352 0.54779286 0.0608319\n",
      "  0.51009564 0.41010156 0.15142881 0.11952805 0.46458004 0.56386266\n",
      "  0.31409383 0.15576399 0.59181487 0.64427015 0.10691976 0.45734222\n",
      "  0.63648429 0.35007407 0.         0.70047959 0.39611681 0.72624068\n",
      "  0.12806037 0.6158809  0.39225151 0.61718536 0.5769677  0.5312914\n",
      "  0.28030643 0.60277619 0.26017578 0.40307189 0.62331208 0.21246874\n",
      "  0.35875576 0.40344112 0.43893688 0.45154926 0.18958247 0.47033849\n",
      "  0.33160192 0.57437193 0.39902844 0.46048001 0.28981637 0.64411605\n",
      "  0.52061001 0.7495131  0.66087598 0.19656282 0.36277737 0.67249943\n",
      "  0.33940545 0.12176858 0.32917248 0.39640144 0.46812078 0.57596128\n",
      "  0.18851883 0.49665338 0.08128123 0.19425491]\n",
      " [0.47828091 0.69055792 0.2791696  0.52555216 0.91160751 1.0017179\n",
      "  0.78237245 0.50000085 0.58873217 0.64280432 0.19368043 0.58040307\n",
      "  0.96845932 0.29190058 0.91483871 0.52768648 0.52251008 0.63019466\n",
      "  0.57410746 0.7667127  0.74292115 0.93267448 0.59859817 0.93689488\n",
      "  0.52394618 0.10668107 0.78035846 0.73220286 0.77504092 0.44556473\n",
      "  0.57395948 0.43951114 0.72089587 0.91567616 0.88725372 0.5090231\n",
      "  0.80070142 0.52892478 0.84249989 0.79272207 0.40630426 0.64848832\n",
      "  0.399553   0.84551964 0.79735711 0.81621811 0.40340215 0.1742001\n",
      "  0.53680684 0.81351516 0.1996278  0.4093068  0.80401305 1.12241258\n",
      "  0.51819452 0.47900053 0.70047959 0.         0.86682394 0.10144489\n",
      "  0.71701619 0.16748924 1.01830151 0.26028766 0.31983576 0.76137924\n",
      "  0.59658454 0.78301005 0.96020464 0.41858168 0.99726762 0.87575759\n",
      "  0.81266631 0.79791057 1.07372235 0.9270918  0.51091614 1.15607436\n",
      "  0.9879925  0.73030205 0.39289017 0.89912861 0.66714604 0.34272451\n",
      "  0.55261088 0.13192171 0.59360719 0.75890946 1.06266519 0.36841572\n",
      "  0.70286186 0.57876399 0.89531806 0.86065702 0.71445094 0.37881994\n",
      "  0.5807079  0.50459127 0.6195791  0.86830725]\n",
      " [0.53112485 0.83536342 1.04946134 0.66437802 0.59336755 0.23412426\n",
      "  0.11758996 0.76575481 0.44933867 0.31494519 0.67722459 0.39150308\n",
      "  0.58485032 1.06983695 0.65592646 0.36876837 0.39725867 0.91748446\n",
      "  0.4623848  0.91563436 0.13105886 0.24698873 0.50758551 0.56712888\n",
      "  0.44298587 0.87103284 0.82072558 0.84727626 0.09357015 0.46066973\n",
      "  0.29570544 0.42802068 0.70442559 0.52078683 0.78358032 0.41439503\n",
      "  0.07682314 0.57604303 0.03153285 0.07514765 0.52563433 0.38049514\n",
      "  0.50660715 0.79799915 0.26565381 0.35924842 0.48121979 0.69425127\n",
      "  0.33045076 0.27564285 0.68783185 0.60131864 0.3616882  0.36588632\n",
      "  0.52564909 0.69977483 0.39611681 0.86682394 0.         0.9319365\n",
      "  0.52167947 0.72140706 0.23569591 0.66776076 0.87680483 0.92677899\n",
      "  0.66422736 0.99767086 0.44730756 0.45039238 1.0070088  0.53084118\n",
      "  0.05479996 0.08722213 0.28164633 0.82621065 0.47193999 0.44213742\n",
      "  0.27422698 0.96682534 0.47413826 0.84338117 0.20212439 0.94832761\n",
      "  0.40018105 0.96249743 0.50140063 0.19961712 0.5047198  0.98206586\n",
      "  0.16494185 0.43853779 0.68845956 0.00794646 0.22374358 0.56408662\n",
      "  0.56118068 0.85615569 0.42574848 0.29358607]\n",
      " [0.5746906  0.65199128 0.1779735  0.51315098 0.91463948 1.04957318\n",
      "  0.85490216 0.46802336 0.68266021 0.68472051 0.25622082 0.66947471\n",
      "  0.97510802 0.19045584 0.91038832 0.60860052 0.56602905 0.57598728\n",
      "  0.59676318 0.72061244 0.80453885 0.97552272 0.61164624 0.94415632\n",
      "  0.55625123 0.06907644 0.74813878 0.69386431 0.84216896 0.48985987\n",
      "  0.64474742 0.51030236 0.70278485 0.92753667 0.86542498 0.59541565\n",
      "  0.86251391 0.62841503 0.90944471 0.8592508  0.49819688 0.67923174\n",
      "  0.48741276 0.81963917 0.83696141 0.84483017 0.48550617 0.25567843\n",
      "  0.60203338 0.85175462 0.29227861 0.50820713 0.83233606 1.16446017\n",
      "  0.61525813 0.46086597 0.72624068 0.10144489 0.9319365  0.\n",
      "  0.7249468  0.26259962 1.06724559 0.35798221 0.26015623 0.71341742\n",
      "  0.58309656 0.72677172 0.98233387 0.49180451 0.95459102 0.88501457\n",
      "  0.8772476  0.86795735 1.1219605  0.90210926 0.53867462 1.19162233\n",
      "  1.03049938 0.67483047 0.46321918 0.87033617 0.73013331 0.26536898\n",
      "  0.64092517 0.03291362 0.69055367 0.80781939 1.08378836 0.28562774\n",
      "  0.77039697 0.60536951 0.8859246  0.92622642 0.79417716 0.47329001\n",
      "  0.5853449  0.45502493 0.64505892 0.90468842]\n",
      " [0.70991854 0.32658274 0.75685122 0.23660369 0.19647518 0.46628418\n",
      "  0.54864448 0.33369252 0.71511198 0.24606101 0.55062651 0.64642958\n",
      "  0.25148525 0.77665846 0.21603265 0.54642566 0.28831296 0.43249558\n",
      "  0.16607888 0.39828169 0.42639469 0.37635263 0.12093088 0.22002689\n",
      "  0.23734685 0.65639719 0.29915705 0.33104926 0.49161829 0.33329737\n",
      "  0.46431197 0.46810479 0.18436664 0.20349937 0.28083101 0.59596043\n",
      "  0.45417707 0.79155394 0.52513434 0.49446392 0.63415228 0.16853624\n",
      "  0.59512117 0.28235904 0.26483141 0.19436194 0.54906603 0.60386224\n",
      "  0.41931204 0.26285169 0.64144401 0.72914359 0.18469998 0.52765722\n",
      "  0.73606136 0.29312684 0.12806037 0.71701619 0.52167947 0.7249468\n",
      "  0.         0.66047535 0.48756793 0.67917131 0.53648099 0.41079085\n",
      "  0.19045515 0.48333527 0.27729987 0.48707036 0.49595115 0.16006805\n",
      "  0.48612538 0.53149704 0.52747841 0.32794437 0.231645   0.52102774\n",
      "  0.41669253 0.45940419 0.47586452 0.33380885 0.41426406 0.59719846\n",
      "  0.62820808 0.74383475 0.76800834 0.32292447 0.37126924 0.62103889\n",
      "  0.46564189 0.17780613 0.2182203  0.52238389 0.59253693 0.65777439\n",
      "  0.13997545 0.41831528 0.14808239 0.28343239]\n",
      " [0.3121035  0.71221075 0.43340393 0.51395307 0.85654471 0.87719547\n",
      "  0.6291127  0.52248966 0.42134959 0.53495063 0.11804324 0.41387602\n",
      "  0.90624115 0.44878735 0.87179798 0.3680151  0.41803177 0.68111252\n",
      "  0.50085385 0.79819644 0.60357162 0.81613556 0.53968295 0.87443291\n",
      "  0.43803247 0.23427009 0.78768865 0.7517159  0.62817917 0.34560995\n",
      "  0.425716   0.2955468  0.70699342 0.84643074 0.8736591  0.34443813\n",
      "  0.66021095 0.36807527 0.69512057 0.64638403 0.23902869 0.55810283\n",
      "  0.23466944 0.83997004 0.68826118 0.72336599 0.24460854 0.05930628\n",
      "  0.39734298 0.70607279 0.03422112 0.24731495 0.71194444 1.00449562\n",
      "  0.35268373 0.48096698 0.6158809  0.16748924 0.72140706 0.26259962\n",
      "  0.66047535 0.         0.89209816 0.09655465 0.40444398 0.79626139\n",
      "  0.58160764 0.8316432  0.87395666 0.271848   1.01649727 0.81167997\n",
      "  0.66849975 0.64732247 0.94786223 0.9176949  0.43361328 1.04692425\n",
      "  0.87109974 0.77932574 0.25225637 0.896909   0.52737632 0.45010404\n",
      "  0.38654621 0.29512045 0.42795744 0.63699205 0.97608613 0.48217001\n",
      "  0.55647043 0.49871008 0.8608902  0.71474876 0.55429212 0.21146434\n",
      "  0.53683323 0.55516063 0.53908939 0.76240737]\n",
      " [0.74925549 0.81301684 1.15697911 0.69316271 0.47581628 0.02129185\n",
      "  0.35080423 0.79836312 0.67832847 0.38500751 0.82463573 0.61587581\n",
      "  0.44297936 1.1777065  0.5431465  0.57316136 0.50144714 0.91908742\n",
      "  0.50680112 0.8778236  0.30080329 0.11133456 0.52882058 0.43646896\n",
      "  0.5212537  1.00103684 0.76946571 0.81320519 0.30889655 0.57738713\n",
      "  0.48365002 0.59921181 0.66543085 0.39535946 0.6940967  0.62493305\n",
      "  0.25414926 0.80227485 0.26602619 0.29247308 0.72794385 0.41279714\n",
      "  0.70221434 0.7237323  0.24484457 0.29320712 0.66851942 0.85436819\n",
      "  0.49716358 0.23690638 0.86058446 0.81273989 0.30310735 0.13056791\n",
      "  0.74922886 0.74133674 0.39225151 1.01830151 0.23569591 1.06724559\n",
      "  0.48756793 0.89209816 0.         0.85518102 0.95822854 0.89173196\n",
      "  0.66856973 0.96479104 0.29324492 0.62412397 0.91410066 0.42438971\n",
      "  0.26415979 0.31915401 0.05576413 0.72885141 0.5452137  0.20749265\n",
      "  0.080271   0.94513799 0.64015172 0.75703966 0.37259215 1.02770975\n",
      "  0.61993485 1.09491272 0.73219275 0.25972366 0.31105571 1.05799701\n",
      "  0.3641577  0.48854026 0.5861947  0.2433136  0.45584217 0.76557226\n",
      "  0.58077005 0.88881537 0.45811723 0.20423003]\n",
      " [0.21819786 0.77072629 0.52991303 0.56221619 0.87213831 0.84192773\n",
      "  0.56739381 0.58576245 0.33065867 0.52106201 0.18292686 0.33112734\n",
      "  0.91659935 0.54517177 0.89439683 0.30221398 0.41238523 0.75211708\n",
      "  0.5142136  0.85965327 0.55840895 0.78850138 0.56074038 0.88510712\n",
      "  0.44566653 0.33064574 0.83837005 0.8086095  0.57426075 0.34889641\n",
      "  0.37514365 0.25827107 0.74865782 0.85316452 0.91257762 0.26879361\n",
      "  0.61277141 0.27152789 0.63961876 0.5927717  0.15571687 0.5570672\n",
      "  0.16288696 0.88352161 0.66905245 0.71598674 0.18772478 0.13202542\n",
      "  0.35881129 0.68782283 0.07477675 0.15078751 0.70538833 0.97350092\n",
      "  0.25790718 0.53686199 0.61718536 0.26028766 0.66776076 0.35798221\n",
      "  0.67917131 0.09655465 0.85518102 0.         0.49136286 0.85919225\n",
      "  0.62590982 0.89979982 0.86868645 0.23298044 1.06999208 0.82235557\n",
      "  0.61697107 0.58869594 0.91066347 0.95820014 0.44761792 1.0225757\n",
      "  0.84241988 0.84824683 0.22416729 0.94134083 0.48360133 0.54122553\n",
      "  0.30575213 0.39021442 0.33332049 0.60799765 0.96922766 0.5741852\n",
      "  0.50446359 0.50748793 0.88863549 0.66064487 0.48368447 0.12245653\n",
      "  0.56704017 0.6283511  0.54589065 0.74429723]\n",
      " [0.67437812 0.3973186  0.22281268 0.30175425 0.70861105 0.93827071\n",
      "  0.82899805 0.22663649 0.75924313 0.57977195 0.31473753 0.72245254\n",
      "  0.77380562 0.24182587 0.69186807 0.63346267 0.47976064 0.31586531\n",
      "  0.4525418  0.46142197 0.74604566 0.85400328 0.44325916 0.74487927\n",
      "  0.44172223 0.2145368  0.49744734 0.43887245 0.79873459 0.41906239\n",
      "  0.62978829 0.51335123 0.46975464 0.73755166 0.6237457  0.6434444\n",
      "  0.80083286 0.7475396  0.86146296 0.81279101 0.58168153 0.54603037\n",
      "  0.55479868 0.57416836 0.71421542 0.6946097  0.53108291 0.35936821\n",
      "  0.57400573 0.72464539 0.41697326 0.63126022 0.68213003 1.03411475\n",
      "  0.71597611 0.24461434 0.5769677  0.31983576 0.87680483 0.26015623\n",
      "  0.53648099 0.40444398 0.95822854 0.49136286 0.         0.45373489\n",
      "  0.36343298 0.46715611 0.81148549 0.50588236 0.69595841 0.6915057\n",
      "  0.82341787 0.83269703 1.00910895 0.65645648 0.41526342 1.04461228\n",
      "  0.90583473 0.41497864 0.47340919 0.62130226 0.68169949 0.07152413\n",
      "  0.6928799  0.26110406 0.78535692 0.71183837 0.90765119 0.10592904\n",
      "  0.73328779 0.46976723 0.66037405 0.87286624 0.79862212 0.57253149\n",
      "  0.4011644  0.19608135 0.5022967  0.7700787 ]\n",
      " [0.97784912 0.09787097 0.64403648 0.31559283 0.45882773 0.87064889\n",
      "  0.93709798 0.27401911 1.02252556 0.62455707 0.68099165 0.96323456\n",
      "  0.52201111 0.65748858 0.40487127 0.85852949 0.60337361 0.14273272\n",
      "  0.48596392 0.01656418 0.81934077 0.78186615 0.42941543 0.50621736\n",
      "  0.53873911 0.66191956 0.12967699 0.07981888 0.88475614 0.59877062\n",
      "  0.80268998 0.74737241 0.22720406 0.52807201 0.26098401 0.89455489\n",
      "  0.85540594 1.06124042 0.92673992 0.89069922 0.88580755 0.55009548\n",
      "  0.84856851 0.20657661 0.67549392 0.60114786 0.80808682 0.73898179\n",
      "  0.7460642  0.67354966 0.7945941  0.96559571 0.59284725 0.91091225\n",
      "  1.01393802 0.32494308 0.5312914  0.76137924 0.92677899 0.71341742\n",
      "  0.41079085 0.79626139 0.89173196 0.85919225 0.45373489 0.\n",
      "  0.27810443 0.0730595  0.6349619  0.75559221 0.24392506 0.48533609\n",
      "  0.88654696 0.9249536  0.92641353 0.26704814 0.51338206 0.88328341\n",
      "  0.81640773 0.07107298 0.73037109 0.22135611 0.78904295 0.46906531\n",
      "  0.93818466 0.71462666 1.06643124 0.72724105 0.6982367  0.46871645\n",
      "  0.84495391 0.51006582 0.35646497 0.92667905 0.95904865 0.89428136\n",
      "  0.38139861 0.25853713 0.50888429 0.68989732]\n",
      " [0.71475393 0.18053734 0.58624446 0.07103401 0.34544191 0.64734281\n",
      "  0.66381695 0.14587925 0.75006828 0.3532662  0.46383052 0.68858177\n",
      "  0.41126882 0.60514433 0.33012699 0.58371392 0.32546195 0.25495871\n",
      "  0.2096336  0.27112334 0.54925785 0.55750156 0.15702811 0.38311571\n",
      "  0.26076346 0.51782166 0.2162794  0.20562572 0.61391085 0.32685565\n",
      "  0.52477778 0.47707987 0.12596425 0.38016719 0.29339761 0.62260604\n",
      "  0.59002132 0.7987368  0.66071652 0.62140097 0.62605514 0.28376091\n",
      "  0.58745959 0.25852366 0.43165887 0.37825977 0.54439206 0.52230359\n",
      "  0.46855549 0.43472432 0.57141051 0.71249916 0.3672044  0.71698803\n",
      "  0.74849891 0.12290248 0.28030643 0.59658454 0.66422736 0.58309656\n",
      "  0.19045515 0.58160764 0.66856973 0.62590982 0.36343298 0.27810443\n",
      "  0.         0.34295481 0.46569916 0.48804656 0.44872949 0.3330882\n",
      "  0.62007648 0.6538322  0.71183919 0.33636101 0.23600975 0.71138879\n",
      "  0.60171121 0.30577884 0.46583958 0.31589249 0.51349033 0.41769078\n",
      "  0.66450069 0.59659419 0.79630633 0.46746945 0.55532182 0.43831222\n",
      "  0.56984206 0.23407561 0.30294447 0.66321402 0.68137697 0.63971476\n",
      "  0.10509801 0.22791431 0.23884792 0.46529441]\n",
      " [1.02926727 0.16347456 0.64024415 0.37281505 0.52880665 0.94370839\n",
      "  1.00532793 0.31564069 1.07905248 0.69317382 0.71890642 1.02154655\n",
      "  0.59087716 0.6518408  0.47284828 0.91722775 0.66628821 0.15295179\n",
      "  0.55232741 0.08744338 0.88855845 0.85491477 0.49716231 0.57623866\n",
      "  0.60199096 0.68026215 0.20037805 0.1523376  0.95380974 0.65671274\n",
      "  0.86524269 0.80352666 0.30011438 0.59943814 0.32346791 0.95109598\n",
      "  0.92573721 1.11205236 0.99701441 0.96019313 0.93613859 0.61969016\n",
      "  0.89970749 0.27145436 0.74786527 0.67412621 0.86062527 0.77579397\n",
      "  0.80787727 0.74616879 0.83263255 1.01268168 0.66576589 0.98324246\n",
      "  1.06638214 0.37394159 0.60277619 0.78301005 0.99767086 0.72677172\n",
      "  0.48333527 0.8316432  0.96479104 0.89979982 0.46715611 0.0730595\n",
      "  0.34295481 0.         0.70681582 0.81026935 0.25744227 0.55725581\n",
      "  0.95669401 0.99395115 0.99938295 0.32252657 0.57570341 0.95444414\n",
      "  0.88942366 0.05282595 0.78378986 0.27651784 0.85608415 0.47142825\n",
      "  0.99579714 0.72468395 1.12133396 0.79828784 0.7680674  0.4655248\n",
      "  0.91227191 0.5766551  0.4239521  0.99742255 1.02412285 0.94238369\n",
      "  0.44757818 0.27966553 0.57755391 0.76291347]\n",
      " [0.83495696 0.570444   1.02967612 0.51364075 0.18792293 0.27539316\n",
      "  0.52944983 0.61049284 0.80128684 0.34951443 0.77748254 0.73073866\n",
      "  0.14977552 1.0497873  0.25450564 0.65159013 0.45759209 0.69115186\n",
      "  0.38668821 0.6196133  0.42151277 0.20836137 0.37348324 0.14488446\n",
      "  0.43868317 0.91325829 0.50657659 0.5609802  0.47020848 0.52835174\n",
      "  0.55431786 0.62000349 0.41997336 0.10913275 0.41092155 0.70725542\n",
      "  0.41244805 0.90663942 0.46682697 0.462481   0.78164873 0.31597458\n",
      "  0.74648126 0.44774639 0.22313216 0.15291223 0.70297107 0.82308981\n",
      "  0.53492927 0.20410893 0.84866707 0.87727207 0.1632988  0.27807242\n",
      "  0.84937908 0.56977049 0.26017578 0.96020464 0.44730756 0.98233387\n",
      "  0.27729987 0.87395666 0.29324492 0.86868645 0.81148549 0.6349619\n",
      "  0.46569916 0.70681582 0.         0.64416322 0.62555573 0.14963169\n",
      "  0.44045758 0.50112534 0.31069398 0.4414167  0.4493982  0.25066084\n",
      "  0.21333437 0.69627262 0.64587271 0.47357965 0.45776119 0.87370194\n",
      "  0.7227533  1.00422249 0.85796143 0.30982564 0.10260253 0.89811859\n",
      "  0.48596094 0.3815642  0.30064286 0.45210747 0.61374935 0.81372083\n",
      "  0.41053538 0.69311266 0.34066518 0.16045624]\n",
      " [0.22808592 0.65910679 0.63108073 0.4400749  0.66980472 0.61025261\n",
      "  0.3641046  0.50213802 0.27027724 0.29465155 0.23621998 0.22066506\n",
      "  0.70679922 0.65028711 0.70183054 0.12776188 0.20041074 0.6793738\n",
      "  0.32306591 0.75180244 0.33187964 0.55552115 0.37951896 0.6761711\n",
      "  0.2513555  0.43720066 0.70318744 0.69061095 0.35763069 0.1628755\n",
      "  0.15555186 0.02529523 0.59687199 0.64011017 0.74861466 0.14388573\n",
      "  0.38836984 0.3119125  0.4249363  0.37562458 0.14708641 0.34229387\n",
      "  0.10817932 0.73019804 0.43788803 0.49137597 0.06212135 0.2447445\n",
      "  0.12698308 0.45694086 0.2388583  0.24261483 0.48157365 0.74089136\n",
      "  0.26050204 0.43783148 0.40307189 0.41858168 0.45039238 0.49180451\n",
      "  0.48707036 0.271848   0.62412397 0.23298044 0.50588236 0.75559221\n",
      "  0.48804656 0.81026935 0.64416322 0.         0.93404778 0.6145393\n",
      "  0.39704203 0.37936213 0.67978693 0.79615358 0.26467576 0.78966474\n",
      "  0.60948243 0.76344642 0.03251053 0.78805802 0.25578042 0.57292809\n",
      "  0.19206388 0.5237917  0.31108795 0.37501736 0.74292175 0.60869882\n",
      "  0.28557017 0.30926553 0.70458798 0.44391019 0.30500431 0.17294747\n",
      "  0.40312177 0.57237643 0.34208082 0.51320404]\n",
      " [1.16180353 0.30724837 0.88754904 0.50816732 0.43869259 0.89459928\n",
      "  1.04386385 0.49919923 1.18914614 0.74041694 0.89892461 1.12413364\n",
      "  0.48166866 0.90065226 0.37144683 1.02015045 0.75535488 0.38643159\n",
      "  0.62662578 0.23478656 0.92123992 0.81381326 0.56606694 0.48076772\n",
      "  0.6925216  0.90067463 0.23263194 0.26616303 0.98596228 0.77136688\n",
      "  0.94883849 0.92118592 0.3388019  0.5191634  0.22398277 1.06350089\n",
      "  0.9447077  1.24577169 1.01438038 0.98758288 1.07430241 0.66214571\n",
      "  1.03550903 0.21393418 0.74166113 0.65089988 0.99184077 0.95777005\n",
      "  0.89752611 0.73339714 1.01070016 1.16122693 0.64677661 0.89804738\n",
      "  1.19430525 0.53558032 0.62331208 0.99726762 1.0070088  0.95459102\n",
      "  0.49595115 1.01649727 0.91410066 1.06999208 0.69595841 0.24392506\n",
      "  0.44872949 0.25744227 0.62555573 0.93404778 0.         0.49097864\n",
      "  0.97684785 1.02545936 0.93607149 0.18532742 0.6729357  0.84935587\n",
      "  0.83402795 0.29864892 0.91335669 0.16373947 0.90947281 0.71298831\n",
      "  1.10228913 0.95706244 1.23810153 0.81305434 0.65498854 0.71211039\n",
      "  0.9615071  0.64757728 0.32809476 1.00878941 1.08727617 1.08844221\n",
      "  0.53249155 0.49993402 0.63191943 0.73079115]\n",
      " [0.82683574 0.42214088 0.91328489 0.3897707  0.06413542 0.4044678\n",
      "  0.58940818 0.47890041 0.81404366 0.3345187  0.70511937 0.7432858\n",
      "  0.09459186 0.93282486 0.12537712 0.65122183 0.41504267 0.54496886\n",
      "  0.31086801 0.47001244 0.46948677 0.32286611 0.27728409 0.06285298\n",
      "  0.37685466 0.81645188 0.35711426 0.41153236 0.52895086 0.47346342\n",
      "  0.55927939 0.59283296 0.27243891 0.04737845 0.26971506 0.70474177\n",
      "  0.47846056 0.90497188 0.54345975 0.52611291 0.75994733 0.27270507\n",
      "  0.72201986 0.30140101 0.26915444 0.17343047 0.6763218  0.75647738\n",
      "  0.52540285 0.25623841 0.79052358 0.85636278 0.17388638 0.42652195\n",
      "  0.84800937 0.44690847 0.21246874 0.87575759 0.53084118 0.88501457\n",
      "  0.16006805 0.81167997 0.42438971 0.82235557 0.6915057  0.48533609\n",
      "  0.3330882  0.55725581 0.14963169 0.6145393  0.49097864 0.\n",
      "  0.50982118 0.56553877 0.45067428 0.30572992 0.37818259 0.39918691\n",
      "  0.34487513 0.54684533 0.60871461 0.3326504  0.48290605 0.74942945\n",
      "  0.72965657 0.9038238  0.8694976  0.353081   0.22474662 0.77114081\n",
      "  0.52441474 0.31505839 0.16311799 0.53388389 0.65623664 0.78747944\n",
      "  0.2998926  0.55653616 0.27655027 0.24260557]\n",
      " [0.48883858 0.79373173 0.99481734 0.61690711 0.57339715 0.2585241\n",
      "  0.09227901 0.71711907 0.41417591 0.26794111 0.62270331 0.35249352\n",
      "  0.57093468 1.01517794 0.63369108 0.32053178 0.34434758 0.87189529\n",
      "  0.41532911 0.87592172 0.07742362 0.25226223 0.46306047 0.55084093\n",
      "  0.39204419 0.81625205 0.78401545 0.80742503 0.04547055 0.40650059\n",
      "  0.2431742  0.37434167 0.66674052 0.50442945 0.75456245 0.36847328\n",
      "  0.03214018 0.5386424  0.04069419 0.02831332 0.47760534 0.33729834\n",
      "  0.45687097 0.76577751 0.24082758 0.33645639 0.42978554 0.64040103\n",
      "  0.27603362 0.25385373 0.6350744  0.55639753 0.33712122 0.39434875\n",
      "  0.48636817 0.65052195 0.35875576 0.81266631 0.05479996 0.8772476\n",
      "  0.48612538 0.66849975 0.26415979 0.61697107 0.82341787 0.88654696\n",
      "  0.62007648 0.95669401 0.44045758 0.39704203 0.97684785 0.50982118\n",
      "  0.         0.06158461 0.31471065 0.79840152 0.42118484 0.46549145\n",
      "  0.28868094 0.9242867  0.42021106 0.81312328 0.14732973 0.89493981\n",
      "  0.35833265 0.90776686 0.46811035 0.16388205 0.5072954  0.92883582\n",
      "  0.1125954  0.3911539  0.663368   0.04976988 0.19304359 0.51597525\n",
      "  0.51606332 0.80706129 0.38123575 0.28155992]\n",
      " [0.44466314 0.83052318 0.99407078 0.64470899 0.6294339  0.31537285\n",
      "  0.03178851 0.74192543 0.36225009 0.30087511 0.61186483 0.30441298\n",
      "  0.62949123 1.0141552  0.68839157 0.28724386 0.35949685 0.90224566\n",
      "  0.44560221 0.91501863 0.10584572 0.31366939 0.49731273 0.60855968\n",
      "  0.41342796 0.809471   0.82687009 0.84653462 0.04023272 0.41363733\n",
      "  0.22399191 0.35869133 0.70892033 0.56224245 0.80451858 0.33023767\n",
      "  0.08892025 0.48882384 0.05575039 0.03949066 0.44305956 0.37510207\n",
      "  0.42633364 0.81307218 0.29654611 0.39219615 0.40422244 0.62408554\n",
      "  0.26753341 0.31084423 0.6133724  0.51599623 0.39191886 0.44972166\n",
      "  0.43851999 0.67420209 0.40344112 0.79791057 0.08722213 0.86795735\n",
      "  0.53149704 0.64732247 0.31915401 0.58869594 0.83269703 0.9249536\n",
      "  0.6538322  0.99395115 0.50112534 0.37936213 1.02545936 0.56553877\n",
      "  0.06158461 0.         0.36723238 0.84915957 0.44273762 0.52331042\n",
      "  0.34881756 0.95941952 0.40565274 0.86196424 0.15173118 0.9040014\n",
      "  0.31376419 0.89925003 0.4146748  0.21437243 0.56886954 0.93858134\n",
      "  0.09995385 0.42108259 0.71629899 0.0792871  0.13715169 0.48148833\n",
      "  0.54889183 0.83045767 0.4164053  0.34159796]\n",
      " [0.8019967  0.85063069 1.20973478 0.73954307 0.49762251 0.07240284\n",
      "  0.39854591 0.84445232 0.72842047 0.4387305  0.88007598 0.66717153\n",
      "  0.45835917 1.23045845 0.56470074 0.62722719 0.55598547 0.9599455\n",
      "  0.55688423 0.91208447 0.35526186 0.15622056 0.57605064 0.45557403\n",
      "  0.57409353 1.05554628 0.80204313 0.84869764 0.35992764 0.63215922\n",
      "  0.5385644  0.6548968  0.70155639 0.4173945  0.71912561 0.67850022\n",
      "  0.30695928 0.85335102 0.31275995 0.34293363 0.78248546 0.46311226\n",
      "  0.75717976 0.75192816 0.29489518 0.33396173 0.72384802 0.9100647\n",
      "  0.55281457 0.28521825 0.91634119 0.86650465 0.3447146  0.08894132\n",
      "  0.80091391 0.78892393 0.43893688 1.07372235 0.28164633 1.1219605\n",
      "  0.52747841 0.94786223 0.05576413 0.91066347 1.00910895 0.92641353\n",
      "  0.71183919 0.99938295 0.31069398 0.67978693 0.93607149 0.45067428\n",
      "  0.31471065 0.36723238 0.         0.75150789 0.59747659 0.17353548\n",
      "  0.11083193 0.98190849 0.69590743 0.78206566 0.42774255 1.07818391\n",
      "  0.67217523 1.14944585 0.78164205 0.31491809 0.31009691 1.10803264\n",
      "  0.41758921 0.53938671 0.60969578 0.28948043 0.50437164 0.82022633\n",
      "  0.62711991 0.93437606 0.50766125 0.24670882]\n",
      " [1.02361884 0.26765391 0.8694737  0.40571301 0.25388678 0.70930362\n",
      "  0.86916233 0.43438226 1.0388619  0.57379302 0.80006913 0.97134815\n",
      "  0.30069625 0.8856211  0.18691402 0.86941803 0.60572114 0.38938737\n",
      "  0.47637851 0.25091222 0.74642322 0.62859475 0.41745402 0.29708844\n",
      "  0.54651568 0.8407891  0.16293078 0.23086633 0.81022823 0.63428567\n",
      "  0.79099238 0.78031974 0.21070157 0.33423213 0.04781706 0.91649556\n",
      "  0.7663125  1.10686511 0.83503649 0.81066801 0.94111547 0.49648053\n",
      "  0.90181844 0.08253779 0.56055918 0.4681648  0.85656906 0.85841137\n",
      "  0.74352367 0.55128534 0.90655166 1.03259354 0.46476099 0.71604192\n",
      "  1.05301582 0.44823652 0.45154926 0.9270918  0.82621065 0.90210926\n",
      "  0.32794437 0.9176949  0.72885141 0.95820014 0.65645648 0.26704814\n",
      "  0.33636101 0.32252657 0.4414167  0.79615358 0.18532742 0.30572992\n",
      "  0.79840152 0.84915957 0.75150789 0.         0.53148182 0.67136499\n",
      "  0.64882552 0.3380684  0.77938067 0.04606593 0.74103653 0.69115527\n",
      "  0.95168869 0.91080462 1.09035772 0.63529265 0.47755348 0.69960126\n",
      "  0.79088767 0.49450815 0.14276766 0.82834117 0.91943606 0.95975359\n",
      "  0.39545664 0.4688691  0.47235451 0.54634447]\n",
      " [0.49237756 0.41552348 0.61243219 0.20735927 0.42512296 0.52576989\n",
      "  0.44703248 0.29966003 0.5169146  0.16470716 0.32988452 0.45370971\n",
      "  0.47277151 0.63314655 0.4473512  0.34896457 0.0908074  0.46589698\n",
      "  0.06733819 0.5069599  0.34469862 0.44467956 0.11602208 0.44099143\n",
      "  0.02932085 0.4700199  0.44491598 0.44157628 0.4047052  0.10368389\n",
      "  0.28956769 0.24945663 0.33432507 0.41305406 0.48396442 0.39063018\n",
      "  0.39511693 0.57588604 0.46116796 0.41577774 0.41006342 0.14071125\n",
      "  0.37074501 0.46628371 0.30414517 0.30661999 0.32525046 0.37908558\n",
      "  0.23268812 0.31698614 0.41242792 0.50293452 0.29421942 0.63060903\n",
      "  0.52285398 0.23158509 0.18958247 0.51091614 0.47193999 0.53867462\n",
      "  0.231645   0.43361328 0.5452137  0.44761792 0.41526342 0.51338206\n",
      "  0.23600975 0.57570341 0.4493982  0.26467576 0.6729357  0.37818259\n",
      "  0.42118484 0.44273762 0.59747659 0.53148182 0.         0.6533647\n",
      "  0.49841437 0.53446226 0.24881346 0.52393664 0.29347398 0.48590879\n",
      "  0.43051719 0.56304805 0.56519767 0.2967961  0.55193644 0.51783844\n",
      "  0.34982945 0.06785074 0.44470184 0.46905924 0.45074399 0.43054953\n",
      "  0.14046744 0.38772027 0.10874352 0.36771633]\n",
      " [0.93957183 0.82097201 1.25746001 0.75375828 0.42719016 0.20817863\n",
      "  0.55509817 0.85417909 0.87711292 0.51431161 0.96515011 0.81198562\n",
      "  0.37116351 1.2779433  0.48898469 0.7582304  0.63433085 0.94168701\n",
      "  0.59959465 0.86765674 0.48859716 0.23495039 0.60135954 0.38009718\n",
      "  0.63546964 1.12318721 0.75409783 0.8105701  0.50861366 0.7109407\n",
      "  0.66357492 0.76437029 0.67060594 0.35524942 0.64763418 0.81230689\n",
      "  0.45043288 0.99807583 0.47178558 0.49353797 0.9080183  0.51265347\n",
      "  0.87857296 0.68992472 0.35958192 0.3510198  0.84064201 1.00278554\n",
      "  0.66555205 0.34276207 1.01765187 0.99755989 0.36361564 0.08590565\n",
      "  0.94342789 0.80829451 0.47033849 1.15607436 0.44213742 1.19162233\n",
      "  0.52102774 1.04692425 0.20749265 1.0225757  1.04461228 0.88328341\n",
      "  0.71138879 0.95444414 0.25066084 0.78966474 0.84935587 0.39918691\n",
      "  0.46549145 0.52331042 0.17353548 0.67136499 0.6533647  0.\n",
      "  0.18353972 0.94587199 0.80032162 0.70855696 0.55263808 1.10982422\n",
      "  0.81304272 1.21638726 0.93211294 0.41489541 0.19436985 1.13628518\n",
      "  0.55568401 0.58784866 0.53779887 0.44958856 0.65852346 0.94435761\n",
      "  0.64536628 0.93930057 0.54974282 0.28780117]\n",
      " [0.75614815 0.73992703 1.11039722 0.63114751 0.39561667 0.06211052\n",
      "  0.3803744  0.73572576 0.69585684 0.34607351 0.79518526 0.62980121\n",
      "  0.36310979 1.13108574 0.46295085 0.57469804 0.46594471 0.84918014\n",
      "  0.45338502 0.80221588 0.30553947 0.0553279  0.46872222 0.35621699\n",
      "  0.47684062 0.96307467 0.69279618 0.7384298  0.32982162 0.54291063\n",
      "  0.48025979 0.5842112  0.591087   0.31514108 0.61447724 0.6287782\n",
      "  0.27036648 0.81553144 0.30121378 0.3160174  0.7249616  0.36062399\n",
      "  0.69605671 0.64503719 0.19442443 0.22352151 0.65891512 0.82943885\n",
      "  0.48417795 0.18176423 0.84090778 0.814102   0.23451656 0.13442074\n",
      "  0.7605496  0.68152206 0.33160192 0.9879925  0.27422698 1.03049938\n",
      "  0.41669253 0.87109974 0.080271   0.84241988 0.90583473 0.81640773\n",
      "  0.60171121 0.88942366 0.21333437 0.60948243 0.83402795 0.34487513\n",
      "  0.28868094 0.34881756 0.11083193 0.64882552 0.49841437 0.18353972\n",
      "  0.         0.87136603 0.62182801 0.67744447 0.369167   0.97412112\n",
      "  0.6300912  1.05691292 0.75133482 0.23474604 0.23987512 1.00324685\n",
      "  0.37301493 0.43739446 0.5062388  0.28094441 0.48087233 0.7615177\n",
      "  0.51887904 0.82522959 0.40353844 0.13764579]\n",
      " [0.98074624 0.1329819  0.59205808 0.329045   0.52409785 0.92392927\n",
      "  0.96959489 0.26553698 1.032909   0.65862904 0.6669975  0.97650337\n",
      "  0.58844139 0.60426361 0.47240856 0.87254617 0.62525993 0.10015451\n",
      "  0.51524031 0.08742602 0.85455312 0.83444742 0.46214395 0.57130465\n",
      "  0.56146893 0.62774483 0.19648872 0.13531398 0.9194267  0.61202129\n",
      "  0.82347768 0.75749103 0.28039863 0.59080798 0.33153651 0.90508248\n",
      "  0.89375284 1.06323638 0.96480835 0.9265528  0.8872694  0.58701898\n",
      "  0.85118691 0.27663112 0.72210428 0.65266193 0.81273284 0.72368481\n",
      "  0.76560069 0.72164665 0.78067257 0.96265041 0.64363492 0.97028557\n",
      "  1.01825895 0.32593957 0.57437193 0.73030205 0.96682534 0.67483047\n",
      "  0.45940419 0.77932574 0.94513799 0.84824683 0.41497864 0.07107298\n",
      "  0.30577884 0.05282595 0.69627262 0.76344642 0.29864892 0.54684533\n",
      "  0.9242867  0.95941952 0.98190849 0.3380684  0.53446226 0.94587199\n",
      "  0.87136603 0.         0.73639654 0.29230678 0.8189611  0.42125179\n",
      "  0.95035388 0.67325227 1.07430554 0.76815883 0.76323448 0.4168272\n",
      "  0.87541104 0.53973472 0.42453087 0.96623146 0.984498   0.89272296\n",
      "  0.41087476 0.22684368 0.54349605 0.74181757]\n",
      " [0.24895103 0.63442259 0.59991578 0.41532338 0.66228947 0.62555866\n",
      "  0.3917266  0.47386148 0.29941203 0.29722167 0.20707515 0.25208968\n",
      "  0.70188388 0.6192378  0.69156336 0.16027012 0.1938079  0.65103813\n",
      "  0.3103273  0.72703508 0.35249913 0.56731052 0.36469121 0.6708848\n",
      "  0.23861939 0.40730874 0.6817202  0.66681239 0.38215184 0.14526189\n",
      "  0.18179279 0.04709318 0.57753798 0.63630349 0.73206175 0.17446279\n",
      "  0.40973977 0.33291485 0.44960977 0.39986198 0.16183291 0.33825884\n",
      "  0.12262085 0.71167122 0.44510463 0.49298309 0.07855394 0.22020108\n",
      "  0.14564171 0.46378323 0.2204349  0.25417561 0.48267381 0.75435407\n",
      "  0.28371361 0.41048471 0.39902844 0.39289017 0.47413826 0.46321918\n",
      "  0.47586452 0.25225637 0.64015172 0.22416729 0.47340919 0.73037109\n",
      "  0.46583958 0.78378986 0.64587271 0.03251053 0.91335669 0.60871461\n",
      "  0.42021106 0.40565274 0.69590743 0.77938067 0.24881346 0.80032162\n",
      "  0.62182801 0.73639654 0.         0.76970656 0.27627243 0.54041757\n",
      "  0.22318913 0.49495129 0.33804754 0.38710269 0.74582478 0.5761883\n",
      "  0.30997202 0.29857477 0.69217166 0.46788469 0.33608225 0.18208673\n",
      "  0.38467732 0.54245948 0.33361435 0.52028799]\n",
      " [1.01608217 0.22789345 0.83167544 0.38305537 0.28573991 0.73709504\n",
      "  0.8806722  0.40239777 1.03645833 0.5793792  0.77894076 0.97002218\n",
      "  0.33740269 0.84742117 0.22037951 0.86698475 0.60216484 0.34637789\n",
      "  0.47259574 0.2053253  0.7579756  0.65431096 0.41253789 0.33084906\n",
      "  0.54105718 0.81032704 0.12415703 0.18936655 0.82254956 0.62536376\n",
      "  0.7919191  0.77339322 0.19334775 0.36504897 0.0629775  0.91245707\n",
      "  0.78098312 1.09973119 0.85064209 0.82399254 0.93151302 0.50129453\n",
      "  0.89232739 0.05816429 0.5781695  0.48809214 0.84758545 0.83761362\n",
      "  0.74242352 0.57021413 0.88726499 1.02148707 0.48363678 0.75019537\n",
      "  1.04676516 0.42180255 0.46048001 0.89912861 0.84338117 0.87033617\n",
      "  0.33380885 0.896909   0.75703966 0.94134083 0.62130226 0.22135611\n",
      "  0.31589249 0.27651784 0.47357965 0.78805802 0.16373947 0.3326504\n",
      "  0.81312328 0.86196424 0.78206566 0.04606593 0.52393664 0.70855696\n",
      "  0.67744447 0.29230678 0.76970656 0.         0.74801499 0.65329304\n",
      "  0.94931818 0.8778568  1.08687957 0.6493494  0.51561379 0.66043453\n",
      "  0.79936715 0.49221366 0.17295619 0.84511671 0.92618604 0.94853349\n",
      "  0.38510033 0.43098681 0.47344564 0.56941175]\n",
      " [0.38890297 0.69283158 0.84824765 0.49838297 0.54638185 0.36052584\n",
      "  0.15356839 0.59313338 0.34367377 0.16922626 0.47613566 0.27342484\n",
      "  0.56141916 0.86854458 0.59756815 0.20580803 0.20817185 0.75701657\n",
      "  0.30385968 0.78020882 0.07624475 0.31887018 0.35969959 0.53555086\n",
      "  0.26432344 0.66893324 0.69925587 0.71216447 0.11713848 0.26279892\n",
      "  0.11157856 0.23183002 0.58121149 0.49142036 0.69447278 0.26055204\n",
      "  0.13362074 0.45375314 0.18193958 0.13208109 0.35665147 0.24750079\n",
      "  0.32973464 0.69554324 0.23463498 0.31917283 0.29628166 0.49608272\n",
      "  0.13070913 0.25370615 0.49459647 0.44493506 0.3142857  0.49498668\n",
      "  0.39721421 0.52497617 0.28981637 0.66714604 0.20212439 0.73013331\n",
      "  0.41426406 0.52737632 0.37259215 0.48360133 0.68169949 0.78904295\n",
      "  0.51349033 0.85608415 0.45776119 0.25578042 0.90947281 0.48290605\n",
      "  0.14732973 0.15173118 0.42774255 0.74103653 0.29347398 0.55263808\n",
      "  0.369167   0.8189611  0.27627243 0.74801499 0.         0.75309953\n",
      "  0.26773035 0.7605481  0.40037378 0.14957271 0.54457111 0.78751102\n",
      "  0.05665234 0.27945809 0.6176881  0.19676502 0.17840109 0.39380759\n",
      "  0.40855346 0.68073523 0.28228692 0.30298921]\n",
      " [0.73285242 0.42579328 0.17838687 0.3607435  0.76273213 1.00762489\n",
      "  0.90005085 0.27455682 0.82169646 0.65054832 0.37114512 0.78748207\n",
      "  0.8289034  0.1945778  0.74161502 0.7006806  0.55126289 0.32677642\n",
      "  0.52131297 0.47885399 0.8175691  0.92273789 0.50906671 0.80078651\n",
      "  0.51264077 0.23645915 0.52924684 0.46605648 0.87015852 0.49039508\n",
      "  0.69986205 0.58143347 0.51543765 0.79602757 0.66184789 0.70843028\n",
      "  0.87234386 0.80349411 0.93296593 0.88426191 0.64152268 0.61510394\n",
      "  0.61650142 0.60989898 0.78333424 0.76084979 0.59516754 0.41041139\n",
      "  0.64449683 0.79333834 0.46645021 0.68536307 0.74844645 1.10145806\n",
      "  0.77467258 0.30407684 0.64411605 0.34272451 0.94832761 0.26536898\n",
      "  0.59719846 0.45010404 1.02770975 0.54122553 0.07152413 0.46906531\n",
      "  0.41769078 0.47142825 0.87370194 0.57292809 0.71298831 0.74942945\n",
      "  0.89493981 0.9040014  1.07818391 0.69115527 0.48590879 1.10982422\n",
      "  0.97412112 0.42125179 0.54041757 0.65329304 0.75309953 0.\n",
      "  0.75781837 0.25735047 0.84547303 0.78264419 0.96831308 0.03577128\n",
      "  0.80451777 0.53917898 0.70736331 0.94439029 0.86818693 0.62986728\n",
      "  0.46478007 0.22235989 0.57077631 0.83783076]\n",
      " [0.13094402 0.84072184 0.79720028 0.62328646 0.79064287 0.61170765\n",
      "  0.28633436 0.69186902 0.08718299 0.39537164 0.39930916 0.02970979\n",
      "  0.81515659 0.81517563 0.83349769 0.08233777 0.34727038 0.868906\n",
      "  0.47674202 0.93322867 0.32455189 0.58278012 0.53699533 0.78704428\n",
      "  0.40978869 0.59653954 0.87542245 0.86971294 0.31286538 0.33943772\n",
      "  0.17078933 0.19357657 0.76352888 0.74538249 0.90388726 0.04943553\n",
      "  0.3658181  0.1862574  0.36914178 0.33054476 0.15004923 0.46446347\n",
      "  0.15353997 0.89263505 0.50022471 0.57804001 0.16322868 0.3854957\n",
      "  0.20889898 0.51963488 0.35329559 0.2043115  0.57127491 0.74837552\n",
      "  0.13048242 0.62623217 0.52061001 0.55261088 0.40018105 0.64092517\n",
      "  0.62820808 0.38654621 0.61993485 0.30575213 0.6928799  0.93818466\n",
      "  0.66450069 0.99579714 0.7227533  0.19206388 1.10228913 0.72965657\n",
      "  0.35833265 0.31376419 0.67217523 0.95168869 0.43051719 0.81304272\n",
      "  0.6300912  0.95035388 0.22318913 0.94931818 0.26773035 0.75781837\n",
      "  0.         0.67382511 0.14030755 0.41713894 0.81185512 0.79349818\n",
      "  0.25743462 0.4574021  0.84485452 0.39235347 0.18769353 0.18502547\n",
      "  0.57066281 0.76404257 0.48053389 0.57040624]\n",
      " [0.60722209 0.65692262 0.15054231 0.52741724 0.93170806 1.07704365\n",
      "  0.88651561 0.47645179 0.71545719 0.7115467  0.28787686 0.70238379\n",
      "  0.99304014 0.16132641 0.92536065 0.64115925 0.59348005 0.57539966\n",
      "  0.61974677 0.72249734 0.8346684  1.00206622 0.6322663  0.96231229\n",
      "  0.58151759 0.09391425 0.75488453 0.69869085 0.87308212 0.51772332\n",
      "  0.67629808 0.54201028 0.71430126 0.94693925 0.87523409 0.6282716\n",
      "  0.89262111 0.66024164 0.94028744 0.8900672  0.53106815 0.70375065\n",
      "  0.52031723 0.82826741 0.86302681 0.86848659 0.51820167 0.28853274\n",
      "  0.63292669 0.87751106 0.32503689 0.54020844 0.8559509  1.1906541\n",
      "  0.64769704 0.47382859 0.7495131  0.13192171 0.96249743 0.03291362\n",
      "  0.74383475 0.29512045 1.09491272 0.39021442 0.26110406 0.71462666\n",
      "  0.59659419 0.72468395 1.00422249 0.5237917  0.95706244 0.9038238\n",
      "  0.90776686 0.89925003 1.14944585 0.91080462 0.56304805 1.21638726\n",
      "  1.05691292 0.67325227 0.49495129 0.8778568  0.7605481  0.25735047\n",
      "  0.67382511 0.         0.72302474 0.835764   1.10528504 0.27405286\n",
      "  0.801421   0.62921455 0.89951056 0.95685882 0.82657092 0.50600823\n",
      "  0.6039315  0.45716072 0.66851025 0.92996696]\n",
      " [0.11607765 0.96966534 0.8591943  0.7508402  0.93071455 0.72644009\n",
      "  0.38381203 0.81180268 0.05670262 0.53545517 0.47519446 0.12738934\n",
      "  0.95426644 0.8754101  0.97380516 0.22158339 0.48487216 0.98889772\n",
      "  0.61446373 1.06236777 0.44846171 0.70719038 0.67434451 0.92645336\n",
      "  0.54608627 0.6575707  1.00950614 1.00036117 0.42390701 0.46947137\n",
      "  0.3102321  0.31946211 0.89936788 0.88436892 1.04254105 0.17461355\n",
      "  0.48169266 0.08877884 0.46990535 0.43980929 0.2039514  0.60474906\n",
      "  0.23170091 1.02984375 0.63485706 0.71565049 0.26359025 0.44560253\n",
      "  0.34886866 0.65402519 0.39936047 0.18773977 0.70932706 0.86245907\n",
      "  0.07541441 0.74846544 0.66087598 0.59360719 0.50140063 0.69055367\n",
      "  0.76800834 0.42795744 0.73219275 0.33332049 0.78535692 1.06643124\n",
      "  0.79630633 1.12133396 0.85796143 0.31108795 1.23810153 0.8694976\n",
      "  0.46811035 0.4146748  0.78164205 1.09035772 0.56519767 0.93211294\n",
      "  0.75133482 1.07430554 0.33804754 1.08687957 0.40037378 0.84547303\n",
      "  0.14030755 0.72302474 0.         0.54958648 0.94439115 0.88048878\n",
      "  0.38037821 0.59584959 0.9849586  0.49346267 0.27765885 0.21954952\n",
      "  0.70566493 0.87810672 0.62013524 0.70289832]\n",
      " [0.53604125 0.63629455 0.90265383 0.47347083 0.41719608 0.24281299\n",
      "  0.2366628  0.57721887 0.49288939 0.13209932 0.56531688 0.42287989\n",
      "  0.42304863 0.92335877 0.47468399 0.35174025 0.24281456 0.72195767\n",
      "  0.27298245 0.71603456 0.11676053 0.18050903 0.31218638 0.39971324\n",
      "  0.27015752 0.7419587  0.62159308 0.64769661 0.17646077 0.31804343\n",
      "  0.25437919 0.34972684 0.50495874 0.35400865 0.59108313 0.40730169\n",
      "  0.13176154 0.60291668 0.2023009  0.17550488 0.49552123 0.18459664\n",
      "  0.4646661  0.60190663 0.08830307 0.18103972 0.42590636 0.59676699\n",
      "  0.25075272 0.10623061 0.60648021 0.58751746 0.17924951 0.36753003\n",
      "  0.54615465 0.51368818 0.19656282 0.75890946 0.19961712 0.80781939\n",
      "  0.32292447 0.63699205 0.25972366 0.60799765 0.71183837 0.72724105\n",
      "  0.46746945 0.79828784 0.30982564 0.37501736 0.81305434 0.353081\n",
      "  0.16388205 0.21437243 0.31491809 0.63529265 0.2967961  0.41489541\n",
      "  0.23474604 0.76815883 0.38710269 0.6493494  0.14957271 0.78264419\n",
      "  0.41713894 0.835764   0.54958648 0.         0.39501335 0.81463058\n",
      "  0.17702216 0.25066603 0.50193544 0.19983944 0.30734366 0.53105928\n",
      "  0.36630447 0.66844993 0.23129174 0.15342575]\n",
      " [0.92776328 0.6430699  1.12728965 0.60757414 0.23940897 0.29815609\n",
      "  0.59892266 0.70110115 0.88771759 0.44872993 0.88006872 0.81786936\n",
      "  0.17875917 1.14724529 0.29755062 0.74357822 0.55911606 0.7681393\n",
      "  0.48890076 0.68223897 0.50016217 0.25774133 0.47350011 0.19203476\n",
      "  0.54126513 1.01471565 0.56856147 0.62859573 0.54199681 0.63053517\n",
      "  0.64588087 0.71847066 0.49530175 0.17752974 0.45549149 0.79935997\n",
      "  0.48229245 0.99715182 0.52819896 0.53185326 0.87812172 0.41833273\n",
      "  0.84371856 0.50001196 0.31262734 0.25344088 0.80086793 0.92549619\n",
      "  0.63050196 0.2930365  0.95051684 0.97313033 0.26444869 0.25062941\n",
      "  0.94013381 0.66430959 0.36277737 1.06266519 0.5047198  1.08378836\n",
      "  0.37126924 0.97608613 0.31105571 0.96922766 0.90765119 0.6982367\n",
      "  0.55532182 0.7680674  0.10260253 0.74292175 0.65498854 0.22474662\n",
      "  0.5072954  0.56886954 0.31009691 0.47755348 0.55193644 0.19436985\n",
      "  0.23987512 0.76323448 0.74582478 0.51561379 0.54457111 0.96831308\n",
      "  0.81185512 1.10528504 0.94439115 0.39501335 0.         0.99155448\n",
      "  0.56693805 0.48411551 0.34673437 0.51056235 0.69028567 0.9110162\n",
      "  0.5079993  0.7806449  0.44319449 0.24158771]\n",
      " [0.76759707 0.43254718 0.17546736 0.38448559 0.78203531 1.03778465\n",
      "  0.93492469 0.29329191 0.85709087 0.68254554 0.40580665 0.82316701\n",
      "  0.84869077 0.18887356 0.75834055 0.73645075 0.58485134 0.32599504\n",
      "  0.55124641 0.47948494 0.85143416 0.95231098 0.53663188 0.82112785\n",
      "  0.54492668 0.2632709  0.53691534 0.47177945 0.90451012 0.52494433\n",
      "  0.73526194 0.6171675  0.53066031 0.81801806 0.67224525 0.74411759\n",
      "  0.90594082 0.83768207 0.96703315 0.9184751  0.67655423 0.64520938\n",
      "  0.65183502 0.61922677 0.81335638 0.78837321 0.63079101 0.44390331\n",
      "  0.67972896 0.82294233 0.49944886 0.71919633 0.77604295 1.12968084\n",
      "  0.80944469 0.3285522  0.67249943 0.36841572 0.98206586 0.28562774\n",
      "  0.62103889 0.48217001 1.05799701 0.5741852  0.10592904 0.46871645\n",
      "  0.43831222 0.4655248  0.89811859 0.60869882 0.71211039 0.77114081\n",
      "  0.92883582 0.93858134 1.10803264 0.69960126 0.51783844 1.13628518\n",
      "  1.00324685 0.4168272  0.5761883  0.66043453 0.78751102 0.03577128\n",
      "  0.79349818 0.27405286 0.88048878 0.81463058 0.99155448 0.\n",
      "  0.83920263 0.56969197 0.72257597 0.97821317 0.90373423 0.66443855\n",
      "  0.49091964 0.2318629  0.60038292 0.86655047]\n",
      " [0.38544317 0.74894638 0.89439753 0.55501433 0.58838467 0.35494473\n",
      "  0.09762347 0.6494539  0.32421219 0.22285866 0.51471819 0.25695407\n",
      "  0.59873878 0.91452294 0.64216692 0.21036713 0.2635668  0.81366475\n",
      "  0.36021588 0.83595448 0.06810173 0.32712224 0.41553909 0.57431365\n",
      "  0.32074018 0.7110184  0.75366086 0.76780847 0.07218143 0.31434841\n",
      "  0.13080314 0.26351756 0.63550307 0.52918466 0.74474232 0.26091116\n",
      "  0.11101806 0.44252121 0.13963853 0.09005483 0.36697627 0.30072897\n",
      "  0.34491034 0.74769428 0.26528616 0.35581135 0.31719517 0.52980228\n",
      "  0.16863132 0.28318346 0.52291912 0.44896054 0.35243778 0.49147999\n",
      "  0.38775239 0.58121239 0.33940545 0.70286186 0.16494185 0.77039697\n",
      "  0.46564189 0.55647043 0.3641577  0.50446359 0.73328779 0.84495391\n",
      "  0.56984206 0.91227191 0.48596094 0.28557017 0.9615071  0.52441474\n",
      "  0.1125954  0.09995385 0.41758921 0.79088767 0.34982945 0.55568401\n",
      "  0.37301493 0.87541104 0.30997202 0.79936715 0.05665234 0.80451777\n",
      "  0.25743462 0.801421   0.38037821 0.17702216 0.56693805 0.83920263\n",
      "  0.         0.33576879 0.66463598 0.15836098 0.13182523 0.4051822\n",
      "  0.46484014 0.73676793 0.33727327 0.32699502]\n",
      " [0.53298271 0.41349617 0.67337269 0.22588288 0.36522494 0.46851653\n",
      "  0.43002421 0.32773865 0.5445834  0.12359281 0.39703304 0.47781038\n",
      "  0.40950464 0.69403143 0.39304769 0.37507744 0.11168964 0.48145783\n",
      "  0.02454449 0.50167001 0.31775824 0.38471145 0.08260821 0.37788519\n",
      "  0.06182543 0.53655121 0.42670634 0.43402505 0.38147586 0.15868904\n",
      "  0.30148127 0.29050671 0.31059515 0.34791891 0.44669155 0.42213226\n",
      "  0.36251482 0.6151851  0.43180916 0.39004935 0.45634627 0.07678477\n",
      "  0.41732081 0.43598792 0.2445355  0.23947138 0.37126266 0.44514867\n",
      "  0.25028664 0.25566557 0.47630357 0.55140596 0.22699668 0.56811077\n",
      "  0.5602615  0.26318247 0.12176858 0.57876399 0.43853779 0.60536951\n",
      "  0.17780613 0.49871008 0.48854026 0.50748793 0.46976723 0.51006582\n",
      "  0.23407561 0.5766551  0.3815642  0.30926553 0.64757728 0.31505839\n",
      "  0.3911539  0.42108259 0.53938671 0.49450815 0.06785074 0.58784866\n",
      "  0.43739446 0.53973472 0.29857477 0.49221366 0.27945809 0.53917898\n",
      "  0.4574021  0.62921455 0.59584959 0.25066603 0.48411551 0.56969197\n",
      "  0.33576879 0.         0.39554027 0.43664807 0.4497019  0.48022607\n",
      "  0.12909566 0.41865485 0.04098836 0.30408404]\n",
      " [0.9281227  0.31737982 0.88184969 0.37284687 0.11278606 0.56658581\n",
      "  0.73795006 0.43424415 0.9314565  0.45514772 0.74631859 0.86211778\n",
      "  0.16809035 0.89987102 0.04923416 0.76346378 0.50648453 0.44713133\n",
      "  0.38191076 0.34007546 0.61577795 0.48594801 0.3290575  0.15836255\n",
      "  0.45371203 0.82022424 0.22807365 0.2940123  0.6781737  0.54803608\n",
      "  0.67866529 0.68604342 0.19198803 0.19234858 0.11053074 0.81369229\n",
      "  0.63146659 1.00976098 0.69887692 0.67729733 0.8515829  0.38113404\n",
      "  0.81243848 0.15355337 0.42341715 0.3292636  0.76643857 0.80254825\n",
      "  0.63609385 0.4128361  0.84511398 0.94607822 0.32696431 0.57738286\n",
      "  0.95419866 0.4256959  0.32917248 0.89531806 0.68845956 0.8859246\n",
      "  0.2182203  0.8608902  0.5861947  0.88863549 0.66037405 0.35646497\n",
      "  0.30294447 0.4239521  0.30064286 0.70458798 0.32809476 0.16311799\n",
      "  0.663368   0.71629899 0.60969578 0.14276766 0.44470184 0.53779887\n",
      "  0.5062388  0.42453087 0.69217166 0.17295619 0.6176881  0.70736331\n",
      "  0.84485452 0.89951056 0.9849586  0.50193544 0.34673437 0.72257597\n",
      "  0.66463598 0.39554027 0.         0.69097443 0.79523756 0.8742582\n",
      "  0.32407018 0.49306896 0.36605776 0.40474371]\n",
      " [0.5232974  0.83495163 1.04454863 0.66252801 0.59659024 0.24151082\n",
      "  0.10965089 0.76359071 0.44139222 0.31307746 0.67133007 0.38359687\n",
      "  0.58887686 1.06490144 0.65885304 0.36137085 0.39352336 0.91616196\n",
      "  0.46059148 0.91564055 0.12684467 0.252826   0.50643722 0.57083908\n",
      "  0.44003395 0.86552826 0.82130955 0.84724316 0.0866579  0.45622776\n",
      "  0.28903308 0.42166668 0.70479554 0.52446246 0.78550621 0.40678166\n",
      "  0.07424204 0.56810423 0.0235864  0.06836502 0.51818011 0.37958015\n",
      "  0.49935491 0.79939157 0.26783232 0.36188928 0.47424513 0.68793662\n",
      "  0.32451791 0.27828755 0.68113353 0.59361186 0.36407067 0.37357203\n",
      "  0.51773774 0.69741771 0.39640144 0.86065702 0.00794646 0.92622642\n",
      "  0.52238389 0.71474876 0.2433136  0.66064487 0.87286624 0.92667905\n",
      "  0.66321402 0.99742255 0.45210747 0.44391019 1.00878941 0.53388389\n",
      "  0.04976988 0.0792871  0.28948043 0.82834117 0.46905924 0.44958856\n",
      "  0.28094441 0.96623146 0.46788469 0.84511671 0.19676502 0.94439029\n",
      "  0.39235347 0.95685882 0.49346267 0.19983944 0.51056235 0.97821317\n",
      "  0.15836098 0.43664807 0.69097443 0.         0.21580469 0.55663525\n",
      "  0.5599095  0.8538641  0.42456468 0.29757674]\n",
      " [0.31614825 0.8618421  0.9359801  0.65803431 0.72019569 0.45123425\n",
      "  0.10615381 0.74544013 0.22603308 0.34689334 0.54035475 0.17297554\n",
      "  0.73006105 0.95525079 0.77362306 0.18680059 0.3601431  0.91607465\n",
      "  0.4734444  0.95108317 0.19231299 0.44115053 0.53178867 0.70593484\n",
      "  0.42315675 0.74168626 0.87439162 0.88365232 0.15115555 0.39143926\n",
      "  0.17035144 0.29070216 0.75675055 0.660659   0.87286603 0.21539662\n",
      "  0.21115642 0.35366423 0.19224671 0.16512516 0.33040573 0.42513676\n",
      "  0.32195522 0.87335261 0.3955653  0.48727976 0.3111063  0.54110625\n",
      "  0.22880632 0.41289895 0.52010935 0.39192831 0.48413415 0.58637258\n",
      "  0.3054936  0.67685108 0.46812078 0.71445094 0.22374358 0.79417716\n",
      "  0.59253693 0.55429212 0.45584217 0.48368447 0.79862212 0.95904865\n",
      "  0.68137697 1.02412285 0.61374935 0.30500431 1.08727617 0.65623664\n",
      "  0.19304359 0.13715169 0.50437164 0.91943606 0.45074399 0.65852346\n",
      "  0.48087233 0.984498   0.33608225 0.92618604 0.17840109 0.86818693\n",
      "  0.18769353 0.82657092 0.27765885 0.30734366 0.69028567 0.90373423\n",
      "  0.13182523 0.4497019  0.79523756 0.21580469 0.         0.36783021\n",
      "  0.57769967 0.82871117 0.45749    0.45359173]\n",
      " [0.10397364 0.8007705  0.63995039 0.5836093  0.84249523 0.7541419\n",
      "  0.45774133 0.62719126 0.2099123  0.46496397 0.25873615 0.20932233\n",
      "  0.8797153  0.65639512 0.8732687  0.19548166 0.37299151 0.80136324\n",
      "  0.49239754 0.89252015 0.46497662 0.70947033 0.54654097 0.84911334\n",
      "  0.42065582 0.43816255 0.85594124 0.83559576 0.4716465  0.32686678\n",
      "  0.28225198 0.19532492 0.75555969 0.81286509 0.91265152 0.15291347\n",
      "  0.51588048 0.17573721 0.53458643 0.49015015 0.03845788 0.515208\n",
      "  0.06729779 0.89038688 0.60175801 0.66144686 0.11152178 0.22608853\n",
      "  0.28190054 0.62119215 0.18105135 0.07295878 0.65208197 0.88877588\n",
      "  0.14582788 0.5696294  0.57596128 0.37881994 0.56408662 0.47329001\n",
      "  0.65777439 0.21146434 0.76557226 0.12245653 0.57253149 0.89428136\n",
      "  0.63971476 0.94238369 0.81372083 0.17294747 1.08844221 0.78747944\n",
      "  0.51597525 0.48148833 0.82022633 0.95975359 0.43054953 0.94435761\n",
      "  0.7615177  0.89272296 0.18208673 0.94853349 0.39380759 0.62986728\n",
      "  0.18502547 0.50600823 0.21954952 0.53105928 0.9110162  0.66443855\n",
      "  0.4051822  0.48022607 0.8742582  0.55663525 0.36783021 0.\n",
      "  0.5643679  0.68346844 0.51428423 0.67663342]\n",
      " [0.63120462 0.2845208  0.61938368 0.112441   0.33109822 0.55979523\n",
      "  0.55872013 0.21759565 0.65722569 0.24862913 0.42276739 0.59340554\n",
      "  0.38992707 0.6394129  0.3367851  0.4888564  0.22585155 0.35631436\n",
      "  0.10475166 0.37341894 0.44454956 0.47110317 0.05418108 0.3588515\n",
      "  0.16153577 0.5169623  0.30492349 0.3062927  0.50902653 0.24031289\n",
      "  0.42419648 0.38914899 0.19405322 0.34340385 0.34854992 0.53109528\n",
      "  0.48635577 0.71497326 0.55674413 0.51676521 0.54650797 0.18171841\n",
      "  0.50728875 0.32714225 0.33853118 0.29894491 0.46248538 0.47858618\n",
      "  0.3694707  0.34413376 0.52125682 0.63724903 0.28687745 0.64115292\n",
      "  0.66256842 0.16363447 0.18851883 0.5807079  0.56118068 0.5853449\n",
      "  0.13997545 0.53683323 0.58077005 0.56704017 0.4011644  0.38139861\n",
      "  0.10509801 0.44757818 0.41053538 0.40312177 0.53249155 0.2998926\n",
      "  0.51606332 0.54889183 0.62711991 0.39545664 0.14046744 0.64536628\n",
      "  0.51887904 0.41087476 0.38467732 0.38510033 0.40855346 0.46478007\n",
      "  0.57066281 0.6039315  0.70566493 0.36630447 0.5079993  0.49091964\n",
      "  0.46484014 0.12909566 0.32407018 0.5599095  0.57769967 0.5643679\n",
      "  0.         0.30827799 0.13550185 0.38123351]\n",
      " [0.7772051  0.20386778 0.40074195 0.19640382 0.55994888 0.86777809\n",
      "  0.8342538  0.09134353 0.84182766 0.54177076 0.44567118 0.79201717\n",
      "  0.6274353  0.4167533  0.53090752 0.6916715  0.47361599 0.12695572\n",
      "  0.39563419 0.26560709 0.73143885 0.77871166 0.36128143 0.60161051\n",
      "  0.4170303  0.40372666 0.30690222 0.24471159 0.79232098 0.43866355\n",
      "  0.65990521 0.57120108 0.30205427 0.6039091  0.44048113 0.71625872\n",
      "  0.77962432 0.85752744 0.8474224  0.80302386 0.68257168 0.48556959\n",
      "  0.64885524 0.38787035 0.64672502 0.60276452 0.61453418 0.50088698\n",
      "  0.60083125 0.65236958 0.55860785 0.75086698 0.59122832 0.94354083\n",
      "  0.81660579 0.15655742 0.49665338 0.50459127 0.85615569 0.45502493\n",
      "  0.41831528 0.55516063 0.88881537 0.6283511  0.19608135 0.25853713\n",
      "  0.22791431 0.27966553 0.69311266 0.57237643 0.49993402 0.55653616\n",
      "  0.80706129 0.83045767 0.93437606 0.4688691  0.38772027 0.93930057\n",
      "  0.82522959 0.22684368 0.54245948 0.43098681 0.68073523 0.22235989\n",
      "  0.76404257 0.45716072 0.87810672 0.66844993 0.7806449  0.2318629\n",
      "  0.73676793 0.41865485 0.49306896 0.8538641  0.82871117 0.68346844\n",
      "  0.30827799 0.         0.43840944 0.68782699]\n",
      " [0.56256684 0.41411796 0.70925369 0.24258183 0.32869271 0.43770226\n",
      "  0.42824239 0.34706608 0.56755907 0.1156786  0.43798436 0.49933992\n",
      "  0.37070927 0.72985634 0.36012904 0.39858346 0.14182062 0.49180017\n",
      "  0.05016453 0.4993591  0.31116222 0.35197938 0.08188458 0.33924271\n",
      "  0.10121931 0.57614593 0.41714785 0.43101856 0.37628397 0.197089\n",
      "  0.31878907 0.32201765 0.29930233 0.30808414 0.42468912 0.44787938\n",
      "  0.35120596 0.64382221 0.42187007 0.38307014 0.48895087 0.04716035\n",
      "  0.45024389 0.41860967 0.21327272 0.20000921 0.40420115 0.48584188\n",
      "  0.27174431 0.22258445 0.51627457 0.58469109 0.18745594 0.53269325\n",
      "  0.58815122 0.28563721 0.08128123 0.6195791  0.42574848 0.64505892\n",
      "  0.14808239 0.53908939 0.45811723 0.54589065 0.5022967  0.50888429\n",
      "  0.23884792 0.57755391 0.34066518 0.34208082 0.63191943 0.27655027\n",
      "  0.38123575 0.4164053  0.50766125 0.47235451 0.10874352 0.54974282\n",
      "  0.40353844 0.54349605 0.33361435 0.47344564 0.28228692 0.57077631\n",
      "  0.48053389 0.66851025 0.62013524 0.23129174 0.44319449 0.60038292\n",
      "  0.33727327 0.04098836 0.36605776 0.42456468 0.45749    0.51428423\n",
      "  0.13550185 0.43840944 0.         0.26835039]\n",
      " [0.68776117 0.6093872  0.97727905 0.49351557 0.30284574 0.18293835\n",
      "  0.36941862 0.5981606  0.64621164 0.22771369 0.67774856 0.57629076\n",
      "  0.2913002  0.99791398 0.36771981 0.50336248 0.34709559 0.71491092\n",
      "  0.31847988 0.67637579 0.2615717  0.09293283 0.33123138 0.27391266\n",
      "  0.34848066 0.83649516 0.57005538 0.61086561 0.30990795 0.42343468\n",
      "  0.40565275 0.48814538 0.46292811 0.22774799 0.50727848 0.55910425\n",
      "  0.25271647 0.75595319 0.31028306 0.30265916 0.64238126 0.22759942\n",
      "  0.60953243 0.53081407 0.0753177  0.08918614 0.56837409 0.71662381\n",
      "  0.39474787 0.05653575 0.73411027 0.73614193 0.09887781 0.26434361\n",
      "  0.69905106 0.54394669 0.19425491 0.86830725 0.29358607 0.90468842\n",
      "  0.28343239 0.76240737 0.20423003 0.74429723 0.7700787  0.68989732\n",
      "  0.46529441 0.76291347 0.16045624 0.51320404 0.73079115 0.24260557\n",
      "  0.28155992 0.34159796 0.24670882 0.54634447 0.36771633 0.28780117\n",
      "  0.13764579 0.74181757 0.52028799 0.56941175 0.30298921 0.83783076\n",
      "  0.57040624 0.92996696 0.70289832 0.15342575 0.24158771 0.86655047\n",
      "  0.32699502 0.30408404 0.40474371 0.29757674 0.45359173 0.67663342\n",
      "  0.38123351 0.68782699 0.26835039 0.        ]]\n"
     ]
    }
   ],
   "source": [
    "Z = np.random.random((100, 2))\n",
    "D = np.sqrt(np.sum((Z[:, None, :] - Z[None, :, :])**2, axis=-1))\n",
    "print(D)\n"
   ]
  },
  {
   "cell_type": "markdown",
   "id": "343c5a85",
   "metadata": {},
   "source": [
    "#### 53. How to convert a float (32 bits) array into an integer (32 bits) in place?"
   ]
  },
  {
   "cell_type": "code",
   "execution_count": 93,
   "id": "fc1b687b",
   "metadata": {},
   "outputs": [
    {
     "name": "stdout",
     "output_type": "stream",
     "text": [
      "[0 1 2 3 4 5 6 7 8 9]\n"
     ]
    }
   ],
   "source": [
    "Z = np.arange(10, dtype=np.float32)\n",
    "Z = Z.astype(np.int32, copy=False)\n",
    "print(Z)\n"
   ]
  },
  {
   "cell_type": "markdown",
   "id": "a69e1ace",
   "metadata": {},
   "source": [
    "#### 54. How to read the following file? (★★☆)\n",
    "```\n",
    "1, 2, 3, 4, 5\n",
    "6,  ,  , 7, 8\n",
    " ,  , 9,10,11\n",
    "```"
   ]
  },
  {
   "cell_type": "code",
   "execution_count": 92,
   "id": "1c7957d4",
   "metadata": {},
   "outputs": [
    {
     "name": "stdout",
     "output_type": "stream",
     "text": [
      "[[ 1.  2.  3.  4.  5.]\n",
      " [ 6. nan nan  7.  8.]\n",
      " [nan nan  9. 10. 11.]]\n"
     ]
    }
   ],
   "source": [
    "from io import StringIO\n",
    "text = \"\"\"1, 2, 3, 4, 5\n",
    "6,  ,  , 7, 8\n",
    " ,  , 9,10,11\"\"\"\n",
    "data = np.genfromtxt(StringIO(text), delimiter=\",\", dtype=np.float32)\n",
    "print(data)\n"
   ]
  },
  {
   "cell_type": "markdown",
   "id": "c23bd80d",
   "metadata": {},
   "source": [
    "#### 55. What is the equivalent of enumerate for numpy arrays? (★★☆)"
   ]
  },
  {
   "cell_type": "code",
   "execution_count": 91,
   "id": "d95d9578",
   "metadata": {},
   "outputs": [
    {
     "name": "stdout",
     "output_type": "stream",
     "text": [
      "(0, 0) 0\n",
      "(0, 1) 1\n",
      "(0, 2) 2\n",
      "(1, 0) 3\n",
      "(1, 1) 4\n",
      "(1, 2) 5\n",
      "(2, 0) 6\n",
      "(2, 1) 7\n",
      "(2, 2) 8\n"
     ]
    }
   ],
   "source": [
    "Z = np.arange(9).reshape(3, 3)\n",
    "for index, value in np.ndenumerate(Z):\n",
    "    print(index, value)\n"
   ]
  },
  {
   "cell_type": "markdown",
   "id": "2153a5ec",
   "metadata": {},
   "source": [
    "#### 56. Generate a generic 2D Gaussian-like array (★★☆)"
   ]
  },
  {
   "cell_type": "code",
   "execution_count": 90,
   "id": "61122d1e",
   "metadata": {},
   "outputs": [
    {
     "name": "stdout",
     "output_type": "stream",
     "text": [
      "[[0.36787944 0.44822088 0.51979489 0.57375342 0.60279818 0.60279818\n",
      "  0.57375342 0.51979489 0.44822088 0.36787944]\n",
      " [0.44822088 0.54610814 0.63331324 0.69905581 0.73444367 0.73444367\n",
      "  0.69905581 0.63331324 0.54610814 0.44822088]\n",
      " [0.51979489 0.63331324 0.73444367 0.81068432 0.85172308 0.85172308\n",
      "  0.81068432 0.73444367 0.63331324 0.51979489]\n",
      " [0.57375342 0.69905581 0.81068432 0.89483932 0.9401382  0.9401382\n",
      "  0.89483932 0.81068432 0.69905581 0.57375342]\n",
      " [0.60279818 0.73444367 0.85172308 0.9401382  0.98773022 0.98773022\n",
      "  0.9401382  0.85172308 0.73444367 0.60279818]\n",
      " [0.60279818 0.73444367 0.85172308 0.9401382  0.98773022 0.98773022\n",
      "  0.9401382  0.85172308 0.73444367 0.60279818]\n",
      " [0.57375342 0.69905581 0.81068432 0.89483932 0.9401382  0.9401382\n",
      "  0.89483932 0.81068432 0.69905581 0.57375342]\n",
      " [0.51979489 0.63331324 0.73444367 0.81068432 0.85172308 0.85172308\n",
      "  0.81068432 0.73444367 0.63331324 0.51979489]\n",
      " [0.44822088 0.54610814 0.63331324 0.69905581 0.73444367 0.73444367\n",
      "  0.69905581 0.63331324 0.54610814 0.44822088]\n",
      " [0.36787944 0.44822088 0.51979489 0.57375342 0.60279818 0.60279818\n",
      "  0.57375342 0.51979489 0.44822088 0.36787944]]\n"
     ]
    }
   ],
   "source": [
    "X, Y = np.meshgrid(np.linspace(-1, 1, 10), np.linspace(-1, 1, 10))\n",
    "D = np.sqrt(X**2 + Y**2)\n",
    "sigma, mu = 1.0, 0.0\n",
    "G = np.exp(-( (D - mu)**2 / (2.0 * sigma**2)))\n",
    "print(G)\n",
    "\n"
   ]
  },
  {
   "cell_type": "markdown",
   "id": "2e76d589",
   "metadata": {},
   "source": [
    "#### 57. How to randomly place p elements in a 2D array? (★★☆)"
   ]
  },
  {
   "cell_type": "code",
   "execution_count": 89,
   "id": "0c2e4fcc",
   "metadata": {},
   "outputs": [
    {
     "name": "stdout",
     "output_type": "stream",
     "text": [
      "[[0. 0. 0. 0. 1.]\n",
      " [0. 0. 1. 0. 0.]\n",
      " [0. 0. 0. 0. 0.]\n",
      " [0. 0. 0. 0. 0.]\n",
      " [0. 0. 1. 0. 0.]]\n"
     ]
    }
   ],
   "source": [
    "n = 5\n",
    "p = 3\n",
    "Z = np.zeros((n, n))\n",
    "np.put(Z, np.random.choice(range(n*n), p, replace=False), 1)\n",
    "print(Z)\n"
   ]
  },
  {
   "cell_type": "markdown",
   "id": "8b3933eb",
   "metadata": {},
   "source": [
    "#### 58. Subtract the mean of each row of a matrix (★★☆)"
   ]
  },
  {
   "cell_type": "code",
   "execution_count": 88,
   "id": "a306c9ef",
   "metadata": {},
   "outputs": [
    {
     "name": "stdout",
     "output_type": "stream",
     "text": [
      "[[-0.21354079 -0.01117889 -0.25556861  0.20299148  0.18536675  0.57402805\n",
      "  -0.33214516 -0.19187203  0.39754793 -0.35562873]\n",
      " [-0.11450485  0.02425535  0.0062861   0.29040808  0.1240724   0.1135242\n",
      "  -0.01914172 -0.05063473 -0.0891782  -0.28508663]\n",
      " [ 0.06635288 -0.30762753 -0.43113797  0.06844403 -0.21645158  0.22262919\n",
      "   0.46825047  0.3664175  -0.41456891  0.17769193]\n",
      " [-0.24065661  0.18500861 -0.45387911  0.25878094 -0.52020182  0.36527965\n",
      "   0.23308892  0.2084823   0.38016164 -0.41606451]\n",
      " [ 0.10229388  0.02199773 -0.26921136 -0.11892316  0.54082785 -0.03280314\n",
      "  -0.1849015  -0.28809628 -0.33801937  0.56683535]]\n"
     ]
    }
   ],
   "source": [
    "X = np.random.rand(5, 10)\n",
    "Y = X - X.mean(axis=1, keepdims=True)\n",
    "print(Y)\n"
   ]
  },
  {
   "cell_type": "markdown",
   "id": "ea8807c0",
   "metadata": {},
   "source": [
    "#### 59. How to sort an array by the nth column? (★★☆)"
   ]
  },
  {
   "cell_type": "code",
   "execution_count": 87,
   "id": "cc89a699",
   "metadata": {},
   "outputs": [
    {
     "name": "stdout",
     "output_type": "stream",
     "text": [
      "[[7 0 3 3 8]\n",
      " [6 1 7 8 6]\n",
      " [8 6 7 3 7]\n",
      " [3 6 5 2 2]\n",
      " [2 9 6 6 1]]\n"
     ]
    }
   ],
   "source": [
    "Z = np.random.randint(0, 10, (5, 5))\n",
    "print(Z[Z[:, 1].argsort()])  # Sort by second column\n"
   ]
  },
  {
   "cell_type": "markdown",
   "id": "00fa00a1",
   "metadata": {},
   "source": [
    "#### 60. How to tell if a given 2D array has null columns? (★★☆)"
   ]
  },
  {
   "cell_type": "code",
   "execution_count": 86,
   "id": "3436e165",
   "metadata": {},
   "outputs": [
    {
     "name": "stdout",
     "output_type": "stream",
     "text": [
      "[False False False False False False False False False False]\n"
     ]
    }
   ],
   "source": [
    "Z = np.random.randint(0, 3, (3, 10))\n",
    "print((Z == 0).all(axis=0))  # Boolean array indicating null columns\n"
   ]
  },
  {
   "cell_type": "markdown",
   "id": "5a65c7a2",
   "metadata": {},
   "source": [
    "#### 61. Find the nearest value from a given value in an array (★★☆)"
   ]
  },
  {
   "cell_type": "code",
   "execution_count": 85,
   "id": "73f149d6",
   "metadata": {},
   "outputs": [
    {
     "name": "stdout",
     "output_type": "stream",
     "text": [
      "0.5078357726991911\n"
     ]
    }
   ],
   "source": [
    "Z = np.random.uniform(0, 1, 10)\n",
    "v = 0.5\n",
    "print(Z[np.abs(Z - v).argmin()])\n"
   ]
  },
  {
   "cell_type": "markdown",
   "id": "dd83e8af",
   "metadata": {},
   "source": [
    "#### 62. Considering two arrays with shape (1,3) and (3,1), how to compute their sum using an iterator? (★★☆)"
   ]
  },
  {
   "cell_type": "code",
   "execution_count": 84,
   "id": "29a709a1",
   "metadata": {},
   "outputs": [
    {
     "name": "stdout",
     "output_type": "stream",
     "text": [
      "[[0 1 2]\n",
      " [1 2 3]\n",
      " [2 3 4]]\n"
     ]
    }
   ],
   "source": [
    "A = np.arange(3).reshape(1, 3)\n",
    "B = np.arange(3).reshape(3, 1)\n",
    "it = np.nditer([A, B, None])\n",
    "for x, y, z in it:\n",
    "    z[...] = x + y\n",
    "print(it.operands[2])\n"
   ]
  },
  {
   "cell_type": "markdown",
   "id": "6c042efa",
   "metadata": {},
   "source": [
    "#### 63. Create an array class that has a name attribute (★★☆)"
   ]
  },
  {
   "cell_type": "code",
   "execution_count": 83,
   "id": "45b3d2e0",
   "metadata": {},
   "outputs": [
    {
     "name": "stdout",
     "output_type": "stream",
     "text": [
      "Sample Array\n"
     ]
    }
   ],
   "source": [
    "class NamedArray(np.ndarray):\n",
    "    def __new__(cls, array, name=\"no name\"):\n",
    "        obj = np.asarray(array).view(cls)\n",
    "        obj.name = name\n",
    "        return obj\n",
    "\n",
    "Z = NamedArray(np.arange(10), \"Sample Array\")\n",
    "print(Z.name)\n"
   ]
  },
  {
   "cell_type": "markdown",
   "id": "0a075c3d",
   "metadata": {},
   "source": [
    "#### 64. Consider a given vector, how to add 1 to each element indexed by a second vector (be careful with repeated indices)? (★★★)"
   ]
  },
  {
   "cell_type": "code",
   "execution_count": 82,
   "id": "36c50470",
   "metadata": {},
   "outputs": [
    {
     "name": "stdout",
     "output_type": "stream",
     "text": [
      "[3. 2. 2. 5. 2. 1. 8. 1. 5. 1.]\n"
     ]
    }
   ],
   "source": [
    "Z = np.ones(10)\n",
    "I = np.random.randint(0, len(Z), 20)\n",
    "np.add.at(Z, I, 1)\n",
    "print(Z)\n"
   ]
  },
  {
   "cell_type": "markdown",
   "id": "0fb2f0c5",
   "metadata": {},
   "source": [
    "#### 65. How to accumulate elements of a vector (X) to an array (F) based on an index list (I)? (★★★)"
   ]
  },
  {
   "cell_type": "code",
   "execution_count": 81,
   "id": "58aa5f82",
   "metadata": {},
   "outputs": [
    {
     "name": "stdout",
     "output_type": "stream",
     "text": [
      "[1. 2. 3. 4. 5.]\n"
     ]
    }
   ],
   "source": [
    "X = [1, 2, 3, 4, 5]\n",
    "I = [0, 1, 2, 3, 4]\n",
    "F = np.zeros(5)\n",
    "np.add.at(F, I, X)\n",
    "print(F)\n"
   ]
  },
  {
   "cell_type": "markdown",
   "id": "d89dc506",
   "metadata": {},
   "source": [
    "#### 66. Considering a (w,h,3) image of (dtype=ubyte), compute the number of unique colors (★★☆)"
   ]
  },
  {
   "cell_type": "code",
   "execution_count": 80,
   "id": "8fb43a49",
   "metadata": {},
   "outputs": [
    {
     "name": "stdout",
     "output_type": "stream",
     "text": [
      "255\n"
     ]
    }
   ],
   "source": [
    "w, h = 16, 16\n",
    "I = np.random.randint(0, 256, (h, w, 3), dtype=np.uint8)\n",
    "F = I[..., 0]*256*256 + I[..., 1]*256 + I[..., 2]\n",
    "print(len(np.unique(F)))\n"
   ]
  },
  {
   "cell_type": "markdown",
   "id": "535a5d81",
   "metadata": {},
   "source": [
    "#### 67. Considering a four dimensions array, how to get sum over the last two axis at once? (★★★)"
   ]
  },
  {
   "cell_type": "code",
   "execution_count": 79,
   "id": "f954ab9d",
   "metadata": {},
   "outputs": [
    {
     "name": "stdout",
     "output_type": "stream",
     "text": [
      "[[51 34 43 31]\n",
      " [38 32 40 36]\n",
      " [42 41 45 48]]\n"
     ]
    }
   ],
   "source": [
    "A = np.random.randint(0, 10, (3, 4, 3, 3))\n",
    "sum_over_last_two = A.sum(axis=(-2, -1))\n",
    "print(sum_over_last_two)\n"
   ]
  },
  {
   "cell_type": "markdown",
   "id": "eee66d3c",
   "metadata": {},
   "source": [
    "#### 68. Considering a one-dimensional vector D, how to compute means of subsets of D using a vector S of same size describing subset  indices? (★★★)"
   ]
  },
  {
   "cell_type": "code",
   "execution_count": 78,
   "id": "8929773a",
   "metadata": {},
   "outputs": [
    {
     "name": "stdout",
     "output_type": "stream",
     "text": [
      "[0.55811885 0.45003444 0.45931591 0.43206517 0.52579728 0.39364598\n",
      " 0.48136689 0.6376591  0.61779439 0.54645836]\n"
     ]
    }
   ],
   "source": [
    "D = np.random.uniform(0, 1, 100)\n",
    "S = np.random.randint(0, 10, 100)\n",
    "means = np.array([D[S == i].mean() for i in np.unique(S)])\n",
    "print(means)\n"
   ]
  },
  {
   "cell_type": "markdown",
   "id": "f90d4c40",
   "metadata": {},
   "source": [
    "#### 69. How to get the diagonal of a dot product? (★★★)"
   ]
  },
  {
   "cell_type": "code",
   "execution_count": 77,
   "id": "b47d392d",
   "metadata": {},
   "outputs": [
    {
     "name": "stdout",
     "output_type": "stream",
     "text": [
      "[0.88202083 0.10886717 0.87897484 0.48212614]\n"
     ]
    }
   ],
   "source": [
    "A = np.random.rand(4, 4)\n",
    "B = np.random.rand(4, 4)\n",
    "print(np.einsum('ij,ji->i', A, B))\n"
   ]
  },
  {
   "cell_type": "markdown",
   "id": "a8a97e7d",
   "metadata": {},
   "source": [
    "#### 70. Consider the vector [1, 2, 3, 4, 5], how to build a new vector with 3 consecutive zeros interleaved between each value? (★★★)"
   ]
  },
  {
   "cell_type": "code",
   "execution_count": 76,
   "id": "ee6c6c37",
   "metadata": {},
   "outputs": [
    {
     "name": "stdout",
     "output_type": "stream",
     "text": [
      "[1. 0. 0. 0. 2. 0. 0. 0. 3. 0. 0. 0. 4. 0. 0. 0. 5.]\n"
     ]
    }
   ],
   "source": [
    "Z = np.array([1, 2, 3, 4, 5])\n",
    "R = np.zeros(len(Z) + (len(Z)-1)*3)\n",
    "R[::4] = Z\n",
    "print(R)\n"
   ]
  },
  {
   "cell_type": "markdown",
   "id": "d6a30d60",
   "metadata": {},
   "source": [
    "#### 71. Consider an array of dimension (5,5,3), how to mulitply it by an array with dimensions (5,5)? (★★★)"
   ]
  },
  {
   "cell_type": "code",
   "execution_count": 75,
   "id": "e9703f2e",
   "metadata": {},
   "outputs": [
    {
     "name": "stdout",
     "output_type": "stream",
     "text": [
      "[[[2. 2. 2.]\n",
      "  [2. 2. 2.]\n",
      "  [2. 2. 2.]\n",
      "  [2. 2. 2.]\n",
      "  [2. 2. 2.]]\n",
      "\n",
      " [[2. 2. 2.]\n",
      "  [2. 2. 2.]\n",
      "  [2. 2. 2.]\n",
      "  [2. 2. 2.]\n",
      "  [2. 2. 2.]]\n",
      "\n",
      " [[2. 2. 2.]\n",
      "  [2. 2. 2.]\n",
      "  [2. 2. 2.]\n",
      "  [2. 2. 2.]\n",
      "  [2. 2. 2.]]\n",
      "\n",
      " [[2. 2. 2.]\n",
      "  [2. 2. 2.]\n",
      "  [2. 2. 2.]\n",
      "  [2. 2. 2.]\n",
      "  [2. 2. 2.]]\n",
      "\n",
      " [[2. 2. 2.]\n",
      "  [2. 2. 2.]\n",
      "  [2. 2. 2.]\n",
      "  [2. 2. 2.]\n",
      "  [2. 2. 2.]]]\n"
     ]
    }
   ],
   "source": [
    "A = np.ones((5, 5, 3))\n",
    "B = 2 * np.ones((5, 5))\n",
    "print(A * B[:, :, None])  # Broadcasting\n"
   ]
  },
  {
   "cell_type": "markdown",
   "id": "bac359a9",
   "metadata": {},
   "source": [
    "#### 72. How to swap two rows of an array? (★★★)"
   ]
  },
  {
   "cell_type": "code",
   "execution_count": 74,
   "id": "f1b432b1",
   "metadata": {},
   "outputs": [
    {
     "name": "stdout",
     "output_type": "stream",
     "text": [
      "[[ 5  6  7  8  9]\n",
      " [ 0  1  2  3  4]\n",
      " [10 11 12 13 14]\n",
      " [15 16 17 18 19]\n",
      " [20 21 22 23 24]]\n"
     ]
    }
   ],
   "source": [
    "A = np.arange(25).reshape(5, 5)\n",
    "A[[0, 1]] = A[[1, 0]]  # Swap rows 0 and 1\n",
    "print(A)\n"
   ]
  },
  {
   "cell_type": "markdown",
   "id": "620c9f83",
   "metadata": {},
   "source": [
    "#### 73. Consider a set of 10 triplets describing 10 triangles (with shared vertices), find the set of unique line segments composing all the  triangles (★★★)"
   ]
  },
  {
   "cell_type": "code",
   "execution_count": 73,
   "id": "4e595ffc",
   "metadata": {},
   "outputs": [
    {
     "name": "stdout",
     "output_type": "stream",
     "text": [
      "[[ 1 46]\n",
      " [ 1 89]\n",
      " [ 2 61]\n",
      " [ 2 83]\n",
      " [ 2 85]\n",
      " [ 2 88]\n",
      " [ 4 48]\n",
      " [ 4 72]\n",
      " [10 16]\n",
      " [10 19]\n",
      " [16 19]\n",
      " [18 36]\n",
      " [18 55]\n",
      " [27 67]\n",
      " [27 90]\n",
      " [32 86]\n",
      " [32 98]\n",
      " [36 55]\n",
      " [42 70]\n",
      " [42 98]\n",
      " [46 89]\n",
      " [48 72]\n",
      " [61 85]\n",
      " [65 70]\n",
      " [65 91]\n",
      " [67 90]\n",
      " [70 91]\n",
      " [70 98]\n",
      " [83 88]\n",
      " [86 98]]\n"
     ]
    }
   ],
   "source": [
    "faces = np.random.randint(0, 100, (10, 3))\n",
    "F = np.sort(faces, axis=1)\n",
    "E = np.vstack([F[:, :2], F[:, 1:], F[:, ::2]])\n",
    "E = np.sort(E, axis=1)\n",
    "print(np.unique(E, axis=0))\n"
   ]
  },
  {
   "cell_type": "markdown",
   "id": "a76c55a2",
   "metadata": {},
   "source": [
    "#### 74. Given a sorted array C that corresponds to a bincount, how to produce an array A such that np.bincount(A) == C? (★★★)"
   ]
  },
  {
   "cell_type": "code",
   "execution_count": 72,
   "id": "2d2ae65a",
   "metadata": {},
   "outputs": [
    {
     "name": "stdout",
     "output_type": "stream",
     "text": [
      "[0 0 0 0 1 1 1 3]\n"
     ]
    }
   ],
   "source": [
    "C = np.array([4, 3, 0, 1])\n",
    "A = np.repeat(np.arange(len(C)), C)\n",
    "print(A)\n"
   ]
  },
  {
   "cell_type": "markdown",
   "id": "d550c8e2",
   "metadata": {},
   "source": [
    "#### 75. How to compute averages using a sliding window over an array? (★★★)"
   ]
  },
  {
   "cell_type": "code",
   "execution_count": 71,
   "id": "841c457c",
   "metadata": {},
   "outputs": [
    {
     "name": "stdout",
     "output_type": "stream",
     "text": [
      "[ 1.  2.  3.  4.  5.  6.  7.  8.  9. 10. 11. 12. 13. 14. 15. 16. 17. 18.]\n"
     ]
    }
   ],
   "source": [
    "def moving_average(arr, window):\n",
    "    return np.convolve(arr, np.ones(window)/window, mode='valid')\n",
    "\n",
    "Z = np.arange(20)\n",
    "print(moving_average(Z, 3))\n"
   ]
  },
  {
   "cell_type": "markdown",
   "id": "6b170b00",
   "metadata": {},
   "source": [
    "#### 76. Consider a one-dimensional array Z, build a two-dimensional array whose first row is (Z[0],Z[1],Z[2]) and each subsequent row is  shifted by 1 (last row should be (Z[-3],Z[-2],Z[-1]) (★★★)"
   ]
  },
  {
   "cell_type": "code",
   "execution_count": 70,
   "id": "d9a0cf4e",
   "metadata": {},
   "outputs": [
    {
     "name": "stdout",
     "output_type": "stream",
     "text": [
      "[[ 0  1  2  3]\n",
      " [ 1  2  3  4]\n",
      " [ 2  3  4  5]\n",
      " [ 3  4  5  6]\n",
      " [ 4  5  6  7]\n",
      " [ 5  6  7  8]\n",
      " [ 6  7  8  9]\n",
      " [ 7  8  9 10]\n",
      " [ 8  9 10 11]\n",
      " [ 9 10 11 12]\n",
      " [10 11 12 13]]\n"
     ]
    }
   ],
   "source": [
    "Z = np.arange(14)\n",
    "R = np.lib.stride_tricks.sliding_window_view(Z, window_shape=4)\n",
    "print(R)\n"
   ]
  },
  {
   "cell_type": "markdown",
   "id": "e94a5c1d",
   "metadata": {},
   "source": [
    "#### 77. How to negate a boolean, or to change the sign of a float inplace? (★★★)"
   ]
  },
  {
   "cell_type": "code",
   "execution_count": 69,
   "id": "c0f9504f",
   "metadata": {},
   "outputs": [
    {
     "name": "stdout",
     "output_type": "stream",
     "text": [
      "[ True False  True False  True False  True False False False]\n",
      "[-0.40999874  0.6054287  -0.56640049 -0.4112693  -0.60979946 -0.20529772\n",
      " -0.74755535 -0.63410152  0.89334483 -0.61821325]\n"
     ]
    }
   ],
   "source": [
    "Z = np.random.randint(0, 2, 10, dtype=bool)\n",
    "Z = ~Z\n",
    "print(Z)\n",
    "\n",
    "F = np.random.uniform(-1, 1, 10)\n",
    "F *= -1\n",
    "print(F)\n"
   ]
  },
  {
   "cell_type": "markdown",
   "id": "4eb8b5c1",
   "metadata": {},
   "source": [
    "#### 78. Consider 2 sets of points P0,P1 describing lines (2d) and a point p, how to compute distance from p to each line i (P0[i],P1[i])? (★★★)"
   ]
  },
  {
   "cell_type": "code",
   "execution_count": 68,
   "id": "487f47ec",
   "metadata": {},
   "outputs": [
    {
     "name": "stdout",
     "output_type": "stream",
     "text": [
      "[0.82486458 0.10673278 0.40601312 0.49067494 0.4927712  0.06610638\n",
      " 0.57410253 0.4937299  0.31214377 0.70460858]\n"
     ]
    }
   ],
   "source": [
    "P0 = np.random.rand(10, 2)\n",
    "P1 = np.random.rand(10, 2)\n",
    "p = np.random.rand(1, 2)\n",
    "d = np.abs(np.cross(P1-P0, P0-p))/np.linalg.norm(P1-P0, axis=1)\n",
    "print(d)\n"
   ]
  },
  {
   "cell_type": "markdown",
   "id": "3df99948",
   "metadata": {},
   "source": [
    "#### 79. Consider 2 sets of points P0,P1 describing lines (2d) and a set of points P, how to compute distance from each point j (P[j]) to each line i (P0[i],P1[i])? (★★★)"
   ]
  },
  {
   "cell_type": "code",
   "execution_count": 67,
   "id": "dc2df37b",
   "metadata": {},
   "outputs": [
    {
     "name": "stdout",
     "output_type": "stream",
     "text": [
      "[0.19374254 0.08184744 0.30952448 0.404851   0.47614399 0.08415888\n",
      " 0.18974432 0.09869279 0.27622942 0.20121268 0.02565386 0.14296133\n",
      " 0.08913483 0.62017902 0.69468306 0.12209046 0.02715073 0.11850696\n",
      " 0.49400017 0.01792211 0.04806927 0.04073064 0.08135925 0.68141185\n",
      " 0.63280185 0.5802928  0.13534444 0.20068352 0.4926757  0.05065046\n",
      " 0.09494805 0.25338184 0.06776847 0.17275948 0.0352205  0.83826585\n",
      " 0.24091313 0.19845867 0.06383194 0.11234047 0.03699645 0.37413123\n",
      " 0.02234004 0.16683511 0.36960555 0.56782695 0.08753652 0.02097882\n",
      " 0.21843624 0.01954349 0.19691521 0.23496604 0.32701052 0.44826219\n",
      " 0.4301199  0.2399569  0.1290152  0.05461427 0.26931645 0.19693794\n",
      " 0.25788359 0.03468816 0.31191701 0.06170439 0.23915977 0.66717127\n",
      " 0.34907087 0.26562441 0.05219686 0.27365441 0.05856778 0.24374161\n",
      " 0.02246681 0.41380119 0.23536728 0.86440228 0.20872581 0.20759633\n",
      " 0.2437797  0.07279355 0.19335707 0.22588424 0.0669535  0.83186007\n",
      " 0.85592369 0.48469835 0.2324238  0.31655543 0.67259965 0.18978287\n",
      " 0.22284066 0.51582273 0.30898799 0.15955992 0.01309458 0.57943047\n",
      " 0.07420421 0.07056563 0.01521938 0.20916894]\n"
     ]
    }
   ],
   "source": [
    "P0 = np.random.rand(10, 2)\n",
    "P1 = np.random.rand(10, 2)\n",
    "P = np.random.rand(10, 2)\n",
    "d = np.array([np.abs(np.cross(P1[i] - P0[i], P0[i] - P[j])) / \n",
    "              np.linalg.norm(P1[i] - P0[i]) for i in range(len(P0)) for j in range(len(P))])\n",
    "print(d)\n"
   ]
  },
  {
   "cell_type": "markdown",
   "id": "11e972c2",
   "metadata": {},
   "source": [
    "#### 80. Consider an arbitrary array, write a function that extract a subpart with a fixed shape and centered on a given element (pad with a `fill` value when necessary) (★★★)"
   ]
  },
  {
   "cell_type": "code",
   "execution_count": 66,
   "id": "0291247f",
   "metadata": {},
   "outputs": [
    {
     "name": "stdout",
     "output_type": "stream",
     "text": [
      "[[0 4 5]\n",
      " [9 1 9]\n",
      " [1 9 5]]\n"
     ]
    }
   ],
   "source": [
    "def extract_subarray(Z, center, shape, fill_value=0):\n",
    "    pad_width = [(s//2, s//2) for s in shape]\n",
    "    Z_padded = np.pad(Z, pad_width, constant_values=fill_value)\n",
    "    center = [c + s//2 for c, s in zip(center, shape)]\n",
    "    slices = tuple(slice(c-s//2, c+s//2+1) for c, s in zip(center, shape))\n",
    "    return Z_padded[slices]\n",
    "\n",
    "Z = np.random.randint(0, 10, (5, 5))\n",
    "print(extract_subarray(Z, (2, 2), (3, 3), fill_value=-1))\n"
   ]
  },
  {
   "cell_type": "markdown",
   "id": "93cfeab3",
   "metadata": {},
   "source": [
    "#### 81. Consider an array Z = [1,2,3,4,5,6,7,8,9,10,11,12,13,14], how to generate an array R = [[1,2,3,4], [2,3,4,5], [3,4,5,6], ..., [11,12,13,14]]? (★★★)"
   ]
  },
  {
   "cell_type": "code",
   "execution_count": 65,
   "id": "360de791",
   "metadata": {},
   "outputs": [
    {
     "name": "stdout",
     "output_type": "stream",
     "text": [
      "[[ 1  2  3  4]\n",
      " [ 2  3  4  5]\n",
      " [ 3  4  5  6]\n",
      " [ 4  5  6  7]\n",
      " [ 5  6  7  8]\n",
      " [ 6  7  8  9]\n",
      " [ 7  8  9 10]\n",
      " [ 8  9 10 11]\n",
      " [ 9 10 11 12]\n",
      " [10 11 12 13]\n",
      " [11 12 13 14]]\n"
     ]
    }
   ],
   "source": [
    "Z = np.arange(1, 15, dtype=np.uint32)\n",
    "R = np.lib.stride_tricks.sliding_window_view(Z, window_shape=4)\n",
    "print(R)\n"
   ]
  },
  {
   "cell_type": "markdown",
   "id": "4c15ceff",
   "metadata": {},
   "source": [
    "#### 82. Compute a matrix rank (★★★)"
   ]
  },
  {
   "cell_type": "code",
   "execution_count": 64,
   "id": "9a4272d2",
   "metadata": {},
   "outputs": [
    {
     "name": "stdout",
     "output_type": "stream",
     "text": [
      "3\n"
     ]
    }
   ],
   "source": [
    "Z = np.random.randint(0, 2, (4, 4))\n",
    "rank = np.linalg.matrix_rank(Z)\n",
    "print(rank)\n"
   ]
  },
  {
   "cell_type": "markdown",
   "id": "1171cb84",
   "metadata": {},
   "source": [
    "#### 83. How to find the most frequent value in an array?"
   ]
  },
  {
   "cell_type": "code",
   "execution_count": 47,
   "id": "33e951c8",
   "metadata": {},
   "outputs": [
    {
     "name": "stdout",
     "output_type": "stream",
     "text": [
      "8\n"
     ]
    }
   ],
   "source": [
    "Z = np.random.randint(0, 10, 50)\n",
    "print(np.bincount(Z).argmax())"
   ]
  },
  {
   "cell_type": "markdown",
   "id": "04f472aa",
   "metadata": {},
   "source": [
    "#### 84. Extract all the contiguous 3x3 blocks from a random 10x10 matrix (★★★)"
   ]
  },
  {
   "cell_type": "code",
   "execution_count": 48,
   "id": "7aade14a",
   "metadata": {},
   "outputs": [
    {
     "name": "stdout",
     "output_type": "stream",
     "text": [
      "[[[[4 7 2]\n",
      "   [1 8 1]\n",
      "   [1 5 3]]\n",
      "\n",
      "  [[7 2 7]\n",
      "   [8 1 2]\n",
      "   [5 3 9]]\n",
      "\n",
      "  [[2 7 2]\n",
      "   [1 2 4]\n",
      "   [3 9 4]]\n",
      "\n",
      "  [[7 2 5]\n",
      "   [2 4 8]\n",
      "   [9 4 3]]\n",
      "\n",
      "  [[2 5 4]\n",
      "   [4 8 6]\n",
      "   [4 3 2]]\n",
      "\n",
      "  [[5 4 9]\n",
      "   [8 6 2]\n",
      "   [3 2 4]]\n",
      "\n",
      "  [[4 9 0]\n",
      "   [6 2 0]\n",
      "   [2 4 5]]\n",
      "\n",
      "  [[9 0 1]\n",
      "   [2 0 5]\n",
      "   [4 5 6]]]\n",
      "\n",
      "\n",
      " [[[1 8 1]\n",
      "   [1 5 3]\n",
      "   [4 3 6]]\n",
      "\n",
      "  [[8 1 2]\n",
      "   [5 3 9]\n",
      "   [3 6 9]]\n",
      "\n",
      "  [[1 2 4]\n",
      "   [3 9 4]\n",
      "   [6 9 6]]\n",
      "\n",
      "  [[2 4 8]\n",
      "   [9 4 3]\n",
      "   [9 6 9]]\n",
      "\n",
      "  [[4 8 6]\n",
      "   [4 3 2]\n",
      "   [6 9 6]]\n",
      "\n",
      "  [[8 6 2]\n",
      "   [3 2 4]\n",
      "   [9 6 3]]\n",
      "\n",
      "  [[6 2 0]\n",
      "   [2 4 5]\n",
      "   [6 3 5]]\n",
      "\n",
      "  [[2 0 5]\n",
      "   [4 5 6]\n",
      "   [3 5 1]]]\n",
      "\n",
      "\n",
      " [[[1 5 3]\n",
      "   [4 3 6]\n",
      "   [1 5 6]]\n",
      "\n",
      "  [[5 3 9]\n",
      "   [3 6 9]\n",
      "   [5 6 7]]\n",
      "\n",
      "  [[3 9 4]\n",
      "   [6 9 6]\n",
      "   [6 7 1]]\n",
      "\n",
      "  [[9 4 3]\n",
      "   [9 6 9]\n",
      "   [7 1 1]]\n",
      "\n",
      "  [[4 3 2]\n",
      "   [6 9 6]\n",
      "   [1 1 4]]\n",
      "\n",
      "  [[3 2 4]\n",
      "   [9 6 3]\n",
      "   [1 4 9]]\n",
      "\n",
      "  [[2 4 5]\n",
      "   [6 3 5]\n",
      "   [4 9 1]]\n",
      "\n",
      "  [[4 5 6]\n",
      "   [3 5 1]\n",
      "   [9 1 1]]]\n",
      "\n",
      "\n",
      " [[[4 3 6]\n",
      "   [1 5 6]\n",
      "   [3 6 1]]\n",
      "\n",
      "  [[3 6 9]\n",
      "   [5 6 7]\n",
      "   [6 1 7]]\n",
      "\n",
      "  [[6 9 6]\n",
      "   [6 7 1]\n",
      "   [1 7 6]]\n",
      "\n",
      "  [[9 6 9]\n",
      "   [7 1 1]\n",
      "   [7 6 9]]\n",
      "\n",
      "  [[6 9 6]\n",
      "   [1 1 4]\n",
      "   [6 9 6]]\n",
      "\n",
      "  [[9 6 3]\n",
      "   [1 4 9]\n",
      "   [9 6 9]]\n",
      "\n",
      "  [[6 3 5]\n",
      "   [4 9 1]\n",
      "   [6 9 7]]\n",
      "\n",
      "  [[3 5 1]\n",
      "   [9 1 1]\n",
      "   [9 7 8]]]\n",
      "\n",
      "\n",
      " [[[1 5 6]\n",
      "   [3 6 1]\n",
      "   [1 8 8]]\n",
      "\n",
      "  [[5 6 7]\n",
      "   [6 1 7]\n",
      "   [8 8 8]]\n",
      "\n",
      "  [[6 7 1]\n",
      "   [1 7 6]\n",
      "   [8 8 3]]\n",
      "\n",
      "  [[7 1 1]\n",
      "   [7 6 9]\n",
      "   [8 3 9]]\n",
      "\n",
      "  [[1 1 4]\n",
      "   [6 9 6]\n",
      "   [3 9 1]]\n",
      "\n",
      "  [[1 4 9]\n",
      "   [9 6 9]\n",
      "   [9 1 8]]\n",
      "\n",
      "  [[4 9 1]\n",
      "   [6 9 7]\n",
      "   [1 8 9]]\n",
      "\n",
      "  [[9 1 1]\n",
      "   [9 7 8]\n",
      "   [8 9 3]]]\n",
      "\n",
      "\n",
      " [[[3 6 1]\n",
      "   [1 8 8]\n",
      "   [8 7 5]]\n",
      "\n",
      "  [[6 1 7]\n",
      "   [8 8 8]\n",
      "   [7 5 5]]\n",
      "\n",
      "  [[1 7 6]\n",
      "   [8 8 3]\n",
      "   [5 5 3]]\n",
      "\n",
      "  [[7 6 9]\n",
      "   [8 3 9]\n",
      "   [5 3 0]]\n",
      "\n",
      "  [[6 9 6]\n",
      "   [3 9 1]\n",
      "   [3 0 5]]\n",
      "\n",
      "  [[9 6 9]\n",
      "   [9 1 8]\n",
      "   [0 5 3]]\n",
      "\n",
      "  [[6 9 7]\n",
      "   [1 8 9]\n",
      "   [5 3 3]]\n",
      "\n",
      "  [[9 7 8]\n",
      "   [8 9 3]\n",
      "   [3 3 8]]]\n",
      "\n",
      "\n",
      " [[[1 8 8]\n",
      "   [8 7 5]\n",
      "   [6 5 9]]\n",
      "\n",
      "  [[8 8 8]\n",
      "   [7 5 5]\n",
      "   [5 9 1]]\n",
      "\n",
      "  [[8 8 3]\n",
      "   [5 5 3]\n",
      "   [9 1 8]]\n",
      "\n",
      "  [[8 3 9]\n",
      "   [5 3 0]\n",
      "   [1 8 0]]\n",
      "\n",
      "  [[3 9 1]\n",
      "   [3 0 5]\n",
      "   [8 0 1]]\n",
      "\n",
      "  [[9 1 8]\n",
      "   [0 5 3]\n",
      "   [0 1 5]]\n",
      "\n",
      "  [[1 8 9]\n",
      "   [5 3 3]\n",
      "   [1 5 2]]\n",
      "\n",
      "  [[8 9 3]\n",
      "   [3 3 8]\n",
      "   [5 2 4]]]\n",
      "\n",
      "\n",
      " [[[8 7 5]\n",
      "   [6 5 9]\n",
      "   [0 8 9]]\n",
      "\n",
      "  [[7 5 5]\n",
      "   [5 9 1]\n",
      "   [8 9 6]]\n",
      "\n",
      "  [[5 5 3]\n",
      "   [9 1 8]\n",
      "   [9 6 6]]\n",
      "\n",
      "  [[5 3 0]\n",
      "   [1 8 0]\n",
      "   [6 6 9]]\n",
      "\n",
      "  [[3 0 5]\n",
      "   [8 0 1]\n",
      "   [6 9 0]]\n",
      "\n",
      "  [[0 5 3]\n",
      "   [0 1 5]\n",
      "   [9 0 2]]\n",
      "\n",
      "  [[5 3 3]\n",
      "   [1 5 2]\n",
      "   [0 2 6]]\n",
      "\n",
      "  [[3 3 8]\n",
      "   [5 2 4]\n",
      "   [2 6 4]]]]\n"
     ]
    }
   ],
   "source": [
    "Z = np.random.randint(0, 10, (10, 10))\n",
    "blocks = np.lib.stride_tricks.sliding_window_view(Z, (3, 3))\n",
    "print(blocks)\n"
   ]
  },
  {
   "cell_type": "markdown",
   "id": "52836346",
   "metadata": {},
   "source": [
    "#### 85. Create a 2D array subclass such that Z[i,j] == Z[j,i] (★★★)"
   ]
  },
  {
   "cell_type": "code",
   "execution_count": 51,
   "id": "4df70318",
   "metadata": {},
   "outputs": [
    {
     "name": "stdout",
     "output_type": "stream",
     "text": [
      "[[ 4 11  8  4 15]\n",
      " [11  8  8  7  9]\n",
      " [ 8  8  2 42 10]\n",
      " [ 4  7 42  1 12]\n",
      " [15  9 10 12  8]]\n"
     ]
    }
   ],
   "source": [
    "class Symetric(np.ndarray):\n",
    "    def __setitem__(self, index, value):\n",
    "        i,j = index\n",
    "        super(Symetric, self).__setitem__((i,j), value)\n",
    "        super(Symetric, self).__setitem__((j,i), value)\n",
    "\n",
    "def symetric(Z):\n",
    "    return np.asarray(Z + Z.T - np.diag(Z.diagonal())).view(Symetric)\n",
    "\n",
    "S = symetric(np.random.randint(0,10,(5,5)))\n",
    "S[2,3] = 42\n",
    "print(S)"
   ]
  },
  {
   "cell_type": "markdown",
   "id": "78c43ee5",
   "metadata": {},
   "source": [
    "#### 86. Consider a set of p matrices with shape (n,n) and a set of p vectors with shape (n,1). How to compute the sum of of the p matrix products at once? (result has shape (n,1)) (★★★)"
   ]
  },
  {
   "cell_type": "code",
   "execution_count": 52,
   "id": "32fd2c3b",
   "metadata": {},
   "outputs": [
    {
     "name": "stdout",
     "output_type": "stream",
     "text": [
      "[[2.66747571]\n",
      " [3.07118728]\n",
      " [3.07063615]\n",
      " [2.53692559]]\n"
     ]
    }
   ],
   "source": [
    "M = np.random.rand(3, 4, 4)\n",
    "V = np.random.rand(3, 4, 1)\n",
    "result = np.einsum('ijk,ikl->jl', M, V)\n",
    "print(result)"
   ]
  },
  {
   "cell_type": "markdown",
   "id": "158f9945",
   "metadata": {},
   "source": [
    "#### 87. Consider a 16x16 array, how to get the block-sum (block size is 4x4)? (★★★)"
   ]
  },
  {
   "cell_type": "code",
   "execution_count": 53,
   "id": "5a9b808f",
   "metadata": {},
   "outputs": [
    {
     "name": "stdout",
     "output_type": "stream",
     "text": [
      "[[16. 16. 16. 16.]\n",
      " [16. 16. 16. 16.]\n",
      " [16. 16. 16. 16.]\n",
      " [16. 16. 16. 16.]]\n"
     ]
    }
   ],
   "source": [
    "Z = np.ones((16, 16))\n",
    "S = np.add.reduceat(np.add.reduceat(Z, np.arange(0, Z.shape[0], 4), axis=0),\n",
    "                    np.arange(0, Z.shape[1], 4), axis=1)\n",
    "print(S)\n"
   ]
  },
  {
   "cell_type": "markdown",
   "id": "2e0ad860",
   "metadata": {},
   "source": [
    "#### 88. How to implement the Game of Life using numpy arrays? (★★★)"
   ]
  },
  {
   "cell_type": "code",
   "execution_count": 54,
   "id": "574acff5",
   "metadata": {},
   "outputs": [
    {
     "name": "stdout",
     "output_type": "stream",
     "text": [
      "[[ True False False False False False False False False False]\n",
      " [False False False False False False False False False False]\n",
      " [False False False False False False False  True False  True]\n",
      " [False False False  True False False False False False  True]\n",
      " [False  True  True False False False False  True False False]\n",
      " [False  True False False False False False False False  True]\n",
      " [False False  True False  True False False False False False]\n",
      " [False False  True False False False False False False False]\n",
      " [ True False False  True False False False False False  True]\n",
      " [False False False False False False False False False False]]\n",
      "[[False False False False False False False False False False]\n",
      " [False False False False False False False False False False]\n",
      " [False False False False False False False False False False]\n",
      " [False False False False False False False False False False]\n",
      " [False False False False False False False False False False]\n",
      " [False False False False False False False False False False]\n",
      " [False False False False False False False False False False]\n",
      " [False False False False False False False False False False]\n",
      " [False False False False False False False False False False]\n",
      " [False False False False False False False False False False]]\n",
      "[[False False False False False False False False False False]\n",
      " [False False False False False False False False False False]\n",
      " [False False False False False False False False False False]\n",
      " [False False False False False False False False False False]\n",
      " [False False False False False False False False False False]\n",
      " [False False False False False False False False False False]\n",
      " [False False False False False False False False False False]\n",
      " [False False False False False False False False False False]\n",
      " [False False False False False False False False False False]\n",
      " [False False False False False False False False False False]]\n",
      "[[False False False False False False False False False False]\n",
      " [False False False False False False False False False False]\n",
      " [False False False False False False False False False False]\n",
      " [False False False False False False False False False False]\n",
      " [False False False False False False False False False False]\n",
      " [False False False False False False False False False False]\n",
      " [False False False False False False False False False False]\n",
      " [False False False False False False False False False False]\n",
      " [False False False False False False False False False False]\n",
      " [False False False False False False False False False False]]\n",
      "[[False False False False False False False False False False]\n",
      " [False False False False False False False False False False]\n",
      " [False False False False False False False False False False]\n",
      " [False False False False False False False False False False]\n",
      " [False False False False False False False False False False]\n",
      " [False False False False False False False False False False]\n",
      " [False False False False False False False False False False]\n",
      " [False False False False False False False False False False]\n",
      " [False False False False False False False False False False]\n",
      " [False False False False False False False False False False]]\n"
     ]
    }
   ],
   "source": [
    "def iterate(Z):\n",
    "    N = (np.roll(Z, 1, axis=0) + np.roll(Z, -1, axis=0) +\n",
    "         np.roll(Z, 1, axis=1) + np.roll(Z, -1, axis=1) +\n",
    "         np.roll(Z, (1, 1), axis=(0, 1)) + np.roll(Z, (1, -1), axis=(0, 1)) +\n",
    "         np.roll(Z, (-1, 1), axis=(0, 1)) + np.roll(Z, (-1, -1), axis=(0, 1)))\n",
    "    return (N == 3) | ((Z == 1) & (N == 2))\n",
    "\n",
    "Z = np.random.randint(0, 2, (10, 10))\n",
    "for i in range(5):\n",
    "    Z = iterate(Z)\n",
    "    print(Z)\n"
   ]
  },
  {
   "cell_type": "markdown",
   "id": "69a892fa",
   "metadata": {},
   "source": [
    "#### 89. How to get the n largest values of an array (★★★)"
   ]
  },
  {
   "cell_type": "code",
   "execution_count": 55,
   "id": "21b2bd48",
   "metadata": {},
   "outputs": [
    {
     "name": "stdout",
     "output_type": "stream",
     "text": [
      "[86 97 99]\n"
     ]
    }
   ],
   "source": [
    "Z = np.random.randint(0, 100, 10)\n",
    "n = 3\n",
    "print(np.sort(Z)[-n:])"
   ]
  },
  {
   "cell_type": "markdown",
   "id": "b55ccacc",
   "metadata": {},
   "source": [
    "#### 90. Given an arbitrary number of vectors, build the cartesian product (every combinations of every item) (★★★)"
   ]
  },
  {
   "cell_type": "code",
   "execution_count": 56,
   "id": "4b645da4",
   "metadata": {},
   "outputs": [
    {
     "name": "stdout",
     "output_type": "stream",
     "text": [
      "[[1 4 6]\n",
      " [1 4 7]\n",
      " [1 5 6]\n",
      " [1 5 7]\n",
      " [2 4 6]\n",
      " [2 4 7]\n",
      " [2 5 6]\n",
      " [2 5 7]\n",
      " [3 4 6]\n",
      " [3 4 7]\n",
      " [3 5 6]\n",
      " [3 5 7]]\n"
     ]
    }
   ],
   "source": [
    "import itertools\n",
    "A = [1, 2, 3]\n",
    "B = [4, 5]\n",
    "C = [6, 7]\n",
    "print(np.array(list(itertools.product(A, B, C))))"
   ]
  },
  {
   "cell_type": "markdown",
   "id": "89187a23",
   "metadata": {},
   "source": [
    "#### 91. How to create a record array from a regular array? (★★★)"
   ]
  },
  {
   "cell_type": "code",
   "execution_count": 57,
   "id": "da94c71a",
   "metadata": {},
   "outputs": [
    {
     "name": "stdout",
     "output_type": "stream",
     "text": [
      "((1, 2., 3.), (4, 5., 6.))\n"
     ]
    }
   ],
   "source": [
    "Z = np.array([(1, 2.0, 3), (4, 5.0, 6)], dtype='i8,f8,f8')\n",
    "R = np.core.records.fromarrays(Z.T)\n",
    "print(R)"
   ]
  },
  {
   "cell_type": "markdown",
   "id": "aa70d4ca",
   "metadata": {},
   "source": [
    "#### 92. Consider a large vector Z, compute Z to the power of 3 using 3 different methods (★★★)"
   ]
  },
  {
   "cell_type": "code",
   "execution_count": 58,
   "id": "7cff1bf5",
   "metadata": {},
   "outputs": [
    {
     "name": "stdout",
     "output_type": "stream",
     "text": [
      "[ 0  1  8 27 64]\n",
      "[ 0  1  8 27 64]\n",
      "[ 0  1  8 27 64]\n"
     ]
    }
   ],
   "source": [
    "Z = np.arange(5)\n",
    "print(Z**3)  # Method 1\n",
    "print(np.power(Z, 3))  # Method 2\n",
    "print(np.einsum('i,i,i->i', Z, Z, Z))  # Method 3"
   ]
  },
  {
   "cell_type": "markdown",
   "id": "5f79dd00",
   "metadata": {},
   "source": [
    "#### 93. Consider two arrays A and B of shape (8,3) and (2,2). How to find rows of A that contain elements of each row of B regardless of the order of the elements in B? (★★★)"
   ]
  },
  {
   "cell_type": "code",
   "execution_count": 59,
   "id": "20c105b2",
   "metadata": {},
   "outputs": [
    {
     "name": "stdout",
     "output_type": "stream",
     "text": [
      "[]\n"
     ]
    }
   ],
   "source": [
    "A = np.random.randint(0, 5, (8, 3))\n",
    "B = np.random.randint(0, 5, (2, 2))\n",
    "print([row for row in A if all(elem in row for elem in B.flatten())])"
   ]
  },
  {
   "cell_type": "markdown",
   "id": "a80570cd",
   "metadata": {},
   "source": [
    "#### 94. Considering a 10x3 matrix, extract rows with unequal values (e.g. [2,2,3]) (★★★)"
   ]
  },
  {
   "cell_type": "code",
   "execution_count": 60,
   "id": "84db8de1",
   "metadata": {},
   "outputs": [
    {
     "name": "stdout",
     "output_type": "stream",
     "text": [
      "[[1 2 3]\n",
      " [3 4 1]\n",
      " [3 3 1]\n",
      " [4 0 1]\n",
      " [2 1 4]\n",
      " [0 1 1]\n",
      " [0 2 0]\n",
      " [2 3 2]\n",
      " [3 1 0]\n",
      " [0 2 0]]\n"
     ]
    }
   ],
   "source": [
    "Z = np.random.randint(0, 5, (10, 3))\n",
    "print(Z[Z.max(axis=1) != Z.min(axis=1)])\n"
   ]
  },
  {
   "cell_type": "markdown",
   "id": "ba154f43",
   "metadata": {},
   "source": [
    "#### 95. Convert a vector of ints into a matrix binary representation (★★★)"
   ]
  },
  {
   "cell_type": "code",
   "execution_count": 61,
   "id": "cfa96e1b",
   "metadata": {},
   "outputs": [
    {
     "name": "stdout",
     "output_type": "stream",
     "text": [
      "[[0 0 0 0 0 0 0 0]\n",
      " [1 0 0 0 0 0 0 0]\n",
      " [0 1 0 0 0 0 0 0]\n",
      " [1 1 0 0 0 0 0 0]\n",
      " [0 0 1 0 0 0 0 0]\n",
      " [1 0 1 0 0 0 0 0]]\n"
     ]
    }
   ],
   "source": [
    "Z = np.array([0, 1, 2, 3, 4, 5])\n",
    "print(((Z[:, None] & (1 << np.arange(8))) > 0).astype(int))"
   ]
  },
  {
   "cell_type": "markdown",
   "id": "420e2343",
   "metadata": {},
   "source": [
    "#### 96. Given a two dimensional array, how to extract unique rows? (★★★)"
   ]
  },
  {
   "cell_type": "code",
   "execution_count": 62,
   "id": "4680dfd0",
   "metadata": {},
   "outputs": [
    {
     "name": "stdout",
     "output_type": "stream",
     "text": [
      "[[0 0 0]\n",
      " [0 1 0]\n",
      " [0 1 1]\n",
      " [1 0 0]\n",
      " [1 1 0]\n",
      " [1 1 1]]\n"
     ]
    }
   ],
   "source": [
    "Z = np.random.randint(0, 2, (6, 3))\n",
    "print(np.unique(Z, axis=0))"
   ]
  },
  {
   "cell_type": "markdown",
   "id": "89fef2f3",
   "metadata": {},
   "source": [
    "#### 97. Considering 2 vectors A & B, write the einsum equivalent of inner, outer, sum, and mul function (★★★)"
   ]
  },
  {
   "cell_type": "code",
   "execution_count": 63,
   "id": "bb9c14b2",
   "metadata": {},
   "outputs": [
    {
     "name": "stdout",
     "output_type": "stream",
     "text": [
      "32\n",
      "[[ 4  5  6]\n",
      " [ 8 10 12]\n",
      " [12 15 18]]\n",
      "6\n",
      "[ 4 10 18]\n"
     ]
    }
   ],
   "source": [
    "A = np.array([1, 2, 3])\n",
    "B = np.array([4, 5, 6])\n",
    "print(np.einsum('i,i->', A, B))  # Inner\n",
    "print(np.einsum('i,j->ij', A, B))  # Outer\n",
    "print(np.einsum('i->', A))  # Sum\n",
    "print(np.einsum('i,i->i', A, B))  # Element-wise"
   ]
  },
  {
   "cell_type": "markdown",
   "id": "7ad5cc5f",
   "metadata": {},
   "source": [
    "#### 98. Considering a path described by two vectors (X,Y), how to sample it using equidistant samples (★★★)?"
   ]
  },
  {
   "cell_type": "code",
   "execution_count": 46,
   "id": "0899d1d5",
   "metadata": {},
   "outputs": [
    {
     "name": "stdout",
     "output_type": "stream",
     "text": [
      "[[7 7 8]\n",
      " [9 9 8]\n",
      " [7 3 7]]\n"
     ]
    }
   ],
   "source": [
    "A = np.random.randint(0, 10, (3, 3))\n",
    "B = np.random.randint(0, 10, (3, 3))\n",
    "print(np.maximum(A, B))"
   ]
  },
  {
   "cell_type": "markdown",
   "id": "2b69272e",
   "metadata": {},
   "source": [
    "#### 99. Given an integer n and a 2D array X, select from X the rows which can be interpreted as draws from a multinomial distribution with n degrees, i.e., the rows which only contain integers and which sum to n. (★★★)"
   ]
  },
  {
   "cell_type": "code",
   "execution_count": 44,
   "id": "55c8b034",
   "metadata": {},
   "outputs": [
    {
     "name": "stdout",
     "output_type": "stream",
     "text": [
      "[[-2.         -0.66666667 -0.4        -0.28571429 -0.22222222 -0.18181818\n",
      "  -0.15384615 -0.13333333]\n",
      " [ 2.         -2.         -0.66666667 -0.4        -0.28571429 -0.22222222\n",
      "  -0.18181818 -0.15384615]\n",
      " [ 0.66666667  2.         -2.         -0.66666667 -0.4        -0.28571429\n",
      "  -0.22222222 -0.18181818]\n",
      " [ 0.4         0.66666667  2.         -2.         -0.66666667 -0.4\n",
      "  -0.28571429 -0.22222222]\n",
      " [ 0.28571429  0.4         0.66666667  2.         -2.         -0.66666667\n",
      "  -0.4        -0.28571429]\n",
      " [ 0.22222222  0.28571429  0.4         0.66666667  2.         -2.\n",
      "  -0.66666667 -0.4       ]\n",
      " [ 0.18181818  0.22222222  0.28571429  0.4         0.66666667  2.\n",
      "  -2.         -0.66666667]\n",
      " [ 0.15384615  0.18181818  0.22222222  0.28571429  0.4         0.66666667\n",
      "   2.         -2.        ]]\n"
     ]
    }
   ],
   "source": [
    "X = np.arange(8)\n",
    "Y = X + 0.5\n",
    "C = 1.0 / np.subtract.outer(X, Y)\n",
    "print(C)"
   ]
  },
  {
   "cell_type": "markdown",
   "id": "59ab5516",
   "metadata": {},
   "source": [
    "#### 100. Compute bootstrapped 95% confidence intervals for the mean of a 1D array X (i.e., resample the elements of an array with replacement N times, compute the mean of each sample, and then compute percentiles over the means). (★★★)"
   ]
  },
  {
   "cell_type": "code",
   "execution_count": 45,
   "id": "450877d8",
   "metadata": {},
   "outputs": [
    {
     "name": "stdout",
     "output_type": "stream",
     "text": [
      "(array([0, 1, 2, 3, 4, 5, 6, 7, 8, 9]), array([4, 5, 5, 8, 5, 5, 6, 1, 4, 7], dtype=int64))\n"
     ]
    }
   ],
   "source": [
    "Z = np.random.randint(0, 10, 50)\n",
    "print(np.unique(Z, return_counts=True))"
   ]
  },
  {
   "cell_type": "code",
   "execution_count": null,
   "id": "3e6e0180-537e-4a28-b47b-58980a077fae",
   "metadata": {},
   "outputs": [],
   "source": []
  }
 ],
 "metadata": {
  "kernelspec": {
   "display_name": "Python 3 (ipykernel)",
   "language": "python",
   "name": "python3"
  },
  "language_info": {
   "codemirror_mode": {
    "name": "ipython",
    "version": 3
   },
   "file_extension": ".py",
   "mimetype": "text/x-python",
   "name": "python",
   "nbconvert_exporter": "python",
   "pygments_lexer": "ipython3",
   "version": "3.11.7"
  }
 },
 "nbformat": 4,
 "nbformat_minor": 5
}
